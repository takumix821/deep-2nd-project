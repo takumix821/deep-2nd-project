{
 "cells": [
  {
   "cell_type": "markdown",
   "id": "5401a171",
   "metadata": {},
   "source": [
    "### Confirm Tensorflow Installation"
   ]
  },
  {
   "cell_type": "code",
   "execution_count": 17,
   "id": "304bcb56",
   "metadata": {},
   "outputs": [
    {
     "name": "stdout",
     "output_type": "stream",
     "text": [
      "2.6.0\n",
      "2.6.0\n"
     ]
    }
   ],
   "source": [
    "import tensorflow as tf\n",
    "import tensorflow.keras as keras\n",
    "print(tf.__version__)\n",
    "print(keras.__version__)"
   ]
  },
  {
   "cell_type": "markdown",
   "id": "e9702e06",
   "metadata": {},
   "source": [
    "### Importing the necessary modules"
   ]
  },
  {
   "cell_type": "code",
   "execution_count": 18,
   "id": "f9c932c1",
   "metadata": {},
   "outputs": [],
   "source": [
    "import numpy as np\n",
    "import os\n",
    "from os import listdir \n",
    "from os.path import isfile, join\n",
    "import cv2\n",
    "\n",
    "import tensorflow as tf\n",
    "import tensorflow.keras as keras\n"
   ]
  },
  {
   "cell_type": "markdown",
   "id": "02686e89",
   "metadata": {},
   "source": [
    "### Loading and Preprocessing"
   ]
  },
  {
   "cell_type": "code",
   "execution_count": 19,
   "id": "6e0278dc",
   "metadata": {},
   "outputs": [
    {
     "name": "stdout",
     "output_type": "stream",
     "text": [
      "found 50000 files.\n",
      "folder: ['0', '1', '2', '3', '4', '5', '6', '7', '8', '9']\n"
     ]
    }
   ],
   "source": [
    "#Data visiting – os.walk()\n",
    "\n",
    "label_folder = []\n",
    "total_size = 0\n",
    "data_path = r\"D:\\cifar10\\train\"\n",
    "\n",
    "#os.walk() generates the file names(dirpath, dirnames, filenames) \n",
    "#in a directory tree by walking the tree either top-down or bottom-up.\n",
    "for root, dirts, files in os.walk(data_path): \n",
    "    for dirt in dirts:\n",
    "        label_folder.append(dirt)\n",
    "    total_size += len(files)\n",
    "\n",
    "    \n",
    "print(\"found\",total_size,\"files.\")\n",
    "print(\"folder:\",label_folder)"
   ]
  },
  {
   "cell_type": "code",
   "execution_count": 20,
   "id": "ecec1475",
   "metadata": {},
   "outputs": [
    {
     "name": "stdout",
     "output_type": "stream",
     "text": [
      "(50000, 32, 32, 3)\n",
      "(50000,)\n"
     ]
    }
   ],
   "source": [
    "#Load image\n",
    "\n",
    "base_x_train = []\n",
    "base_y_train = []\n",
    "\n",
    "for i in range(len(label_folder)):\n",
    "    labelPath = data_path+r'\\\\'+label_folder[i]\n",
    "    \n",
    "    #listdir() returns a list containing the names of the entries in the directory given by path.\n",
    "    #isfile() is used to check whether the specified path is an existing regular file or not.\n",
    "    FileName = [f for f in listdir(labelPath) if isfile(join(labelPath, f))]\n",
    "    \n",
    "    for j in range(len(FileName)):\n",
    "        path = labelPath+r'\\\\'+FileName[j]\n",
    "        \n",
    "        #use cv2.imread read image.\n",
    "        img = cv2.imread(path,cv2.IMREAD_COLOR)\n",
    "        \n",
    "        base_x_train.append(img)\n",
    "        base_y_train.append(label_folder[i])\n",
    "\n",
    "\n",
    "print(np.array(base_x_train).shape)\n",
    "print(np.array(base_y_train).shape)\n",
    "        "
   ]
  },
  {
   "cell_type": "code",
   "execution_count": 21,
   "id": "4524f916",
   "metadata": {},
   "outputs": [
    {
     "name": "stdout",
     "output_type": "stream",
     "text": [
      "(50000, 32, 32, 3)\n",
      "(50000, 10)\n"
     ]
    }
   ],
   "source": [
    "from tensorflow.keras.utils import to_categorical\n",
    "\n",
    "#Convert a category vector to a binary (0 or 1) matrix-type representation\n",
    "\n",
    "base_y_train = to_categorical(base_y_train)\n",
    "\n",
    "\n",
    "print(np.array(base_x_train).shape)\n",
    "print(np.array(base_y_train).shape)\n",
    "        "
   ]
  },
  {
   "cell_type": "markdown",
   "id": "bbef7560",
   "metadata": {},
   "source": [
    "### Splitting the Data into training and validation data"
   ]
  },
  {
   "cell_type": "code",
   "execution_count": 22,
   "id": "d8b2f1af",
   "metadata": {},
   "outputs": [
    {
     "name": "stdout",
     "output_type": "stream",
     "text": [
      "Training data: (40000, 32, 32, 3) (40000, 10)\n",
      "Validation data: (10000, 32, 32, 3) (10000, 10)\n"
     ]
    }
   ],
   "source": [
    "# Split into training and validation sets\n",
    "from sklearn.model_selection import train_test_split\n",
    "x_train, x_valid, y_train, y_valid = train_test_split( \\\n",
    "    np.array(base_x_train), np.array(base_y_train), test_size=0.2, random_state = 0)\n",
    "\n",
    "print(\"Training data:\", x_train.shape, y_train.shape)\n",
    "print(\"Validation data:\", x_valid.shape, y_valid.shape)"
   ]
  },
  {
   "cell_type": "markdown",
   "id": "845fcdd8",
   "metadata": {},
   "source": [
    "### Show the image"
   ]
  },
  {
   "cell_type": "code",
   "execution_count": 23,
   "id": "cee274df",
   "metadata": {
    "scrolled": true
   },
   "outputs": [
    {
     "data": {
      "image/png": "[encoded data removed]",
      "text/plain": [
       "<Figure size 432x288 with 1 Axes>"
      ]
     },
     "metadata": {
      "needs_background": "light"
     },
     "output_type": "display_data"
    },
    {
     "name": "stdout",
     "output_type": "stream",
     "text": [
      "Answer: 0\n",
      "Answer(one-hot): [1. 0. 0. 0. 0. 0. 0. 0. 0. 0.]\n"
     ]
    }
   ],
   "source": [
    "import random\n",
    "import matplotlib.pyplot as plt\n",
    "\n",
    "idx = random.randint(0, x_train.shape[0])\n",
    "plt.imshow(x_train[idx])\n",
    "plt.show()\n",
    "\n",
    "print(\"Answer:\", np.argmax(y_train[idx]))\n",
    "print(\"Answer(one-hot):\", y_train[idx])"
   ]
  },
  {
   "cell_type": "markdown",
   "id": "03800027",
   "metadata": {},
   "source": [
    "### Build the network"
   ]
  },
  {
   "cell_type": "markdown",
   "id": "c16d57f1",
   "metadata": {},
   "source": [
    "You can show the detail for it:"
   ]
  },
  {
   "cell_type": "code",
   "execution_count": 24,
   "id": "8d5c1e62",
   "metadata": {},
   "outputs": [],
   "source": [
    "model = tf.keras.models.Sequential([\n",
    "    tf.keras.layers.Conv2D(64, (3, 3), padding=\"same\", activation='relu', input_shape=(32, 32, 3)),\n",
    "    tf.keras.layers.Conv2D(64, (3, 3), padding=\"same\", activation='relu'),\n",
    "    tf.keras.layers.MaxPool2D(),\n",
    "    tf.keras.layers.Conv2D(128, (3, 3), padding=\"same\", activation='relu'),\n",
    "    tf.keras.layers.Conv2D(128, (3, 3), padding=\"same\", activation='relu'),\n",
    "    tf.keras.layers.MaxPool2D(),\n",
    "    tf.keras.layers.Conv2D(256, (4, 4), padding=\"same\", activation='relu'),\n",
    "    tf.keras.layers.Conv2D(256, (4, 4), padding=\"same\", activation='relu'),\n",
    "    tf.keras.layers.MaxPool2D(),\n",
    "    tf.keras.layers.Flatten(),\n",
    "    tf.keras.layers.Dense(128, activation='sigmoid'),\n",
    "    tf.keras.layers.Dense(128, activation='sigmoid'),\n",
    "    tf.keras.layers.Dense(10, activation='softmax')\n",
    "])"
   ]
  },
  {
   "cell_type": "code",
   "execution_count": 25,
   "id": "f278291a",
   "metadata": {},
   "outputs": [
    {
     "name": "stdout",
     "output_type": "stream",
     "text": [
      "Model: \"sequential_2\"\n",
      "_________________________________________________________________\n",
      "Layer (type)                 Output Shape              Param #   \n",
      "=================================================================\n",
      "conv2d_12 (Conv2D)           (None, 32, 32, 64)        1792      \n",
      "_________________________________________________________________\n",
      "conv2d_13 (Conv2D)           (None, 32, 32, 64)        36928     \n",
      "_________________________________________________________________\n",
      "max_pooling2d_6 (MaxPooling2 (None, 16, 16, 64)        0         \n",
      "_________________________________________________________________\n",
      "conv2d_14 (Conv2D)           (None, 16, 16, 128)       73856     \n",
      "_________________________________________________________________\n",
      "conv2d_15 (Conv2D)           (None, 16, 16, 128)       147584    \n",
      "_________________________________________________________________\n",
      "max_pooling2d_7 (MaxPooling2 (None, 8, 8, 128)         0         \n",
      "_________________________________________________________________\n",
      "conv2d_16 (Conv2D)           (None, 8, 8, 256)         524544    \n",
      "_________________________________________________________________\n",
      "conv2d_17 (Conv2D)           (None, 8, 8, 256)         1048832   \n",
      "_________________________________________________________________\n",
      "max_pooling2d_8 (MaxPooling2 (None, 4, 4, 256)         0         \n",
      "_________________________________________________________________\n",
      "flatten_2 (Flatten)          (None, 4096)              0         \n",
      "_________________________________________________________________\n",
      "dense_6 (Dense)              (None, 128)               524416    \n",
      "_________________________________________________________________\n",
      "dense_7 (Dense)              (None, 128)               16512     \n",
      "_________________________________________________________________\n",
      "dense_8 (Dense)              (None, 10)                1290      \n",
      "=================================================================\n",
      "Total params: 2,375,754\n",
      "Trainable params: 2,375,754\n",
      "Non-trainable params: 0\n",
      "_________________________________________________________________\n",
      "None\n"
     ]
    }
   ],
   "source": [
    "print(model.summary())"
   ]
  },
  {
   "cell_type": "markdown",
   "id": "77060e81",
   "metadata": {},
   "source": [
    "### Training the network"
   ]
  },
  {
   "cell_type": "code",
   "execution_count": 26,
   "id": "5bd9f24f",
   "metadata": {},
   "outputs": [
    {
     "name": "stdout",
     "output_type": "stream",
     "text": [
      "Epoch 1/15\n",
      "1334/1334 [==============================] - 118s 88ms/step - loss: 1.9979 - accuracy: 0.3019 - val_loss: 1.7998 - val_accuracy: 0.3651\n",
      "Epoch 2/15\n",
      "1334/1334 [==============================] - 123s 93ms/step - loss: 1.5762 - accuracy: 0.4495 - val_loss: 1.4306 - val_accuracy: 0.4982\n",
      "Epoch 3/15\n",
      "1334/1334 [==============================] - 121s 91ms/step - loss: 1.3079 - accuracy: 0.5460 - val_loss: 1.8971 - val_accuracy: 0.3319\n",
      "Epoch 4/15\n",
      "1334/1334 [==============================] - 119s 90ms/step - loss: 1.0947 - accuracy: 0.6209 - val_loss: 1.1407 - val_accuracy: 0.6041\n",
      "Epoch 5/15\n",
      "1334/1334 [==============================] - 117s 88ms/step - loss: 0.9281 - accuracy: 0.6830 - val_loss: 0.9460 - val_accuracy: 0.6734\n",
      "Epoch 6/15\n",
      "1334/1334 [==============================] - 122s 92ms/step - loss: 0.7817 - accuracy: 0.7333 - val_loss: 0.8072 - val_accuracy: 0.7191\n",
      "Epoch 7/15\n",
      "1334/1334 [==============================] - 116s 87ms/step - loss: 0.6521 - accuracy: 0.7794 - val_loss: 0.7969 - val_accuracy: 0.7260\n",
      "Epoch 8/15\n",
      "1334/1334 [==============================] - 118s 88ms/step - loss: 0.5369 - accuracy: 0.8236 - val_loss: 0.9457 - val_accuracy: 0.6692\n",
      "Epoch 9/15\n",
      "1334/1334 [==============================] - 118s 88ms/step - loss: 0.4207 - accuracy: 0.8668 - val_loss: 0.7547 - val_accuracy: 0.7439\n",
      "Epoch 10/15\n",
      "1334/1334 [==============================] - 117s 87ms/step - loss: 0.3068 - accuracy: 0.9094 - val_loss: 0.7167 - val_accuracy: 0.7590\n",
      "Epoch 11/15\n",
      "1334/1334 [==============================] - 114s 86ms/step - loss: 0.1994 - accuracy: 0.9498 - val_loss: 0.6882 - val_accuracy: 0.7711\n",
      "Epoch 12/15\n",
      "1334/1334 [==============================] - 117s 88ms/step - loss: 0.1097 - accuracy: 0.9804 - val_loss: 0.7132 - val_accuracy: 0.7693\n",
      "Epoch 13/15\n",
      "1334/1334 [==============================] - 115s 86ms/step - loss: 0.0530 - accuracy: 0.9958 - val_loss: 0.7031 - val_accuracy: 0.7845\n",
      "Epoch 14/15\n",
      "1334/1334 [==============================] - 116s 87ms/step - loss: 0.0269 - accuracy: 0.9991 - val_loss: 0.6967 - val_accuracy: 0.7909\n",
      "Epoch 15/15\n",
      "1334/1334 [==============================] - 117s 88ms/step - loss: 0.0173 - accuracy: 0.9997 - val_loss: 0.7030 - val_accuracy: 0.7936\n"
     ]
    }
   ],
   "source": [
    "epoch = 15\n",
    "batch_size = 30\n",
    "\n",
    "model.compile(\n",
    "    loss=\"categorical_crossentropy\", \n",
    "    optimizer=\"sgd\", \n",
    "    metrics=[\"accuracy\"]\n",
    ")\n",
    "history = model.fit(\n",
    "    x_train, \n",
    "    y_train, \n",
    "    epochs=epoch, \n",
    "    batch_size=batch_size,\n",
    "    validation_data=(x_valid, y_valid)\n",
    ")"
   ]
  },
  {
   "cell_type": "markdown",
   "id": "5fc5dedd",
   "metadata": {},
   "source": [
    "### Saving the trained weights"
   ]
  },
  {
   "cell_type": "code",
   "execution_count": 27,
   "id": "073526c9",
   "metadata": {},
   "outputs": [],
   "source": [
    "model.save(\"my_model2.hdf5\")"
   ]
  },
  {
   "cell_type": "code",
   "execution_count": 28,
   "id": "6411dfa2",
   "metadata": {},
   "outputs": [],
   "source": [
    "from tensorflow.keras.models import load_model\n",
    "model2 = load_model(\"my_model2.hdf5\")"
   ]
  },
  {
   "cell_type": "code",
   "execution_count": 29,
   "id": "ef54cef5",
   "metadata": {},
   "outputs": [
    {
     "name": "stdout",
     "output_type": "stream",
     "text": [
      "Model: \"sequential_2\"\n",
      "_________________________________________________________________\n",
      "Layer (type)                 Output Shape              Param #   \n",
      "=================================================================\n",
      "conv2d_12 (Conv2D)           (None, 32, 32, 64)        1792      \n",
      "_________________________________________________________________\n",
      "conv2d_13 (Conv2D)           (None, 32, 32, 64)        36928     \n",
      "_________________________________________________________________\n",
      "max_pooling2d_6 (MaxPooling2 (None, 16, 16, 64)        0         \n",
      "_________________________________________________________________\n",
      "conv2d_14 (Conv2D)           (None, 16, 16, 128)       73856     \n",
      "_________________________________________________________________\n",
      "conv2d_15 (Conv2D)           (None, 16, 16, 128)       147584    \n",
      "_________________________________________________________________\n",
      "max_pooling2d_7 (MaxPooling2 (None, 8, 8, 128)         0         \n",
      "_________________________________________________________________\n",
      "conv2d_16 (Conv2D)           (None, 8, 8, 256)         524544    \n",
      "_________________________________________________________________\n",
      "conv2d_17 (Conv2D)           (None, 8, 8, 256)         1048832   \n",
      "_________________________________________________________________\n",
      "max_pooling2d_8 (MaxPooling2 (None, 4, 4, 256)         0         \n",
      "_________________________________________________________________\n",
      "flatten_2 (Flatten)          (None, 4096)              0         \n",
      "_________________________________________________________________\n",
      "dense_6 (Dense)              (None, 128)               524416    \n",
      "_________________________________________________________________\n",
      "dense_7 (Dense)              (None, 128)               16512     \n",
      "_________________________________________________________________\n",
      "dense_8 (Dense)              (None, 10)                1290      \n",
      "=================================================================\n",
      "Total params: 2,375,754\n",
      "Trainable params: 2,375,754\n",
      "Non-trainable params: 0\n",
      "_________________________________________________________________\n"
     ]
    }
   ],
   "source": [
    "model2.summary()"
   ]
  },
  {
   "cell_type": "code",
   "execution_count": 30,
   "id": "8438b272",
   "metadata": {},
   "outputs": [],
   "source": [
    "y_hat = model2.predict(x_valid)"
   ]
  },
  {
   "cell_type": "code",
   "execution_count": 31,
   "id": "38e211c4",
   "metadata": {},
   "outputs": [
    {
     "data": {
      "text/plain": [
       "array([2., 3., 9., ..., 9., 7., 0.])"
      ]
     },
     "execution_count": 31,
     "metadata": {},
     "output_type": "execute_result"
    }
   ],
   "source": [
    "# 將output改為標籤\n",
    "output_y = np.zeros(y_hat.shape[0])\n",
    "\n",
    "for i in range(y_hat.shape[0]):\n",
    "    for j in range(y_hat.shape[1]):\n",
    "        if y_hat[i, j] >= max(y_hat[i, ]):\n",
    "            output_y[i] = j\n",
    "\n",
    "output_y"
   ]
  },
  {
   "cell_type": "code",
   "execution_count": 32,
   "id": "0ccc3cb7",
   "metadata": {},
   "outputs": [
    {
     "data": {
      "text/plain": [
       "array([2., 3., 9., ..., 9., 7., 0.])"
      ]
     },
     "execution_count": 32,
     "metadata": {},
     "output_type": "execute_result"
    }
   ],
   "source": [
    "output_yv = np.zeros(y_valid.shape[0])\n",
    "\n",
    "for i in range(y_valid.shape[0]):\n",
    "    for j in range(y_valid.shape[1]):\n",
    "        if y_valid[i, j] >= max(y_valid[i, ]):\n",
    "            output_yv[i] = j\n",
    "\n",
    "output_yv"
   ]
  },
  {
   "cell_type": "code",
   "execution_count": 33,
   "id": "5f1f4fe3",
   "metadata": {},
   "outputs": [
    {
     "data": {
      "text/plain": [
       "0.7936"
      ]
     },
     "execution_count": 33,
     "metadata": {},
     "output_type": "execute_result"
    }
   ],
   "source": [
    "sum(output_y == output_yv) / len(output_y)"
   ]
  },
  {
   "cell_type": "code",
   "execution_count": 34,
   "id": "4a729bea",
   "metadata": {},
   "outputs": [
    {
     "name": "stdout",
     "output_type": "stream",
     "text": [
      "found 10000 files.\n",
      "folder: ['0', '1', '2', '3', '4', '5', '6', '7', '8', '9']\n"
     ]
    }
   ],
   "source": [
    "label_folder = []\n",
    "total_size = 0\n",
    "data_path = r\"D:\\cifar10\\test\"\n",
    "\n",
    "#os.walk() generates the file names(dirpath, dirnames, filenames) \n",
    "#in a directory tree by walking the tree either top-down or bottom-up.\n",
    "for root, dirts, files in os.walk(data_path): \n",
    "    for dirt in dirts:\n",
    "        label_folder.append(dirt)\n",
    "    total_size += len(files)\n",
    "\n",
    "    \n",
    "print(\"found\",total_size,\"files.\")\n",
    "print(\"folder:\",label_folder)"
   ]
  },
  {
   "cell_type": "code",
   "execution_count": 35,
   "id": "931c4d91",
   "metadata": {},
   "outputs": [
    {
     "name": "stdout",
     "output_type": "stream",
     "text": [
      "(10000, 32, 32, 3)\n",
      "(10000,)\n"
     ]
    }
   ],
   "source": [
    "base_x_test = []\n",
    "base_y_test = []\n",
    "\n",
    "for i in range(len(label_folder)):\n",
    "    labelPath = data_path+r'\\\\'+label_folder[i]\n",
    "    \n",
    "    #listdir() returns a list containing the names of the entries in the directory given by path.\n",
    "    #isfile() is used to check whether the specified path is an existing regular file or not.\n",
    "    FileName = [f for f in listdir(labelPath) if isfile(join(labelPath, f))]\n",
    "    \n",
    "    for j in range(len(FileName)):\n",
    "        path = labelPath+r'\\\\'+FileName[j]\n",
    "        \n",
    "        #use cv2.imread read image.\n",
    "        img = cv2.imread(path,cv2.IMREAD_COLOR)\n",
    "        \n",
    "        base_x_test.append(img)\n",
    "        base_y_test.append(label_folder[i])\n",
    "\n",
    "\n",
    "print(np.array(base_x_test).shape)\n",
    "print(np.array(base_y_test).shape)"
   ]
  },
  {
   "cell_type": "code",
   "execution_count": 36,
   "id": "d63c5a6a",
   "metadata": {},
   "outputs": [],
   "source": [
    "y_final = model2.predict(np.array(base_x_test))"
   ]
  },
  {
   "cell_type": "code",
   "execution_count": 37,
   "id": "5961487a",
   "metadata": {},
   "outputs": [
    {
     "data": {
      "text/plain": [
       "array([0., 0., 0., ..., 9., 9., 9.])"
      ]
     },
     "execution_count": 37,
     "metadata": {},
     "output_type": "execute_result"
    }
   ],
   "source": [
    "output_y2 = np.zeros(y_final.shape[0])\n",
    "\n",
    "for i in range(y_final.shape[0]):\n",
    "    for j in range(y_final.shape[1]):\n",
    "        if y_final[i, j] >= max(y_final[i, ]):\n",
    "            output_y2[i] = j\n",
    "\n",
    "output_y2"
   ]
  },
  {
   "cell_type": "code",
   "execution_count": 40,
   "id": "4018afb5",
   "metadata": {},
   "outputs": [
    {
     "data": {
      "text/plain": [
       "array([0., 0., 0., ..., 9., 9., 9.])"
      ]
     },
     "execution_count": 40,
     "metadata": {},
     "output_type": "execute_result"
    }
   ],
   "source": [
    "output_y3 = np.zeros(to_categorical(base_y_test).shape[0])\n",
    "\n",
    "for i in range(to_categorical(base_y_test).shape[0]):\n",
    "    for j in range(to_categorical(base_y_test).shape[1]):\n",
    "        if to_categorical(base_y_test)[i, j] >= max(to_categorical(base_y_test)[i, ]):\n",
    "            output_y3[i] = j\n",
    "\n",
    "output_y3"
   ]
  },
  {
   "cell_type": "code",
   "execution_count": 41,
   "id": "2f5b3e2b",
   "metadata": {},
   "outputs": [
    {
     "data": {
      "text/plain": [
       "0.7889"
      ]
     },
     "execution_count": 41,
     "metadata": {},
     "output_type": "execute_result"
    }
   ],
   "source": [
    "sum(output_y2 == output_y3)/to_categorical(base_y_test).shape[0]"
   ]
  }
 ],
 "metadata": {
  "kernelspec": {
   "display_name": "Python 3",
   "language": "python",
   "name": "python3"
  },
  "language_info": {
   "codemirror_mode": {
    "name": "ipython",
    "version": 3
   },
   "file_extension": ".py",
   "mimetype": "text/x-python",
   "name": "python",
   "nbconvert_exporter": "python",
   "pygments_lexer": "ipython3",
   "version": "3.9.12"
  }
 },
 "nbformat": 4,
 "nbformat_minor": 5
}
