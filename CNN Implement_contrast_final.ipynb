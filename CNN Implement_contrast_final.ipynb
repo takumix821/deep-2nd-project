{
 "cells": [
  {
   "cell_type": "markdown",
   "id": "5401a171",
   "metadata": {},
   "source": [
    "### Confirm Tensorflow Installation"
   ]
  },
  {
   "cell_type": "code",
   "execution_count": 1,
   "id": "304bcb56",
   "metadata": {},
   "outputs": [
    {
     "name": "stdout",
     "output_type": "stream",
     "text": [
      "2.6.0\n",
      "2.6.0\n"
     ]
    }
   ],
   "source": [
    "import tensorflow as tf\n",
    "import tensorflow.keras as keras\n",
    "print(tf.__version__)\n",
    "print(keras.__version__)"
   ]
  },
  {
   "cell_type": "markdown",
   "id": "e9702e06",
   "metadata": {},
   "source": [
    "### Importing the necessary modules"
   ]
  },
  {
   "cell_type": "code",
   "execution_count": 2,
   "id": "f9c932c1",
   "metadata": {},
   "outputs": [],
   "source": [
    "import numpy as np\n",
    "import os\n",
    "from os import listdir \n",
    "from os.path import isfile, join\n",
    "import cv2\n",
    "\n",
    "import tensorflow as tf\n",
    "import tensorflow.keras as keras\n"
   ]
  },
  {
   "cell_type": "markdown",
   "id": "02686e89",
   "metadata": {},
   "source": [
    "### Loading and Preprocessing"
   ]
  },
  {
   "cell_type": "code",
   "execution_count": 3,
   "id": "6e0278dc",
   "metadata": {},
   "outputs": [
    {
     "name": "stdout",
     "output_type": "stream",
     "text": [
      "found 5000 files.\n",
      "folder: ['0', '1', '2', '3', '4', '5', '6', '7', '8', '9']\n"
     ]
    }
   ],
   "source": [
    "#Data visiting – os.walk()\n",
    "\n",
    "label_folder = []\n",
    "total_size = 0\n",
    "data_path = r\"D:\\CIFAR10_Test Image\\Training_data\"\n",
    "\n",
    "#os.walk() generates the file names(dirpath, dirnames, filenames) \n",
    "#in a directory tree by walking the tree either top-down or bottom-up.\n",
    "for root, dirts, files in os.walk(data_path): \n",
    "    for dirt in dirts:\n",
    "        label_folder.append(dirt)\n",
    "    total_size += len(files)\n",
    "\n",
    "    \n",
    "print(\"found\",total_size,\"files.\")\n",
    "print(\"folder:\",label_folder)"
   ]
  },
  {
   "cell_type": "code",
   "execution_count": 4,
   "id": "ecec1475",
   "metadata": {},
   "outputs": [
    {
     "name": "stdout",
     "output_type": "stream",
     "text": [
      "(5000, 32, 32, 3)\n",
      "(5000,)\n"
     ]
    }
   ],
   "source": [
    "#Load image\n",
    "\n",
    "base_x_train = []\n",
    "base_y_train = []\n",
    "\n",
    "for i in range(len(label_folder)):\n",
    "    labelPath = data_path+r'\\\\'+label_folder[i]\n",
    "    \n",
    "    #listdir() returns a list containing the names of the entries in the directory given by path.\n",
    "    #isfile() is used to check whether the specified path is an existing regular file or not.\n",
    "    FileName = [f for f in listdir(labelPath) if isfile(join(labelPath, f))]\n",
    "    \n",
    "    for j in range(len(FileName)):\n",
    "        path = labelPath+r'\\\\'+FileName[j]\n",
    "        \n",
    "        #use cv2.imread read image.\n",
    "        img = cv2.imread(path,cv2.IMREAD_COLOR)\n",
    "        \n",
    "        base_x_train.append(img)\n",
    "        base_y_train.append(label_folder[i])\n",
    "\n",
    "\n",
    "print(np.array(base_x_train).shape)\n",
    "print(np.array(base_y_train).shape)\n",
    "        "
   ]
  },
  {
   "cell_type": "code",
   "execution_count": 5,
   "id": "4524f916",
   "metadata": {},
   "outputs": [
    {
     "name": "stdout",
     "output_type": "stream",
     "text": [
      "(5000, 32, 32, 3)\n",
      "(5000, 10)\n"
     ]
    }
   ],
   "source": [
    "from tensorflow.keras.utils import to_categorical\n",
    "\n",
    "#Convert a category vector to a binary (0 or 1) matrix-type representation\n",
    "\n",
    "base_y_train = to_categorical(base_y_train)\n",
    "\n",
    "\n",
    "print(np.array(base_x_train).shape)\n",
    "print(np.array(base_y_train).shape)\n",
    "        "
   ]
  },
  {
   "cell_type": "markdown",
   "id": "bbef7560",
   "metadata": {},
   "source": [
    "### Splitting the Data into training and validation data"
   ]
  },
  {
   "cell_type": "code",
   "execution_count": 36,
   "id": "d8b2f1af",
   "metadata": {},
   "outputs": [
    {
     "name": "stdout",
     "output_type": "stream",
     "text": [
      "Training data: (4000, 32, 32, 3) (4000, 10)\n",
      "Validation data: (1000, 32, 32, 3) (1000, 10)\n"
     ]
    }
   ],
   "source": [
    "# Split into training and validation sets\n",
    "from sklearn.model_selection import train_test_split\n",
    "x_train, x_valid, y_train, y_valid = train_test_split( \\\n",
    "    np.array(base_x_train), np.array(base_y_train), test_size=0.2, random_state = 0)\n",
    "\n",
    "\n",
    "print(\"Training data:\", x_train.shape, y_train.shape)\n",
    "print(\"Validation data:\", x_valid.shape, y_valid.shape)"
   ]
  },
  {
   "cell_type": "markdown",
   "id": "845fcdd8",
   "metadata": {},
   "source": [
    "### Show the image"
   ]
  },
  {
   "cell_type": "code",
   "execution_count": 37,
   "id": "cee274df",
   "metadata": {
    "scrolled": true
   },
   "outputs": [
    {
     "data": {
      "image/png": "[encoded data removed]",
      "text/plain": [
       "<Figure size 432x288 with 1 Axes>"
      ]
     },
     "metadata": {
      "needs_background": "light"
     },
     "output_type": "display_data"
    },
    {
     "name": "stdout",
     "output_type": "stream",
     "text": [
      "Answer: 5\n",
      "Answer(one-hot): [0. 0. 0. 0. 0. 1. 0. 0. 0. 0.]\n"
     ]
    },
    {
     "data": {
      "text/plain": [
       "3492"
      ]
     },
     "execution_count": 37,
     "metadata": {},
     "output_type": "execute_result"
    }
   ],
   "source": [
    "import random\n",
    "import matplotlib.pyplot as plt\n",
    "\n",
    "idx = random.randint(0, x_train.shape[0])\n",
    "plt.imshow(x_train[idx])\n",
    "plt.show()\n",
    "\n",
    "print(\"Answer:\", np.argmax(y_train[idx]))\n",
    "print(\"Answer(one-hot):\", y_train[idx])\n",
    "idx"
   ]
  },
  {
   "cell_type": "code",
   "execution_count": 38,
   "id": "7e851eca",
   "metadata": {},
   "outputs": [],
   "source": [
    "for i in range(x_train.shape[0]):\n",
    "    b, g, r = cv2.split(x_train[i])\n",
    "    \n",
    "    dstb = np.zeros_like(b)\n",
    "    b1 = cv2.normalize(b, dstb, 0, 255, cv2.NORM_MINMAX)\n",
    "    dstg = np.zeros_like(g)\n",
    "    g1 = cv2.normalize(g, dstg, 0, 255, cv2.NORM_MINMAX)\n",
    "    dstr = np.zeros_like(r)\n",
    "    r1 = cv2.normalize(r, dstr, 0, 255, cv2.NORM_MINMAX)\n",
    "\n",
    "    x_train[i] = cv2.merge([b1,g1,r1])"
   ]
  },
  {
   "cell_type": "code",
   "execution_count": 39,
   "id": "6f0fdc46",
   "metadata": {},
   "outputs": [],
   "source": [
    "for i in range(x_valid.shape[0]):\n",
    "    b, g, r = cv2.split(x_valid[i])\n",
    "    \n",
    "    dstb = np.zeros_like(b)\n",
    "    b1 = cv2.normalize(b, dstb, 0, 255, cv2.NORM_MINMAX)\n",
    "    dstg = np.zeros_like(g)\n",
    "    g1 = cv2.normalize(g, dstg, 0, 255, cv2.NORM_MINMAX)\n",
    "    dstr = np.zeros_like(r)\n",
    "    r1 = cv2.normalize(r, dstr, 0, 255, cv2.NORM_MINMAX)\n",
    "\n",
    "    x_valid[i] = cv2.merge([b1,g1,r1])"
   ]
  },
  {
   "cell_type": "code",
   "execution_count": 34,
   "id": "ee6ff894",
   "metadata": {},
   "outputs": [],
   "source": [
    "for i in range(x_train.shape[0]):\n",
    "    b, g, r = cv2.split(x_train[i])\n",
    "    b1 = cv2.equalizeHist(b)\n",
    "    g1 = cv2.equalizeHist(g)\n",
    "    r1 = cv2.equalizeHist(r)\n",
    "\n",
    "    x_train[i] = cv2.merge([b1,g1,r1])\n"
   ]
  },
  {
   "cell_type": "code",
   "execution_count": 32,
   "id": "495fe616",
   "metadata": {},
   "outputs": [
    {
     "data": {
      "image/png": "[encoded data removed]",
      "text/plain": [
       "<Figure size 432x288 with 1 Axes>"
      ]
     },
     "metadata": {
      "needs_background": "light"
     },
     "output_type": "display_data"
    },
    {
     "name": "stdout",
     "output_type": "stream",
     "text": [
      "Answer: 8\n",
      "Answer(one-hot): [0. 0. 0. 0. 0. 0. 0. 0. 1. 0.]\n"
     ]
    }
   ],
   "source": [
    "\n",
    "plt.imshow(x_train[2775])\n",
    "plt.show()\n",
    "\n",
    "print(\"Answer:\", np.argmax(y_train[2775]))\n",
    "print(\"Answer(one-hot):\", y_train[2775])"
   ]
  },
  {
   "cell_type": "code",
   "execution_count": 35,
   "id": "c9af7fbf",
   "metadata": {},
   "outputs": [
    {
     "data": {
      "image/png": "[encoded data removed]",
      "text/plain": [
       "<Figure size 432x288 with 1 Axes>"
      ]
     },
     "metadata": {
      "needs_background": "light"
     },
     "output_type": "display_data"
    },
    {
     "name": "stdout",
     "output_type": "stream",
     "text": [
      "Answer: 8\n",
      "Answer(one-hot): [0. 0. 0. 0. 0. 0. 0. 0. 1. 0.]\n"
     ]
    }
   ],
   "source": [
    "plt.imshow(x_train[2775])\n",
    "plt.show()\n",
    "\n",
    "print(\"Answer:\", np.argmax(y_train[2775]))\n",
    "print(\"Answer(one-hot):\", y_train[2775])"
   ]
  },
  {
   "cell_type": "code",
   "execution_count": 36,
   "id": "d45d533d",
   "metadata": {},
   "outputs": [],
   "source": [
    "for i in range(x_valid.shape[0]):\n",
    "    b, g, r = cv2.split(x_valid[i])\n",
    "    b1 = cv2.equalizeHist(b)\n",
    "    g1 = cv2.equalizeHist(g)\n",
    "    r1 = cv2.equalizeHist(r)\n",
    "\n",
    "    x_valid[i] = cv2.merge([b1,g1,r1])"
   ]
  },
  {
   "cell_type": "markdown",
   "id": "03800027",
   "metadata": {},
   "source": [
    "### Build the network"
   ]
  },
  {
   "cell_type": "markdown",
   "id": "c16d57f1",
   "metadata": {},
   "source": [
    "You can show the detail for it:"
   ]
  },
  {
   "cell_type": "code",
   "execution_count": 40,
   "id": "8d5c1e62",
   "metadata": {},
   "outputs": [],
   "source": [
    "model = tf.keras.models.Sequential([\n",
    "    tf.keras.layers.Conv2D(64, (3, 3), padding=\"same\", activation='relu', input_shape=(32, 32, 3)),\n",
    "    tf.keras.layers.Conv2D(64, (3, 3), padding=\"same\", activation='relu'),\n",
    "    tf.keras.layers.MaxPool2D((2,2)),\n",
    "    tf.keras.layers.Dropout(0.2),\n",
    "    tf.keras.layers.Conv2D(128, (3, 3), padding=\"same\", activation='relu'),\n",
    "    tf.keras.layers.Conv2D(128, (3, 3), padding=\"same\", activation='relu'),\n",
    "    tf.keras.layers.MaxPool2D((2,2)),\n",
    "    tf.keras.layers.Dropout(0.2),\n",
    "    tf.keras.layers.Conv2D(256, (3, 3), padding=\"same\", activation='relu'),\n",
    "    tf.keras.layers.Conv2D(256, (3, 3), padding=\"same\", activation='relu'),\n",
    "    tf.keras.layers.Dropout(0.2),\n",
    "    tf.keras.layers.Flatten(),\n",
    "    tf.keras.layers.Dense(128, activation='sigmoid'),\n",
    "    tf.keras.layers.Dense(10, activation='softmax')\n",
    "])"
   ]
  },
  {
   "cell_type": "code",
   "execution_count": 41,
   "id": "f278291a",
   "metadata": {},
   "outputs": [
    {
     "name": "stdout",
     "output_type": "stream",
     "text": [
      "Model: \"sequential\"\n",
      "_________________________________________________________________\n",
      "Layer (type)                 Output Shape              Param #   \n",
      "=================================================================\n",
      "conv2d (Conv2D)              (None, 32, 32, 64)        1792      \n",
      "_________________________________________________________________\n",
      "conv2d_1 (Conv2D)            (None, 32, 32, 64)        36928     \n",
      "_________________________________________________________________\n",
      "max_pooling2d (MaxPooling2D) (None, 16, 16, 64)        0         \n",
      "_________________________________________________________________\n",
      "dropout (Dropout)            (None, 16, 16, 64)        0         \n",
      "_________________________________________________________________\n",
      "conv2d_2 (Conv2D)            (None, 16, 16, 128)       73856     \n",
      "_________________________________________________________________\n",
      "conv2d_3 (Conv2D)            (None, 16, 16, 128)       147584    \n",
      "_________________________________________________________________\n",
      "max_pooling2d_1 (MaxPooling2 (None, 8, 8, 128)         0         \n",
      "_________________________________________________________________\n",
      "dropout_1 (Dropout)          (None, 8, 8, 128)         0         \n",
      "_________________________________________________________________\n",
      "conv2d_4 (Conv2D)            (None, 8, 8, 256)         295168    \n",
      "_________________________________________________________________\n",
      "conv2d_5 (Conv2D)            (None, 8, 8, 256)         590080    \n",
      "_________________________________________________________________\n",
      "dropout_2 (Dropout)          (None, 8, 8, 256)         0         \n",
      "_________________________________________________________________\n",
      "flatten (Flatten)            (None, 16384)             0         \n",
      "_________________________________________________________________\n",
      "dense (Dense)                (None, 128)               2097280   \n",
      "_________________________________________________________________\n",
      "dense_1 (Dense)              (None, 10)                1290      \n",
      "=================================================================\n",
      "Total params: 3,243,978\n",
      "Trainable params: 3,243,978\n",
      "Non-trainable params: 0\n",
      "_________________________________________________________________\n",
      "None\n"
     ]
    }
   ],
   "source": [
    "print(model.summary())"
   ]
  },
  {
   "cell_type": "markdown",
   "id": "77060e81",
   "metadata": {},
   "source": [
    "### Training the network"
   ]
  },
  {
   "cell_type": "code",
   "execution_count": 42,
   "id": "5bd9f24f",
   "metadata": {},
   "outputs": [
    {
     "name": "stdout",
     "output_type": "stream",
     "text": [
      "Epoch 1/30\n",
      "125/125 [==============================] - 16s 52ms/step - loss: 2.3215 - accuracy: 0.1023 - val_loss: 2.2968 - val_accuracy: 0.0900\n",
      "Epoch 2/30\n",
      "125/125 [==============================] - 6s 46ms/step - loss: 2.2845 - accuracy: 0.1408 - val_loss: 2.2429 - val_accuracy: 0.1740\n",
      "Epoch 3/30\n",
      "125/125 [==============================] - 6s 49ms/step - loss: 2.2547 - accuracy: 0.1550 - val_loss: 2.2244 - val_accuracy: 0.1830\n",
      "Epoch 4/30\n",
      "125/125 [==============================] - 6s 50ms/step - loss: 2.1265 - accuracy: 0.2403 - val_loss: 1.9813 - val_accuracy: 0.2970\n",
      "Epoch 5/30\n",
      "125/125 [==============================] - 6s 50ms/step - loss: 1.8983 - accuracy: 0.3180 - val_loss: 1.7927 - val_accuracy: 0.3330\n",
      "Epoch 6/30\n",
      "125/125 [==============================] - 6s 50ms/step - loss: 1.7646 - accuracy: 0.3650 - val_loss: 1.7866 - val_accuracy: 0.3640\n",
      "Epoch 7/30\n",
      "125/125 [==============================] - 6s 50ms/step - loss: 1.6887 - accuracy: 0.4115 - val_loss: 1.5556 - val_accuracy: 0.4780\n",
      "Epoch 8/30\n",
      "125/125 [==============================] - 6s 50ms/step - loss: 1.6112 - accuracy: 0.4365 - val_loss: 1.5060 - val_accuracy: 0.4660\n",
      "Epoch 9/30\n",
      "125/125 [==============================] - 6s 50ms/step - loss: 1.5179 - accuracy: 0.4750 - val_loss: 1.4832 - val_accuracy: 0.4590\n",
      "Epoch 10/30\n",
      "125/125 [==============================] - 6s 50ms/step - loss: 1.4545 - accuracy: 0.4995 - val_loss: 1.3463 - val_accuracy: 0.5490\n",
      "Epoch 11/30\n",
      "125/125 [==============================] - 6s 51ms/step - loss: 1.3661 - accuracy: 0.5357 - val_loss: 1.3311 - val_accuracy: 0.5400\n",
      "Epoch 12/30\n",
      "125/125 [==============================] - 6s 51ms/step - loss: 1.2772 - accuracy: 0.5745 - val_loss: 1.3242 - val_accuracy: 0.5380\n",
      "Epoch 13/30\n",
      "125/125 [==============================] - 6s 50ms/step - loss: 1.2282 - accuracy: 0.5765 - val_loss: 1.3310 - val_accuracy: 0.5550\n",
      "Epoch 14/30\n",
      "125/125 [==============================] - 6s 51ms/step - loss: 1.1520 - accuracy: 0.6140 - val_loss: 1.1546 - val_accuracy: 0.6040\n",
      "Epoch 15/30\n",
      "125/125 [==============================] - 6s 51ms/step - loss: 1.1032 - accuracy: 0.6160 - val_loss: 1.1901 - val_accuracy: 0.5830\n",
      "Epoch 16/30\n",
      "125/125 [==============================] - 7s 53ms/step - loss: 1.0539 - accuracy: 0.6417 - val_loss: 1.1093 - val_accuracy: 0.6290\n",
      "Epoch 17/30\n",
      "125/125 [==============================] - 6s 51ms/step - loss: 0.9726 - accuracy: 0.6705 - val_loss: 1.1599 - val_accuracy: 0.5980\n",
      "Epoch 18/30\n",
      "125/125 [==============================] - 6s 51ms/step - loss: 0.9245 - accuracy: 0.6985 - val_loss: 1.0357 - val_accuracy: 0.6490\n",
      "Epoch 19/30\n",
      "125/125 [==============================] - 6s 51ms/step - loss: 0.8577 - accuracy: 0.7163 - val_loss: 1.0808 - val_accuracy: 0.6410\n",
      "Epoch 20/30\n",
      "125/125 [==============================] - 6s 51ms/step - loss: 0.8166 - accuracy: 0.7343 - val_loss: 1.0048 - val_accuracy: 0.6470\n",
      "Epoch 21/30\n",
      "125/125 [==============================] - 7s 52ms/step - loss: 0.7627 - accuracy: 0.7485 - val_loss: 1.0186 - val_accuracy: 0.6620\n",
      "Epoch 22/30\n",
      "125/125 [==============================] - 7s 53ms/step - loss: 0.7149 - accuracy: 0.7680 - val_loss: 0.9880 - val_accuracy: 0.6600\n",
      "Epoch 23/30\n",
      "125/125 [==============================] - 7s 52ms/step - loss: 0.6612 - accuracy: 0.7893 - val_loss: 1.0012 - val_accuracy: 0.6770\n",
      "Epoch 24/30\n",
      "125/125 [==============================] - 7s 54ms/step - loss: 0.6138 - accuracy: 0.8070 - val_loss: 0.9476 - val_accuracy: 0.6870\n",
      "Epoch 25/30\n",
      "125/125 [==============================] - 7s 52ms/step - loss: 0.5698 - accuracy: 0.8278 - val_loss: 0.9580 - val_accuracy: 0.6800\n",
      "Epoch 26/30\n",
      "125/125 [==============================] - 6s 51ms/step - loss: 0.5268 - accuracy: 0.8405 - val_loss: 1.0002 - val_accuracy: 0.6720\n",
      "Epoch 27/30\n",
      "125/125 [==============================] - 6s 51ms/step - loss: 0.4865 - accuracy: 0.8553 - val_loss: 0.9475 - val_accuracy: 0.6800\n",
      "Epoch 28/30\n",
      "125/125 [==============================] - 7s 54ms/step - loss: 0.4445 - accuracy: 0.8755 - val_loss: 0.9536 - val_accuracy: 0.6960\n",
      "Epoch 29/30\n",
      "125/125 [==============================] - 7s 52ms/step - loss: 0.3955 - accuracy: 0.8905 - val_loss: 0.9499 - val_accuracy: 0.6850\n",
      "Epoch 30/30\n",
      "125/125 [==============================] - 6s 52ms/step - loss: 0.3617 - accuracy: 0.9090 - val_loss: 0.9450 - val_accuracy: 0.6880\n"
     ]
    }
   ],
   "source": [
    "epoch = 30\n",
    "\n",
    "model.compile(\n",
    "    loss=\"categorical_crossentropy\", \n",
    "    optimizer=\"sgd\", \n",
    "    metrics=[\"accuracy\"]\n",
    ")\n",
    "history = model.fit(\n",
    "    x_train, \n",
    "    y_train, \n",
    "    epochs=epoch, \n",
    "    validation_data=(x_valid, y_valid)\n",
    ")"
   ]
  },
  {
   "cell_type": "code",
   "execution_count": 43,
   "id": "e340b2fd",
   "metadata": {},
   "outputs": [
    {
     "data": {
      "image/png": "[encoded data removed]",
      "text/plain": [
       "<Figure size 576x360 with 1 Axes>"
      ]
     },
     "metadata": {
      "needs_background": "light"
     },
     "output_type": "display_data"
    },
    {
     "name": "stdout",
     "output_type": "stream",
     "text": [
      "32/32 [==============================] - 1s 19ms/step - loss: 0.9450 - accuracy: 0.6880\n",
      "Predict probabilities: [[0.15 0.   0.67 0.03 0.   0.   0.01 0.   0.13 0.  ]\n",
      " [0.01 0.01 0.04 0.17 0.05 0.04 0.13 0.45 0.   0.1 ]\n",
      " [0.   0.12 0.   0.   0.01 0.   0.   0.   0.01 0.85]]\n",
      "Predict answers: [2 7 9]\n"
     ]
    }
   ],
   "source": [
    "import pandas as pd\n",
    "\n",
    "pd.DataFrame(history.history).plot(figsize=(8, 5))\n",
    "plt.grid(True)\n",
    "plt.gca().set_ylim(0, 2)\n",
    "plt.show()\n",
    "\n",
    "model.evaluate(x_valid, y_valid)\n",
    "\n",
    "x_new = x_valid[:3]\n",
    "y_predict = model.predict(x_new)\n",
    "print(\"Predict probabilities:\", y_predict.round(2))\n",
    "print(\"Predict answers:\", y_predict.argmax(axis=1))"
   ]
  },
  {
   "cell_type": "markdown",
   "id": "5fc5dedd",
   "metadata": {},
   "source": [
    "### Saving the trained weights"
   ]
  },
  {
   "cell_type": "code",
   "execution_count": 112,
   "id": "073526c9",
   "metadata": {},
   "outputs": [],
   "source": [
    "model.save(\"my_model73.hdf5\")"
   ]
  },
  {
   "cell_type": "code",
   "execution_count": 113,
   "id": "6411dfa2",
   "metadata": {},
   "outputs": [],
   "source": [
    "from tensorflow.keras.models import load_model\n",
    "model2 = load_model(\"my_model73.hdf5\")"
   ]
  },
  {
   "cell_type": "code",
   "execution_count": 114,
   "id": "ef54cef5",
   "metadata": {},
   "outputs": [
    {
     "name": "stdout",
     "output_type": "stream",
     "text": [
      "Model: \"sequential_4\"\n",
      "_________________________________________________________________\n",
      "Layer (type)                 Output Shape              Param #   \n",
      "=================================================================\n",
      "conv2d_24 (Conv2D)           (None, 32, 32, 64)        1792      \n",
      "_________________________________________________________________\n",
      "conv2d_25 (Conv2D)           (None, 32, 32, 64)        36928     \n",
      "_________________________________________________________________\n",
      "max_pooling2d_12 (MaxPooling (None, 16, 16, 64)        0         \n",
      "_________________________________________________________________\n",
      "conv2d_26 (Conv2D)           (None, 16, 16, 128)       73856     \n",
      "_________________________________________________________________\n",
      "conv2d_27 (Conv2D)           (None, 16, 16, 128)       147584    \n",
      "_________________________________________________________________\n",
      "max_pooling2d_13 (MaxPooling (None, 8, 8, 128)         0         \n",
      "_________________________________________________________________\n",
      "dropout (Dropout)            (None, 8, 8, 128)         0         \n",
      "_________________________________________________________________\n",
      "conv2d_28 (Conv2D)           (None, 8, 8, 256)         295168    \n",
      "_________________________________________________________________\n",
      "conv2d_29 (Conv2D)           (None, 8, 8, 256)         590080    \n",
      "_________________________________________________________________\n",
      "dropout_1 (Dropout)          (None, 8, 8, 256)         0         \n",
      "_________________________________________________________________\n",
      "flatten_4 (Flatten)          (None, 16384)             0         \n",
      "_________________________________________________________________\n",
      "dense_8 (Dense)              (None, 128)               2097280   \n",
      "_________________________________________________________________\n",
      "dense_9 (Dense)              (None, 10)                1290      \n",
      "=================================================================\n",
      "Total params: 3,243,978\n",
      "Trainable params: 3,243,978\n",
      "Non-trainable params: 0\n",
      "_________________________________________________________________\n"
     ]
    }
   ],
   "source": [
    "model2.summary()"
   ]
  },
  {
   "cell_type": "code",
   "execution_count": 115,
   "id": "8438b272",
   "metadata": {},
   "outputs": [],
   "source": [
    "y_hat = model2.predict(x_valid)"
   ]
  },
  {
   "cell_type": "code",
   "execution_count": 116,
   "id": "38e211c4",
   "metadata": {},
   "outputs": [
    {
     "data": {
      "text/plain": [
       "array([0., 6., 9., 9., 1., 5., 4., 8., 0., 5., 2., 2., 9., 0., 1., 6., 0.,\n",
       "       3., 3., 4., 0., 4., 0., 8., 9., 2., 6., 5., 4., 2., 8., 7., 3., 4.,\n",
       "       7., 0., 7., 1., 9., 6., 7., 0., 9., 3., 1., 6., 1., 4., 2., 6., 7.,\n",
       "       7., 0., 3., 3., 8., 1., 9., 4., 5., 3., 1., 5., 6., 8., 0., 7., 0.,\n",
       "       1., 4., 0., 7., 1., 7., 1., 2., 2., 0., 7., 6., 5., 0., 7., 0., 4.,\n",
       "       1., 7., 2., 3., 7., 6., 4., 8., 1., 0., 5., 5., 8., 5., 6., 1., 2.,\n",
       "       9., 8., 1., 4., 7., 3., 8., 0., 0., 8., 6., 5., 4., 5., 8., 7., 5.,\n",
       "       5., 4., 8., 2., 8., 6., 7., 0., 4., 9., 2., 1., 9., 6., 1., 9., 6.,\n",
       "       0., 3., 2., 6., 8., 0., 5., 8., 4., 3., 8., 7., 6., 6., 0., 6., 8.,\n",
       "       8., 0., 1., 9., 4., 0., 8., 7., 9., 7., 1., 3., 6., 9., 7., 4., 5.,\n",
       "       4., 7., 8., 1., 4., 5., 7., 5., 3., 3., 0., 0., 2., 0., 6., 0., 6.,\n",
       "       0., 9., 5., 8., 8., 5., 0., 0., 5., 9., 3., 8., 1., 1., 4., 6., 0.,\n",
       "       6., 1., 8., 4., 7., 0., 7., 3., 5., 7., 1., 8., 0., 8., 4., 0., 7.,\n",
       "       6., 5., 6., 9., 2., 7., 0., 7., 2., 7., 4., 0., 3., 9., 0., 5., 0.,\n",
       "       1., 1., 5., 7., 8., 2., 9., 6., 7., 3., 8., 6., 0., 0., 8., 7., 6.,\n",
       "       7., 7., 5., 9., 5., 7., 2., 3., 3., 9., 0., 0., 0., 8., 1., 5., 5.,\n",
       "       2., 7., 7., 4., 1., 0., 8., 5., 0., 8., 8., 6., 4., 5., 1., 1., 8.,\n",
       "       4., 6., 5., 5., 1., 3., 0., 9., 0., 7., 0., 9., 7., 9., 7., 7., 0.,\n",
       "       6., 0., 9., 1., 7., 7., 2., 1., 8., 5., 0., 7., 2., 3., 6., 5., 7.,\n",
       "       6., 0., 3., 8., 7., 7., 2., 5., 2., 6., 9., 7., 9., 7., 2., 3., 8.,\n",
       "       6., 9., 5., 6., 2., 4., 7., 5., 3., 9., 1., 6., 2., 0., 9., 6., 5.,\n",
       "       7., 8., 3., 5., 3., 3., 1., 2., 9., 8., 9., 4., 7., 4., 3., 7., 4.,\n",
       "       1., 9., 6., 4., 4., 4., 0., 9., 3., 9., 7., 6., 5., 8., 2., 5., 0.,\n",
       "       8., 5., 0., 6., 2., 0., 1., 1., 7., 4., 5., 3., 4., 1., 2., 6., 0.,\n",
       "       5., 7., 2., 8., 7., 1., 1., 9., 5., 6., 8., 2., 5., 0., 9., 5., 1.,\n",
       "       2., 4., 5., 6., 0., 4., 0., 9., 6., 8., 4., 5., 6., 2., 2., 7., 8.,\n",
       "       4., 8., 8., 9., 0., 8., 4., 9., 4., 6., 6., 1., 0., 9., 1., 8., 6.,\n",
       "       7., 6., 0., 9., 0., 1., 0., 6., 4., 4., 6., 0., 2., 3., 3., 7., 3.,\n",
       "       9., 3., 4., 0., 9., 5., 0., 1., 8., 0., 2., 8., 1., 9., 3., 8., 9.,\n",
       "       2., 6., 3., 8., 7., 4., 3., 7., 8., 9., 6., 3., 2., 1., 0., 8., 9.,\n",
       "       6., 4., 4., 7., 5., 0., 2., 6., 5., 5., 7., 5., 8., 5., 8., 8., 5.,\n",
       "       3., 9., 2., 5., 5., 2., 6., 9., 7., 1., 4., 9., 5., 6., 1., 1., 4.,\n",
       "       0., 5., 0., 4., 7., 3., 7., 4., 2., 0., 8., 7., 1., 1., 9., 5., 4.,\n",
       "       0., 6., 6., 9., 0., 7., 6., 5., 9., 2., 3., 4., 4., 5., 3., 1., 0.,\n",
       "       0., 4., 2., 9., 0., 5., 0., 9., 5., 0., 7., 5., 7., 0., 5., 3., 8.,\n",
       "       2., 6., 5., 5., 5., 4., 4., 8., 6., 1., 0., 7., 7., 9., 4., 7., 0.,\n",
       "       8., 3., 5., 6., 5., 4., 9., 4., 0., 5., 9., 5., 1., 8., 6., 8., 8.,\n",
       "       7., 4., 4., 6., 5., 8., 0., 7., 4., 2., 1., 5., 2., 7., 3., 1., 0.,\n",
       "       6., 5., 3., 1., 5., 8., 1., 9., 0., 1., 6., 0., 0., 9., 8., 0., 8.,\n",
       "       4., 6., 3., 2., 9., 8., 9., 6., 8., 5., 1., 9., 8., 6., 9., 3., 2.,\n",
       "       5., 6., 0., 2., 7., 5., 5., 8., 4., 6., 8., 6., 1., 3., 0., 4., 4.,\n",
       "       5., 4., 6., 3., 0., 3., 9., 5., 2., 7., 4., 9., 3., 2., 0., 6., 6.,\n",
       "       1., 1., 0., 0., 0., 7., 7., 3., 2., 5., 8., 9., 0., 2., 5., 7., 0.,\n",
       "       1., 4., 9., 9., 7., 5., 5., 3., 9., 4., 4., 6., 6., 5., 7., 6., 3.,\n",
       "       5., 8., 7., 5., 5., 4., 1., 5., 2., 2., 5., 3., 6., 7., 1., 9., 4.,\n",
       "       3., 8., 1., 2., 9., 8., 4., 4., 2., 9., 2., 1., 6., 9., 6., 2., 8.,\n",
       "       7., 8., 6., 4., 7., 9., 5., 1., 4., 6., 5., 3., 7., 7., 6., 3., 2.,\n",
       "       3., 9., 3., 1., 1., 9., 5., 9., 6., 0., 9., 3., 0., 4., 9., 1., 3.,\n",
       "       8., 4., 8., 2., 5., 8., 5., 8., 6., 7., 8., 5., 8., 2., 9., 1., 4.,\n",
       "       3., 1., 1., 4., 7., 5., 5., 5., 8., 5., 3., 3., 5., 8., 9., 2., 5.,\n",
       "       4., 0., 6., 0., 3., 1., 6., 3., 7., 5., 9., 0., 5., 1., 0., 4., 0.,\n",
       "       8., 0., 6., 0., 7., 2., 6., 0., 1., 6., 4., 0., 5., 8., 9., 9., 1.,\n",
       "       3., 5., 6., 9., 9., 6., 2., 9., 0., 3., 0., 4., 1., 9., 8., 8., 4.,\n",
       "       3., 5., 7., 4., 2., 7., 9., 1., 1., 9., 9., 9., 0., 5., 8., 3., 6.,\n",
       "       2., 6., 0., 2., 2., 2., 7., 3., 8., 8., 3., 6., 2., 5., 0., 9., 7.,\n",
       "       3., 2., 3., 1., 1., 0., 8., 4., 2., 5., 0., 7., 1., 8., 5., 9., 0.,\n",
       "       9., 2., 1., 3., 0., 4., 6., 9., 0., 3., 3., 2., 1., 9., 3., 1., 7.,\n",
       "       9., 7., 8., 0., 2., 9., 3., 1., 7., 7., 2., 6., 6., 0., 5., 4., 0.,\n",
       "       5., 8., 9., 1., 1., 8., 5., 7., 2., 8., 4., 1., 2., 6.])"
      ]
     },
     "execution_count": 116,
     "metadata": {},
     "output_type": "execute_result"
    }
   ],
   "source": [
    "# 將output改為標籤\n",
    "output_y = np.zeros(y_hat.shape[0])\n",
    "\n",
    "for i in range(y_hat.shape[0]):\n",
    "    for j in range(y_hat.shape[1]):\n",
    "        if y_hat[i, j] >= max(y_hat[i, ]):\n",
    "            output_y[i] = j\n",
    "\n",
    "output_y"
   ]
  },
  {
   "cell_type": "code",
   "execution_count": 117,
   "id": "0ccc3cb7",
   "metadata": {},
   "outputs": [
    {
     "data": {
      "text/plain": [
       "array([0., 7., 9., 9., 1., 5., 2., 4., 0., 5., 8., 2., 9., 0., 1., 6., 0.,\n",
       "       5., 3., 4., 0., 3., 0., 8., 9., 2., 6., 8., 7., 0., 8., 7., 8., 3.,\n",
       "       4., 2., 7., 7., 7., 6., 7., 5., 9., 3., 1., 4., 1., 8., 0., 6., 7.,\n",
       "       7., 0., 3., 3., 8., 1., 9., 4., 5., 4., 1., 5., 6., 8., 0., 4., 5.,\n",
       "       9., 4., 0., 7., 1., 7., 1., 2., 2., 0., 7., 6., 5., 0., 7., 0., 2.,\n",
       "       1., 2., 2., 3., 7., 6., 1., 8., 1., 0., 5., 5., 8., 5., 2., 1., 2.,\n",
       "       9., 8., 1., 7., 7., 3., 8., 3., 0., 8., 7., 2., 2., 5., 8., 7., 8.,\n",
       "       5., 4., 8., 2., 8., 9., 7., 0., 4., 9., 2., 1., 9., 6., 1., 1., 7.,\n",
       "       3., 8., 4., 6., 4., 0., 6., 8., 4., 3., 8., 7., 7., 6., 0., 7., 8.,\n",
       "       8., 0., 1., 9., 4., 0., 8., 1., 9., 7., 1., 3., 6., 9., 9., 8., 2.,\n",
       "       4., 8., 8., 1., 4., 5., 7., 5., 8., 3., 2., 0., 2., 0., 6., 0., 6.,\n",
       "       0., 9., 5., 8., 9., 0., 2., 0., 5., 9., 3., 8., 1., 1., 7., 6., 0.,\n",
       "       4., 1., 8., 4., 7., 3., 7., 5., 5., 7., 1., 8., 0., 7., 4., 0., 9.,\n",
       "       6., 4., 6., 1., 2., 6., 0., 7., 2., 7., 0., 6., 3., 9., 0., 5., 0.,\n",
       "       1., 1., 8., 7., 8., 2., 9., 6., 7., 3., 8., 2., 0., 0., 4., 7., 6.,\n",
       "       7., 7., 5., 9., 5., 7., 8., 3., 3., 9., 3., 0., 3., 8., 1., 5., 5.,\n",
       "       8., 5., 7., 4., 1., 0., 8., 2., 0., 8., 8., 6., 4., 5., 1., 1., 8.,\n",
       "       4., 6., 5., 6., 1., 2., 0., 9., 2., 7., 2., 9., 7., 1., 7., 7., 0.,\n",
       "       5., 5., 9., 1., 7., 7., 2., 1., 9., 3., 0., 7., 5., 2., 6., 5., 7.,\n",
       "       6., 0., 0., 8., 7., 7., 2., 1., 2., 6., 9., 7., 9., 5., 2., 3., 8.,\n",
       "       6., 9., 7., 9., 5., 2., 7., 5., 3., 9., 9., 7., 3., 0., 9., 6., 5.,\n",
       "       7., 8., 2., 3., 2., 3., 1., 3., 9., 8., 9., 2., 9., 9., 3., 7., 4.,\n",
       "       1., 9., 6., 4., 4., 6., 0., 9., 3., 9., 9., 6., 5., 8., 2., 5., 0.,\n",
       "       8., 3., 6., 6., 2., 0., 1., 1., 4., 8., 5., 3., 4., 1., 2., 6., 5.,\n",
       "       5., 7., 2., 8., 4., 1., 1., 9., 1., 6., 8., 3., 5., 0., 9., 5., 4.,\n",
       "       2., 4., 5., 6., 2., 4., 0., 9., 6., 4., 4., 5., 6., 2., 2., 7., 8.,\n",
       "       4., 8., 8., 9., 3., 8., 4., 1., 4., 4., 6., 7., 0., 9., 1., 7., 6.,\n",
       "       7., 6., 0., 9., 0., 1., 0., 6., 5., 4., 6., 0., 2., 3., 2., 7., 3.,\n",
       "       9., 2., 4., 0., 9., 5., 0., 1., 8., 2., 2., 5., 1., 5., 5., 8., 9.,\n",
       "       2., 6., 3., 8., 7., 4., 6., 7., 8., 9., 6., 3., 2., 1., 0., 8., 1.,\n",
       "       9., 4., 4., 7., 5., 0., 2., 9., 8., 5., 6., 5., 8., 5., 8., 8., 5.,\n",
       "       3., 1., 2., 7., 1., 2., 6., 9., 7., 1., 4., 9., 5., 6., 1., 1., 4.,\n",
       "       5., 5., 2., 0., 7., 5., 7., 4., 2., 0., 8., 6., 9., 1., 9., 5., 4.,\n",
       "       2., 6., 5., 9., 0., 7., 6., 5., 9., 2., 3., 7., 4., 5., 3., 1., 6.,\n",
       "       0., 9., 2., 9., 2., 5., 2., 1., 5., 0., 8., 5., 7., 0., 5., 3., 3.,\n",
       "       7., 6., 6., 5., 5., 4., 4., 6., 6., 1., 0., 1., 7., 7., 4., 1., 3.,\n",
       "       8., 4., 0., 2., 3., 4., 7., 0., 0., 5., 9., 3., 1., 8., 7., 8., 8.,\n",
       "       8., 4., 4., 6., 5., 8., 3., 7., 3., 3., 1., 8., 2., 1., 3., 1., 0.,\n",
       "       6., 5., 3., 1., 5., 8., 1., 9., 0., 1., 4., 0., 0., 9., 8., 5., 8.,\n",
       "       4., 6., 3., 6., 4., 8., 9., 6., 8., 3., 1., 9., 0., 3., 5., 3., 2.,\n",
       "       5., 6., 3., 2., 7., 5., 5., 8., 2., 3., 8., 6., 9., 3., 0., 4., 5.,\n",
       "       5., 3., 7., 3., 5., 3., 9., 5., 7., 7., 7., 9., 3., 2., 0., 5., 0.,\n",
       "       1., 1., 2., 7., 0., 7., 7., 2., 2., 6., 8., 9., 0., 5., 5., 7., 0.,\n",
       "       1., 4., 9., 9., 7., 5., 5., 3., 9., 2., 4., 5., 6., 5., 7., 6., 3.,\n",
       "       5., 8., 7., 5., 5., 4., 1., 5., 2., 2., 5., 2., 6., 7., 1., 9., 4.,\n",
       "       3., 8., 1., 3., 9., 8., 4., 4., 2., 6., 3., 1., 6., 9., 6., 2., 8.,\n",
       "       7., 8., 6., 2., 7., 1., 5., 1., 5., 6., 9., 3., 1., 9., 6., 3., 2.,\n",
       "       3., 9., 2., 1., 1., 9., 5., 9., 6., 2., 1., 5., 3., 4., 9., 1., 2.,\n",
       "       8., 4., 8., 5., 5., 8., 5., 8., 6., 7., 8., 5., 8., 0., 9., 1., 4.,\n",
       "       3., 1., 1., 4., 7., 3., 5., 5., 8., 5., 3., 7., 3., 8., 9., 2., 5.,\n",
       "       8., 3., 9., 0., 2., 1., 6., 3., 7., 5., 5., 0., 9., 1., 0., 4., 2.,\n",
       "       8., 0., 6., 3., 6., 2., 2., 0., 1., 6., 4., 0., 8., 7., 9., 9., 5.,\n",
       "       0., 1., 6., 9., 1., 6., 2., 9., 0., 3., 0., 4., 1., 9., 8., 8., 4.,\n",
       "       3., 5., 7., 4., 4., 8., 4., 5., 1., 9., 9., 9., 0., 2., 8., 5., 7.,\n",
       "       2., 6., 0., 2., 2., 2., 7., 3., 8., 8., 3., 6., 2., 5., 0., 9., 7.,\n",
       "       3., 2., 3., 1., 1., 0., 9., 4., 2., 1., 0., 7., 1., 5., 4., 4., 0.,\n",
       "       9., 2., 1., 3., 2., 7., 6., 9., 0., 5., 3., 7., 1., 3., 3., 1., 1.,\n",
       "       9., 7., 8., 2., 2., 1., 3., 1., 0., 5., 4., 6., 6., 0., 3., 2., 3.,\n",
       "       3., 5., 9., 7., 1., 8., 5., 7., 2., 8., 4., 1., 2., 6.])"
      ]
     },
     "execution_count": 117,
     "metadata": {},
     "output_type": "execute_result"
    }
   ],
   "source": [
    "output_yv = np.zeros(y_valid.shape[0])\n",
    "\n",
    "for i in range(y_valid.shape[0]):\n",
    "    for j in range(y_valid.shape[1]):\n",
    "        if y_valid[i, j] >= max(y_valid[i, ]):\n",
    "            output_yv[i] = j\n",
    "\n",
    "output_yv"
   ]
  },
  {
   "cell_type": "code",
   "execution_count": 118,
   "id": "5f1f4fe3",
   "metadata": {},
   "outputs": [
    {
     "data": {
      "text/plain": [
       "0.735"
      ]
     },
     "execution_count": 118,
     "metadata": {},
     "output_type": "execute_result"
    }
   ],
   "source": [
    "sum(output_y == output_yv) / len(output_y)"
   ]
  },
  {
   "cell_type": "code",
   "execution_count": 119,
   "id": "717ec66e",
   "metadata": {},
   "outputs": [
    {
     "name": "stdout",
     "output_type": "stream",
     "text": [
      "found 1000 files.\n"
     ]
    }
   ],
   "source": [
    "# 結果寫入檔案開始\n",
    "\n",
    "file_name = []\n",
    "total_size = 0\n",
    "data_path = r\"D:\\CIFAR10_Test Image\\Testing_data\"\n",
    "\n",
    "for root, dirts, files in os.walk(data_path):\n",
    "    for file in files:\n",
    "        file_name.append(file)\n",
    "        \n",
    "    total_size += len(files)\n",
    "\n",
    "print('found {} files.'.format(total_size))\n"
   ]
  },
  {
   "cell_type": "code",
   "execution_count": 120,
   "id": "931c4d91",
   "metadata": {},
   "outputs": [
    {
     "name": "stdout",
     "output_type": "stream",
     "text": [
      "(1000, 32, 32, 3)\n"
     ]
    }
   ],
   "source": [
    "base_x_test = []\n",
    "\n",
    "for i in range(len(file_name)):\n",
    "    label_path = data_path + '\\\\' + file_name[i]\n",
    "\n",
    "    img = cv2.imread(label_path, cv2.IMREAD_COLOR)\n",
    "    base_x_test.append(img)\n",
    "\n",
    "print(np.array(base_x_test).shape)"
   ]
  },
  {
   "cell_type": "code",
   "execution_count": 122,
   "id": "42e6d0bc",
   "metadata": {},
   "outputs": [],
   "source": [
    "for s in range(np.array(base_x_test).shape[0]):\n",
    "    gray = cv2.cvtColor(np.array(base_x_test)[s], cv2.COLOR_BGR2GRAY)\n",
    "    blurred = cv2.GaussianBlur(gray, (3, 3), 0)\n",
    "    canny = cv2.Canny(blurred, 30, 200)\n",
    "    for i in range(3):\n",
    "        np.array(base_x_test)[s][:,:,i][canny>0] = np.array(base_x_test)[s][:,:,i][canny>0]*0.4"
   ]
  },
  {
   "cell_type": "code",
   "execution_count": 123,
   "id": "d63c5a6a",
   "metadata": {},
   "outputs": [],
   "source": [
    "y_final = model2.predict(np.array(base_x_test))"
   ]
  },
  {
   "cell_type": "code",
   "execution_count": 124,
   "id": "5961487a",
   "metadata": {},
   "outputs": [
    {
     "data": {
      "text/plain": [
       "array([2., 9., 8., 1., 4., 4., 3., 9., 3., 7., 4., 2., 1., 1., 0., 1., 8.,\n",
       "       8., 5., 3., 8., 5., 1., 6., 1., 4., 0., 0., 7., 0., 4., 4., 9., 4.,\n",
       "       9., 8., 8., 6., 0., 4., 2., 5., 7., 4., 7., 8., 3., 0., 7., 7., 8.,\n",
       "       7., 3., 2., 9., 4., 6., 1., 9., 0., 9., 4., 2., 6., 7., 4., 8., 3.,\n",
       "       9., 7., 5., 5., 6., 9., 7., 7., 1., 8., 2., 1., 1., 1., 3., 7., 3.,\n",
       "       3., 8., 9., 8., 6., 5., 8., 1., 1., 4., 8., 1., 5., 5., 4., 0., 8.,\n",
       "       6., 9., 5., 0., 9., 4., 2., 1., 4., 8., 0., 2., 2., 0., 3., 4., 7.,\n",
       "       8., 6., 2., 2., 4., 0., 0., 0., 8., 8., 3., 6., 0., 8., 9., 7., 3.,\n",
       "       0., 1., 4., 8., 8., 8., 1., 6., 4., 8., 9., 1., 3., 0., 4., 0., 5.,\n",
       "       1., 3., 7., 1., 2., 4., 2., 1., 6., 9., 8., 5., 5., 4., 7., 1., 7.,\n",
       "       7., 1., 8., 0., 1., 9., 6., 1., 5., 7., 8., 7., 2., 0., 3., 8., 8.,\n",
       "       0., 0., 2., 4., 6., 7., 1., 4., 4., 0., 7., 2., 3., 9., 6., 1., 2.,\n",
       "       3., 2., 0., 5., 7., 0., 2., 9., 4., 9., 4., 2., 5., 7., 9., 8., 1.,\n",
       "       3., 8., 5., 4., 1., 6., 0., 1., 7., 3., 9., 7., 9., 4., 0., 9., 7.,\n",
       "       0., 9., 9., 9., 2., 6., 0., 8., 0., 1., 3., 6., 1., 8., 4., 7., 7.,\n",
       "       4., 1., 1., 3., 3., 7., 2., 8., 2., 8., 6., 3., 2., 6., 4., 5., 9.,\n",
       "       2., 0., 4., 0., 7., 1., 0., 4., 0., 5., 4., 8., 7., 4., 0., 0., 1.,\n",
       "       0., 2., 3., 0., 2., 1., 7., 7., 0., 2., 4., 0., 4., 3., 1., 7., 7.,\n",
       "       4., 0., 6., 4., 0., 5., 7., 6., 9., 2., 5., 9., 7., 8., 9., 1., 2.,\n",
       "       0., 3., 6., 6., 0., 8., 0., 6., 6., 0., 0., 2., 6., 7., 3., 5., 7.,\n",
       "       6., 9., 9., 1., 1., 8., 7., 0., 6., 4., 0., 0., 1., 7., 0., 0., 9.,\n",
       "       7., 8., 4., 6., 9., 7., 7., 4., 9., 1., 0., 1., 1., 6., 3., 8., 1.,\n",
       "       9., 7., 1., 0., 8., 3., 8., 5., 7., 1., 6., 5., 0., 3., 3., 5., 2.,\n",
       "       0., 4., 4., 0., 1., 5., 6., 8., 0., 1., 0., 7., 7., 9., 1., 4., 2.,\n",
       "       9., 6., 3., 5., 9., 9., 4., 5., 1., 6., 9., 0., 6., 1., 9., 3., 1.,\n",
       "       2., 9., 8., 2., 6., 9., 0., 9., 1., 0., 0., 8., 9., 3., 5., 1., 9.,\n",
       "       2., 6., 9., 8., 1., 7., 7., 5., 4., 1., 0., 6., 4., 4., 4., 3., 8.,\n",
       "       9., 5., 7., 5., 1., 2., 9., 8., 2., 1., 2., 1., 4., 2., 4., 5., 8.,\n",
       "       0., 4., 5., 4., 8., 7., 1., 3., 8., 7., 4., 0., 6., 8., 3., 8., 6.,\n",
       "       8., 2., 5., 6., 9., 2., 1., 0., 6., 0., 0., 0., 6., 5., 2., 9., 1.,\n",
       "       9., 3., 5., 8., 1., 9., 0., 6., 9., 0., 6., 8., 7., 1., 3., 1., 8.,\n",
       "       1., 9., 4., 5., 9., 0., 1., 0., 3., 2., 6., 3., 7., 4., 3., 2., 3.,\n",
       "       3., 5., 4., 1., 8., 8., 2., 3., 1., 0., 8., 9., 9., 9., 6., 9., 8.,\n",
       "       2., 2., 4., 3., 8., 0., 4., 2., 3., 0., 7., 0., 4., 3., 2., 4., 9.,\n",
       "       6., 4., 1., 9., 4., 4., 5., 8., 6., 9., 0., 9., 9., 3., 7., 0., 8.,\n",
       "       0., 7., 6., 5., 5., 4., 1., 2., 4., 5., 0., 8., 3., 7., 0., 4., 9.,\n",
       "       0., 9., 6., 0., 7., 5., 6., 4., 2., 9., 4., 6., 6., 4., 8., 1., 1.,\n",
       "       0., 1., 7., 4., 4., 6., 0., 0., 7., 9., 6., 8., 8., 1., 2., 1., 6.,\n",
       "       0., 0., 6., 9., 7., 0., 3., 6., 1., 8., 9., 1., 1., 0., 4., 5., 0.,\n",
       "       9., 9., 3., 5., 1., 4., 6., 2., 2., 4., 6., 0., 9., 8., 5., 1., 3.,\n",
       "       8., 9., 3., 0., 6., 0., 8., 5., 8., 2., 8., 8., 8., 9., 7., 3., 4.,\n",
       "       7., 9., 7., 4., 9., 9., 8., 5., 7., 6., 5., 6., 6., 9., 4., 3., 6.,\n",
       "       9., 4., 8., 0., 9., 0., 1., 8., 0., 8., 7., 3., 5., 1., 6., 2., 0.,\n",
       "       5., 4., 0., 1., 0., 7., 3., 3., 0., 8., 4., 4., 7., 4., 1., 9., 2.,\n",
       "       0., 4., 2., 8., 8., 0., 5., 3., 7., 8., 2., 8., 9., 0., 5., 5., 1.,\n",
       "       4., 2., 4., 3., 0., 4., 8., 5., 8., 8., 5., 9., 2., 6., 6., 9., 7.,\n",
       "       6., 0., 3., 4., 5., 7., 0., 5., 6., 3., 8., 6., 8., 1., 0., 3., 7.,\n",
       "       8., 5., 4., 0., 9., 0., 6., 0., 3., 0., 6., 1., 8., 7., 2., 1., 4.,\n",
       "       1., 5., 0., 3., 6., 5., 4., 7., 7., 9., 5., 5., 7., 3., 6., 7., 6.,\n",
       "       0., 0., 0., 9., 0., 8., 0., 4., 3., 3., 7., 5., 0., 4., 0., 8., 6.,\n",
       "       3., 7., 7., 6., 6., 4., 2., 1., 3., 9., 7., 2., 7., 1., 8., 0., 2.,\n",
       "       3., 9., 8., 6., 6., 0., 9., 3., 4., 1., 9., 2., 0., 6., 3., 6., 3.,\n",
       "       1., 3., 6., 4., 3., 4., 0., 8., 3., 0., 4., 1., 6., 8., 1., 6., 4.,\n",
       "       5., 0., 0., 3., 1., 8., 7., 9., 8., 9., 8., 1., 1., 5., 1., 8., 8.,\n",
       "       2., 2., 1., 4., 4., 4., 2., 7., 3., 1., 7., 0., 8., 2., 3., 8., 6.,\n",
       "       0., 2., 7., 0., 3., 2., 3., 2., 0., 9., 0., 1., 6., 2., 7., 1., 6.,\n",
       "       9., 1., 1., 1., 0., 3., 1., 3., 8., 7., 2., 1., 5., 6., 5., 2., 0.,\n",
       "       4., 3., 6., 2., 0., 4., 3., 1., 1., 9., 5., 9., 7., 3., 2., 0., 2.,\n",
       "       1., 1., 2., 0., 4., 6., 5., 9., 4., 4., 0., 1., 7., 2.])"
      ]
     },
     "execution_count": 124,
     "metadata": {},
     "output_type": "execute_result"
    }
   ],
   "source": [
    "output_y2 = np.zeros(y_final.shape[0])\n",
    "\n",
    "for i in range(y_final.shape[0]):\n",
    "    for j in range(y_final.shape[1]):\n",
    "        if y_final[i, j] >= max(y_final[i, ]):\n",
    "            output_y2[i] = j\n",
    "\n",
    "output_y2"
   ]
  },
  {
   "cell_type": "code",
   "execution_count": 125,
   "id": "4018afb5",
   "metadata": {},
   "outputs": [],
   "source": [
    "for i in range(len(file_name)):\n",
    "    path = data_path + '\\\\' + file_name[i]\n",
    "    txt_name = os.path.splitext(file_name[i].split('.')[0])[0]\n",
    "\n",
    "    with open('711033123new.txt', 'a+') as f:\n",
    "        f.write(txt_name + ' ' + str(int(output_y2[i])) + '\\n')"
   ]
  },
  {
   "cell_type": "code",
   "execution_count": null,
   "id": "189d1949",
   "metadata": {},
   "outputs": [],
   "source": []
  }
 ],
 "metadata": {
  "interpreter": {
   "hash": "91c9659ac2f1581738eab8b8fe885b211314b5a33fdc0e566a03c4cdc3e2fc69"
  },
  "kernelspec": {
   "display_name": "Python 3.9.12 ('tensorflow')",
   "language": "python",
   "name": "python3"
  },
  "language_info": {
   "codemirror_mode": {
    "name": "ipython",
    "version": 3
   },
   "file_extension": ".py",
   "mimetype": "text/x-python",
   "name": "python",
   "nbconvert_exporter": "python",
   "pygments_lexer": "ipython3",
   "version": "3.9.12"
  }
 },
 "nbformat": 4,
 "nbformat_minor": 5
}
