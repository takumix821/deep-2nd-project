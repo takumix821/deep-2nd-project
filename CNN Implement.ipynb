{
 "cells": [
  {
   "cell_type": "markdown",
   "id": "5401a171",
   "metadata": {},
   "source": [
    "### Confirm Tensorflow Installation"
   ]
  },
  {
   "cell_type": "code",
   "execution_count": 1,
   "id": "304bcb56",
   "metadata": {},
   "outputs": [
    {
     "name": "stdout",
     "output_type": "stream",
     "text": [
      "2.6.0\n",
      "2.6.0\n"
     ]
    }
   ],
   "source": [
    "import tensorflow as tf\n",
    "import tensorflow.keras as keras\n",
    "print(tf.__version__)\n",
    "print(keras.__version__)"
   ]
  },
  {
   "cell_type": "markdown",
   "id": "e9702e06",
   "metadata": {},
   "source": [
    "### Importing the necessary modules"
   ]
  },
  {
   "cell_type": "code",
   "execution_count": 2,
   "id": "f9c932c1",
   "metadata": {},
   "outputs": [],
   "source": [
    "import numpy as np\n",
    "import os\n",
    "from os import listdir \n",
    "from os.path import isfile, join\n",
    "import cv2\n",
    "\n",
    "import tensorflow as tf\n",
    "import tensorflow.keras as keras\n"
   ]
  },
  {
   "cell_type": "markdown",
   "id": "02686e89",
   "metadata": {},
   "source": [
    "### Loading and Preprocessing"
   ]
  },
  {
   "cell_type": "code",
   "execution_count": 3,
   "id": "6e0278dc",
   "metadata": {},
   "outputs": [
    {
     "name": "stdout",
     "output_type": "stream",
     "text": [
      "found 5000 files.\n",
      "folder: ['0', '1', '2', '3', '4', '5', '6', '7', '8', '9']\n"
     ]
    }
   ],
   "source": [
    "#Data visiting – os.walk()\n",
    "\n",
    "label_folder = []\n",
    "total_size = 0\n",
    "data_path = r\"D:\\CIFAR10_Test Image\\Training_data\"\n",
    "\n",
    "#os.walk() generates the file names(dirpath, dirnames, filenames) \n",
    "#in a directory tree by walking the tree either top-down or bottom-up.\n",
    "for root, dirts, files in os.walk(data_path): \n",
    "    for dirt in dirts:\n",
    "        label_folder.append(dirt)\n",
    "    total_size += len(files)\n",
    "\n",
    "    \n",
    "print(\"found\",total_size,\"files.\")\n",
    "print(\"folder:\",label_folder)"
   ]
  },
  {
   "cell_type": "code",
   "execution_count": 4,
   "id": "ecec1475",
   "metadata": {},
   "outputs": [
    {
     "name": "stdout",
     "output_type": "stream",
     "text": [
      "(5000, 32, 32, 3)\n",
      "(5000,)\n"
     ]
    }
   ],
   "source": [
    "#Load image\n",
    "\n",
    "base_x_train = []\n",
    "base_y_train = []\n",
    "\n",
    "for i in range(len(label_folder)):\n",
    "    labelPath = data_path+r'\\\\'+label_folder[i]\n",
    "    \n",
    "    #listdir() returns a list containing the names of the entries in the directory given by path.\n",
    "    #isfile() is used to check whether the specified path is an existing regular file or not.\n",
    "    FileName = [f for f in listdir(labelPath) if isfile(join(labelPath, f))]\n",
    "    \n",
    "    for j in range(len(FileName)):\n",
    "        path = labelPath+r'\\\\'+FileName[j]\n",
    "        \n",
    "        #use cv2.imread read image.\n",
    "        img = cv2.imread(path,cv2.IMREAD_COLOR)\n",
    "        \n",
    "        base_x_train.append(img)\n",
    "        base_y_train.append(label_folder[i])\n",
    "\n",
    "\n",
    "print(np.array(base_x_train).shape)\n",
    "print(np.array(base_y_train).shape)\n",
    "        "
   ]
  },
  {
   "cell_type": "code",
   "execution_count": 5,
   "id": "4524f916",
   "metadata": {},
   "outputs": [
    {
     "name": "stdout",
     "output_type": "stream",
     "text": [
      "(5000, 32, 32, 3)\n",
      "(5000, 10)\n"
     ]
    }
   ],
   "source": [
    "from tensorflow.keras.utils import to_categorical\n",
    "\n",
    "#Convert a category vector to a binary (0 or 1) matrix-type representation\n",
    "\n",
    "base_y_train = to_categorical(base_y_train)\n",
    "\n",
    "\n",
    "print(np.array(base_x_train).shape)\n",
    "print(np.array(base_y_train).shape)\n",
    "        "
   ]
  },
  {
   "cell_type": "markdown",
   "id": "bbef7560",
   "metadata": {},
   "source": [
    "### Splitting the Data into training and validation data"
   ]
  },
  {
   "cell_type": "code",
   "execution_count": 6,
   "id": "d8b2f1af",
   "metadata": {},
   "outputs": [
    {
     "name": "stdout",
     "output_type": "stream",
     "text": [
      "Training data: (4000, 32, 32, 3) (4000, 10)\n",
      "Validation data: (1000, 32, 32, 3) (1000, 10)\n"
     ]
    }
   ],
   "source": [
    "# Split into training and validation sets\n",
    "from sklearn.model_selection import train_test_split\n",
    "x_train, x_valid, y_train, y_valid = train_test_split( \\\n",
    "    np.array(base_x_train), np.array(base_y_train), test_size=0.2, random_state = 0)\n",
    "\n",
    "print(\"Training data:\", x_train.shape, y_train.shape)\n",
    "print(\"Validation data:\", x_valid.shape, y_valid.shape)"
   ]
  },
  {
   "cell_type": "markdown",
   "id": "845fcdd8",
   "metadata": {},
   "source": [
    "### Show the image"
   ]
  },
  {
   "cell_type": "code",
   "execution_count": 7,
   "id": "cee274df",
   "metadata": {
    "scrolled": true
   },
   "outputs": [
    {
     "data": {
      "image/png": "[encoded data removed]",
      "text/plain": [
       "<Figure size 432x288 with 1 Axes>"
      ]
     },
     "metadata": {
      "needs_background": "light"
     },
     "output_type": "display_data"
    },
    {
     "name": "stdout",
     "output_type": "stream",
     "text": [
      "Answer: 0\n",
      "Answer(one-hot): [1. 0. 0. 0. 0. 0. 0. 0. 0. 0.]\n"
     ]
    }
   ],
   "source": [
    "import random\n",
    "import matplotlib.pyplot as plt\n",
    "\n",
    "idx = random.randint(0, x_train.shape[0])\n",
    "plt.imshow(x_train[idx])\n",
    "plt.show()\n",
    "\n",
    "print(\"Answer:\", np.argmax(y_train[idx]))\n",
    "print(\"Answer(one-hot):\", y_train[idx])"
   ]
  },
  {
   "cell_type": "markdown",
   "id": "03800027",
   "metadata": {},
   "source": [
    "### Build the network"
   ]
  },
  {
   "cell_type": "markdown",
   "id": "c16d57f1",
   "metadata": {},
   "source": [
    "You can show the detail for it:"
   ]
  },
  {
   "cell_type": "code",
   "execution_count": 8,
   "id": "8d5c1e62",
   "metadata": {},
   "outputs": [],
   "source": [
    "\"\"\"model4 = tf.keras.models.Sequential()\n",
    "model4.add(Conv2D(32, (3, 3), activation='relu', kernel_initializer='he_uniform', padding='same', input_shape=(32, 32, 3)))\n",
    "model4.add(Conv2D(32, (3, 3), activation='relu', kernel_initializer='he_uniform', padding='same'))\n",
    "model4.add(MaxPool2D((2, 2)))\n",
    "model4.add(Dropout(0.2))\n",
    "model4.add(Conv2D(64, (3, 3), activation='relu', kernel_initializer='he_uniform', padding='same'))\n",
    "model4.add(Conv2D(64, (3, 3), activation='relu', kernel_initializer='he_uniform', padding='same'))\n",
    "model4.add(MaxPool2D((2, 2)))\n",
    "model4.add(Dropout(0.3))\n",
    "model4.add(Conv2D(128, (3, 3), activation='relu', kernel_initializer='he_uniform', padding='same'))\n",
    "model4.add(Conv2D(128, (3, 3), activation='relu', kernel_initializer='he_uniform', padding='same'))\n",
    "model4.add(MaxPool2D((2, 2)))\n",
    "model4.add(Dropout(0.4))\n",
    "model4.add(Flatten())\n",
    "model4.add(Dense(128, activation='relu', kernel_initializer='he_uniform'))\n",
    "model4.add(Dropout(0.5))\n",
    "model4.add(Dense(10, activation='softmax'))\n",
    "\"\"\"\n",
    "\n",
    "model = tf.keras.models.Sequential([\n",
    "    tf.keras.layers.Conv2D(32, (3, 3), padding=\"same\", kernel_initializer='he_uniform', activation='relu', input_shape=(32, 32, 3)),\n",
    "    tf.keras.layers.Conv2D(32, (3, 3), padding=\"same\", kernel_initializer='he_uniform', activation='relu'),\n",
    "    tf.keras.layers.MaxPool2D((2,2)),\n",
    "    tf.keras.layers.Dropout(0.2),\n",
    "    tf.keras.layers.Conv2D(64, (3, 3), padding=\"same\", kernel_initializer='he_uniform', activation='relu'),\n",
    "    tf.keras.layers.Conv2D(64, (3, 3), padding=\"same\", kernel_initializer='he_uniform', activation='relu'),\n",
    "    tf.keras.layers.MaxPool2D((2,2)),\n",
    "    tf.keras.layers.Dropout(0.3),\n",
    "    tf.keras.layers.Conv2D(128, (3, 3), padding=\"same\", kernel_initializer='he_uniform', activation='relu'),\n",
    "    tf.keras.layers.Conv2D(128, (3, 3), padding=\"same\", kernel_initializer='he_uniform', activation='relu'),\n",
    "    tf.keras.layers.MaxPool2D((2,2)),\n",
    "    tf.keras.layers.Dropout(0.4),\n",
    "    tf.keras.layers.Flatten(),\n",
    "    tf.keras.layers.Dense(128, activation='relu', kernel_initializer='he_uniform'),\n",
    "    tf.keras.layers.Dropout(0.5),\n",
    "    tf.keras.layers.Dense(10, activation='softmax')\n",
    "])"
   ]
  },
  {
   "cell_type": "code",
   "execution_count": 9,
   "id": "f278291a",
   "metadata": {},
   "outputs": [
    {
     "name": "stdout",
     "output_type": "stream",
     "text": [
      "Model: \"sequential\"\n",
      "_________________________________________________________________\n",
      "Layer (type)                 Output Shape              Param #   \n",
      "=================================================================\n",
      "conv2d (Conv2D)              (None, 32, 32, 32)        896       \n",
      "_________________________________________________________________\n",
      "conv2d_1 (Conv2D)            (None, 32, 32, 32)        9248      \n",
      "_________________________________________________________________\n",
      "max_pooling2d (MaxPooling2D) (None, 16, 16, 32)        0         \n",
      "_________________________________________________________________\n",
      "dropout (Dropout)            (None, 16, 16, 32)        0         \n",
      "_________________________________________________________________\n",
      "conv2d_2 (Conv2D)            (None, 16, 16, 64)        18496     \n",
      "_________________________________________________________________\n",
      "conv2d_3 (Conv2D)            (None, 16, 16, 64)        36928     \n",
      "_________________________________________________________________\n",
      "max_pooling2d_1 (MaxPooling2 (None, 8, 8, 64)          0         \n",
      "_________________________________________________________________\n",
      "dropout_1 (Dropout)          (None, 8, 8, 64)          0         \n",
      "_________________________________________________________________\n",
      "conv2d_4 (Conv2D)            (None, 8, 8, 128)         73856     \n",
      "_________________________________________________________________\n",
      "conv2d_5 (Conv2D)            (None, 8, 8, 128)         147584    \n",
      "_________________________________________________________________\n",
      "max_pooling2d_2 (MaxPooling2 (None, 4, 4, 128)         0         \n",
      "_________________________________________________________________\n",
      "dropout_2 (Dropout)          (None, 4, 4, 128)         0         \n",
      "_________________________________________________________________\n",
      "flatten (Flatten)            (None, 2048)              0         \n",
      "_________________________________________________________________\n",
      "dense (Dense)                (None, 128)               262272    \n",
      "_________________________________________________________________\n",
      "dropout_3 (Dropout)          (None, 128)               0         \n",
      "_________________________________________________________________\n",
      "dense_1 (Dense)              (None, 10)                1290      \n",
      "=================================================================\n",
      "Total params: 550,570\n",
      "Trainable params: 550,570\n",
      "Non-trainable params: 0\n",
      "_________________________________________________________________\n",
      "None\n"
     ]
    }
   ],
   "source": [
    "print(model.summary())"
   ]
  },
  {
   "cell_type": "markdown",
   "id": "77060e81",
   "metadata": {},
   "source": [
    "### Training the network"
   ]
  },
  {
   "cell_type": "code",
   "execution_count": 10,
   "id": "5bd9f24f",
   "metadata": {},
   "outputs": [
    {
     "name": "stdout",
     "output_type": "stream",
     "text": [
      "Epoch 1/30\n",
      "125/125 [==============================] - 14s 31ms/step - loss: 37.2136 - accuracy: 0.0985 - val_loss: 2.3027 - val_accuracy: 0.0920\n",
      "Epoch 2/30\n",
      "125/125 [==============================] - 3s 25ms/step - loss: 2.3146 - accuracy: 0.0938 - val_loss: 2.3031 - val_accuracy: 0.0820\n",
      "Epoch 3/30\n",
      "125/125 [==============================] - 3s 25ms/step - loss: 2.3129 - accuracy: 0.0983 - val_loss: 2.3035 - val_accuracy: 0.0820\n",
      "Epoch 4/30\n",
      "125/125 [==============================] - 3s 27ms/step - loss: 2.3079 - accuracy: 0.0990 - val_loss: 2.3037 - val_accuracy: 0.0820\n",
      "Epoch 5/30\n",
      "125/125 [==============================] - 3s 27ms/step - loss: 2.3064 - accuracy: 0.1032 - val_loss: 2.3041 - val_accuracy: 0.0820\n",
      "Epoch 6/30\n",
      "125/125 [==============================] - 4s 28ms/step - loss: 2.3083 - accuracy: 0.0985 - val_loss: 2.3043 - val_accuracy: 0.0820\n",
      "Epoch 7/30\n",
      "125/125 [==============================] - 4s 28ms/step - loss: 2.3065 - accuracy: 0.1047 - val_loss: 2.3045 - val_accuracy: 0.0820\n",
      "Epoch 8/30\n",
      "125/125 [==============================] - 3s 26ms/step - loss: 2.3031 - accuracy: 0.1045 - val_loss: 2.3046 - val_accuracy: 0.0820\n",
      "Epoch 9/30\n",
      "125/125 [==============================] - 3s 26ms/step - loss: 2.3044 - accuracy: 0.1045 - val_loss: 2.3047 - val_accuracy: 0.0820\n",
      "Epoch 10/30\n",
      "125/125 [==============================] - 3s 27ms/step - loss: 2.3048 - accuracy: 0.1045 - val_loss: 2.3048 - val_accuracy: 0.0820\n",
      "Epoch 11/30\n",
      "125/125 [==============================] - 3s 26ms/step - loss: 2.3030 - accuracy: 0.1047 - val_loss: 2.3049 - val_accuracy: 0.0820\n",
      "Epoch 12/30\n",
      "125/125 [==============================] - 3s 26ms/step - loss: 2.3047 - accuracy: 0.1053 - val_loss: 2.3049 - val_accuracy: 0.0820\n",
      "Epoch 13/30\n",
      "125/125 [==============================] - 3s 26ms/step - loss: 2.3041 - accuracy: 0.1025 - val_loss: 2.3050 - val_accuracy: 0.0820\n",
      "Epoch 14/30\n",
      "125/125 [==============================] - 3s 26ms/step - loss: 2.3025 - accuracy: 0.1045 - val_loss: 2.3050 - val_accuracy: 0.0820\n",
      "Epoch 15/30\n",
      "125/125 [==============================] - 3s 26ms/step - loss: 2.3031 - accuracy: 0.1045 - val_loss: 2.3050 - val_accuracy: 0.0820\n",
      "Epoch 16/30\n",
      "125/125 [==============================] - 3s 28ms/step - loss: 2.3024 - accuracy: 0.1045 - val_loss: 2.3051 - val_accuracy: 0.0820\n",
      "Epoch 17/30\n",
      "125/125 [==============================] - 4s 31ms/step - loss: 2.3041 - accuracy: 0.1047 - val_loss: 2.3046 - val_accuracy: 0.0820\n",
      "Epoch 18/30\n",
      "125/125 [==============================] - 3s 27ms/step - loss: 2.3024 - accuracy: 0.1002 - val_loss: 2.3051 - val_accuracy: 0.0820\n",
      "Epoch 19/30\n",
      "125/125 [==============================] - 4s 30ms/step - loss: 2.3064 - accuracy: 0.1045 - val_loss: 2.3050 - val_accuracy: 0.0820\n",
      "Epoch 20/30\n",
      "125/125 [==============================] - 4s 28ms/step - loss: 2.3030 - accuracy: 0.1042 - val_loss: 2.3052 - val_accuracy: 0.0820\n",
      "Epoch 21/30\n",
      "125/125 [==============================] - 4s 28ms/step - loss: 2.3023 - accuracy: 0.1045 - val_loss: 2.3051 - val_accuracy: 0.0820\n",
      "Epoch 22/30\n",
      "125/125 [==============================] - 4s 28ms/step - loss: 2.3025 - accuracy: 0.1045 - val_loss: 2.3052 - val_accuracy: 0.0820\n",
      "Epoch 23/30\n",
      "125/125 [==============================] - 3s 28ms/step - loss: 2.3025 - accuracy: 0.1045 - val_loss: 2.3052 - val_accuracy: 0.0820\n",
      "Epoch 24/30\n",
      "125/125 [==============================] - 3s 27ms/step - loss: 2.3025 - accuracy: 0.1045 - val_loss: 2.3052 - val_accuracy: 0.0820\n",
      "Epoch 25/30\n",
      "125/125 [==============================] - 3s 28ms/step - loss: 2.3025 - accuracy: 0.1045 - val_loss: 2.3052 - val_accuracy: 0.0820\n",
      "Epoch 26/30\n",
      "125/125 [==============================] - 3s 27ms/step - loss: 2.3025 - accuracy: 0.1045 - val_loss: 2.3051 - val_accuracy: 0.0820\n",
      "Epoch 27/30\n",
      "125/125 [==============================] - 3s 27ms/step - loss: 2.3027 - accuracy: 0.1047 - val_loss: 2.3052 - val_accuracy: 0.0820\n",
      "Epoch 28/30\n",
      "125/125 [==============================] - 3s 28ms/step - loss: 2.3113 - accuracy: 0.1045 - val_loss: 2.3051 - val_accuracy: 0.0820\n",
      "Epoch 29/30\n",
      "125/125 [==============================] - 3s 27ms/step - loss: 2.3036 - accuracy: 0.1045 - val_loss: 2.3051 - val_accuracy: 0.0820\n",
      "Epoch 30/30\n",
      "125/125 [==============================] - 3s 28ms/step - loss: 2.3613 - accuracy: 0.1042 - val_loss: 2.3051 - val_accuracy: 0.0820\n"
     ]
    }
   ],
   "source": [
    "epoch = 30\n",
    "\n",
    "model.compile(\n",
    "    loss=\"categorical_crossentropy\", \n",
    "    optimizer=\"adam\", \n",
    "    metrics=[\"accuracy\"]\n",
    ")\n",
    "history = model.fit(\n",
    "    x_train, \n",
    "    y_train, \n",
    "    epochs=epoch, \n",
    "    validation_data=(x_valid, y_valid)\n",
    ")"
   ]
  },
  {
   "cell_type": "code",
   "execution_count": 11,
   "id": "2ed18ac6",
   "metadata": {},
   "outputs": [
    {
     "data": {
      "image/png": "[encoded data removed]",
      "text/plain": [
       "<Figure size 576x360 with 1 Axes>"
      ]
     },
     "metadata": {
      "needs_background": "light"
     },
     "output_type": "display_data"
    },
    {
     "name": "stdout",
     "output_type": "stream",
     "text": [
      "32/32 [==============================] - 1s 15ms/step - loss: 0.9920 - accuracy: 0.7000\n",
      "Predict probabilities: [[0.55 0.   0.36 0.02 0.   0.   0.02 0.   0.04 0.01]\n",
      " [0.01 0.09 0.06 0.14 0.02 0.08 0.1  0.09 0.01 0.4 ]\n",
      " [0.   0.03 0.   0.   0.   0.   0.   0.   0.01 0.95]]\n",
      "Predict answers: [0 9 9]\n"
     ]
    }
   ],
   "source": [
    "import pandas as pd\n",
    "\n",
    "pd.DataFrame(history.history).plot(figsize=(8, 5))\n",
    "plt.grid(True)\n",
    "plt.gca().set_ylim(0, 2)\n",
    "plt.show()\n",
    "\n",
    "model.evaluate(x_valid, y_valid)\n",
    "\n",
    "x_new = x_valid[:3]\n",
    "y_predict = model.predict(x_new)\n",
    "print(\"Predict probabilities:\", y_predict.round(2))\n",
    "print(\"Predict answers:\", y_predict.argmax(axis=1))"
   ]
  },
  {
   "cell_type": "code",
   "execution_count": 12,
   "id": "aa73ffd6",
   "metadata": {},
   "outputs": [
    {
     "data": {
      "image/png": "[encoded data removed]",
      "text/plain": [
       "<Figure size 432x288 with 1 Axes>"
      ]
     },
     "metadata": {
      "needs_background": "light"
     },
     "output_type": "display_data"
    }
   ],
   "source": [
    "plt.plot(history.history['accuracy'][:20])\n",
    "plt.plot(history.history['val_accuracy'][:20])\n",
    "plt.ylabel('accuracy')\n",
    "plt.xlabel('epoch')\n",
    "plt.legend(['train accuracy','test accuracy'])\n",
    "plt.show()"
   ]
  },
  {
   "cell_type": "markdown",
   "id": "5fc5dedd",
   "metadata": {},
   "source": [
    "### Saving the trained weights"
   ]
  },
  {
   "cell_type": "code",
   "execution_count": 81,
   "id": "073526c9",
   "metadata": {},
   "outputs": [],
   "source": [
    "model.save(\"my_model70.hdf5\")"
   ]
  },
  {
   "cell_type": "code",
   "execution_count": 139,
   "id": "6411dfa2",
   "metadata": {},
   "outputs": [],
   "source": [
    "from tensorflow.keras.models import load_model\n",
    "model2 = load_model(\"my_model70.hdf5\")"
   ]
  },
  {
   "cell_type": "code",
   "execution_count": 140,
   "id": "ef54cef5",
   "metadata": {},
   "outputs": [
    {
     "name": "stdout",
     "output_type": "stream",
     "text": [
      "Model: \"sequential_20\"\n",
      "_________________________________________________________________\n",
      "Layer (type)                 Output Shape              Param #   \n",
      "=================================================================\n",
      "conv2d_133 (Conv2D)          (None, 32, 32, 64)        1792      \n",
      "_________________________________________________________________\n",
      "conv2d_134 (Conv2D)          (None, 32, 32, 64)        36928     \n",
      "_________________________________________________________________\n",
      "max_pooling2d_64 (MaxPooling (None, 16, 16, 64)        0         \n",
      "_________________________________________________________________\n",
      "conv2d_135 (Conv2D)          (None, 16, 16, 128)       73856     \n",
      "_________________________________________________________________\n",
      "conv2d_136 (Conv2D)          (None, 16, 16, 128)       147584    \n",
      "_________________________________________________________________\n",
      "max_pooling2d_65 (MaxPooling (None, 8, 8, 128)         0         \n",
      "_________________________________________________________________\n",
      "conv2d_137 (Conv2D)          (None, 8, 8, 256)         295168    \n",
      "_________________________________________________________________\n",
      "conv2d_138 (Conv2D)          (None, 8, 8, 256)         590080    \n",
      "_________________________________________________________________\n",
      "max_pooling2d_66 (MaxPooling (None, 4, 4, 256)         0         \n",
      "_________________________________________________________________\n",
      "flatten_20 (Flatten)         (None, 4096)              0         \n",
      "_________________________________________________________________\n",
      "dense_63 (Dense)             (None, 128)               524416    \n",
      "_________________________________________________________________\n",
      "dense_64 (Dense)             (None, 10)                1290      \n",
      "=================================================================\n",
      "Total params: 1,671,114\n",
      "Trainable params: 1,671,114\n",
      "Non-trainable params: 0\n",
      "_________________________________________________________________\n"
     ]
    }
   ],
   "source": [
    "model2.summary()"
   ]
  },
  {
   "cell_type": "code",
   "execution_count": 141,
   "id": "8438b272",
   "metadata": {},
   "outputs": [],
   "source": [
    "y_hat = model2.predict(x_valid)"
   ]
  },
  {
   "cell_type": "code",
   "execution_count": 142,
   "id": "38e211c4",
   "metadata": {},
   "outputs": [
    {
     "data": {
      "text/plain": [
       "array([2., 6., 9., ..., 2., 6., 2.])"
      ]
     },
     "execution_count": 142,
     "metadata": {},
     "output_type": "execute_result"
    }
   ],
   "source": [
    "# 將output改為標籤\n",
    "output_y = np.zeros(y_hat.shape[0])\n",
    "\n",
    "for i in range(y_hat.shape[0]):\n",
    "    for j in range(y_hat.shape[1]):\n",
    "        if y_hat[i, j] >= max(y_hat[i, ]):\n",
    "            output_y[i] = j\n",
    "\n",
    "output_y"
   ]
  },
  {
   "cell_type": "code",
   "execution_count": 143,
   "id": "0ccc3cb7",
   "metadata": {},
   "outputs": [
    {
     "data": {
      "text/plain": [
       "array([0., 7., 9., ..., 2., 5., 2.])"
      ]
     },
     "execution_count": 143,
     "metadata": {},
     "output_type": "execute_result"
    }
   ],
   "source": [
    "output_yv = np.zeros(y_valid.shape[0])\n",
    "\n",
    "for i in range(y_valid.shape[0]):\n",
    "    for j in range(y_valid.shape[1]):\n",
    "        if y_valid[i, j] >= max(y_valid[i, ]):\n",
    "            output_yv[i] = j\n",
    "\n",
    "output_yv"
   ]
  },
  {
   "cell_type": "code",
   "execution_count": 144,
   "id": "5f1f4fe3",
   "metadata": {},
   "outputs": [
    {
     "data": {
      "text/plain": [
       "0.7013333333333334"
      ]
     },
     "execution_count": 144,
     "metadata": {},
     "output_type": "execute_result"
    }
   ],
   "source": [
    "sum(output_y == output_yv) / len(output_y)"
   ]
  },
  {
   "cell_type": "code",
   "execution_count": 145,
   "id": "717ec66e",
   "metadata": {},
   "outputs": [
    {
     "name": "stdout",
     "output_type": "stream",
     "text": [
      "found 1000 files.\n"
     ]
    }
   ],
   "source": [
    "# 結果寫入檔案開始\n",
    "\n",
    "file_name = []\n",
    "total_size = 0\n",
    "data_path = r\"D:\\CIFAR10_Test Image\\Testing_data\"\n",
    "\n",
    "for root, dirts, files in os.walk(data_path):\n",
    "    for file in files:\n",
    "        file_name.append(file)\n",
    "        \n",
    "    total_size += len(files)\n",
    "\n",
    "print('found {} files.'.format(total_size))\n"
   ]
  },
  {
   "cell_type": "code",
   "execution_count": 146,
   "id": "931c4d91",
   "metadata": {},
   "outputs": [
    {
     "name": "stdout",
     "output_type": "stream",
     "text": [
      "(1000, 32, 32, 3)\n"
     ]
    }
   ],
   "source": [
    "base_x_test = []\n",
    "\n",
    "for i in range(len(file_name)):\n",
    "    label_path = data_path + '\\\\' + file_name[i]\n",
    "\n",
    "    img = cv2.imread(label_path, cv2.IMREAD_COLOR)\n",
    "    base_x_test.append(img)\n",
    "\n",
    "print(np.array(base_x_test).shape)"
   ]
  },
  {
   "cell_type": "code",
   "execution_count": 147,
   "id": "d63c5a6a",
   "metadata": {},
   "outputs": [],
   "source": [
    "y_final = model2.predict(np.array(base_x_test))"
   ]
  },
  {
   "cell_type": "code",
   "execution_count": 148,
   "id": "5961487a",
   "metadata": {},
   "outputs": [
    {
     "data": {
      "text/plain": [
       "array([2., 9., 8., 1., 4., 5., 3., 9., 3., 7., 4., 2., 1., 1., 0., 1., 5.,\n",
       "       6., 5., 5., 8., 5., 1., 6., 9., 4., 0., 5., 7., 0., 4., 4., 9., 4.,\n",
       "       9., 5., 8., 6., 0., 4., 5., 5., 7., 6., 2., 8., 3., 5., 7., 7., 8.,\n",
       "       2., 3., 5., 9., 4., 6., 1., 6., 0., 9., 6., 2., 6., 7., 6., 8., 3.,\n",
       "       9., 7., 5., 3., 2., 9., 7., 7., 1., 6., 2., 1., 9., 9., 0., 7., 3.,\n",
       "       5., 8., 9., 3., 6., 1., 8., 7., 9., 4., 8., 1., 5., 5., 4., 0., 8.,\n",
       "       6., 9., 5., 0., 9., 4., 4., 1., 4., 8., 0., 2., 9., 0., 3., 4., 7.,\n",
       "       4., 5., 2., 2., 4., 2., 0., 0., 8., 8., 3., 6., 0., 8., 6., 7., 3.,\n",
       "       0., 1., 4., 8., 8., 8., 1., 6., 4., 8., 9., 1., 4., 0., 3., 0., 5.,\n",
       "       1., 2., 7., 1., 2., 4., 2., 1., 6., 9., 6., 5., 5., 4., 7., 1., 7.,\n",
       "       7., 5., 8., 5., 1., 3., 6., 9., 3., 7., 8., 1., 2., 2., 3., 8., 8.,\n",
       "       0., 6., 4., 2., 3., 7., 1., 4., 4., 5., 7., 2., 3., 9., 1., 1., 3.,\n",
       "       5., 3., 0., 5., 7., 2., 2., 9., 4., 9., 7., 9., 5., 3., 9., 8., 1.,\n",
       "       3., 8., 5., 4., 1., 4., 0., 1., 7., 5., 9., 2., 9., 3., 0., 9., 4.,\n",
       "       0., 9., 9., 9., 3., 6., 3., 8., 0., 1., 3., 6., 1., 8., 4., 4., 7.,\n",
       "       4., 1., 1., 5., 3., 7., 2., 8., 2., 8., 6., 3., 6., 6., 2., 5., 1.,\n",
       "       2., 3., 6., 3., 7., 1., 6., 4., 0., 5., 4., 8., 7., 2., 0., 0., 1.,\n",
       "       0., 6., 3., 0., 2., 1., 7., 7., 0., 2., 6., 0., 6., 5., 1., 6., 7.,\n",
       "       4., 0., 6., 4., 0., 5., 3., 5., 9., 3., 5., 9., 6., 8., 9., 9., 2.,\n",
       "       3., 3., 6., 6., 5., 2., 0., 6., 6., 0., 0., 2., 3., 6., 5., 5., 7.,\n",
       "       6., 9., 9., 1., 1., 8., 7., 0., 6., 4., 2., 0., 1., 6., 7., 5., 9.,\n",
       "       7., 8., 4., 6., 9., 7., 7., 4., 9., 1., 0., 7., 1., 4., 3., 6., 1.,\n",
       "       9., 7., 1., 2., 8., 3., 2., 5., 1., 1., 6., 5., 0., 3., 2., 5., 2.,\n",
       "       0., 4., 6., 0., 1., 6., 6., 8., 0., 1., 0., 7., 7., 9., 1., 4., 8.,\n",
       "       9., 6., 3., 5., 9., 9., 6., 5., 1., 9., 9., 0., 6., 1., 9., 3., 1.,\n",
       "       2., 9., 8., 6., 6., 6., 0., 9., 1., 0., 1., 8., 9., 3., 5., 1., 9.,\n",
       "       4., 6., 9., 8., 1., 4., 7., 5., 4., 1., 5., 6., 7., 7., 4., 3., 8.,\n",
       "       6., 5., 7., 5., 1., 2., 7., 8., 2., 1., 2., 1., 4., 2., 4., 5., 3.,\n",
       "       0., 0., 5., 6., 8., 7., 1., 3., 8., 7., 4., 0., 8., 8., 5., 8., 6.,\n",
       "       8., 2., 5., 6., 1., 4., 9., 0., 6., 0., 6., 2., 2., 5., 2., 9., 1.,\n",
       "       9., 3., 5., 8., 9., 9., 0., 6., 9., 0., 6., 8., 7., 7., 3., 1., 8.,\n",
       "       1., 0., 4., 4., 9., 2., 9., 3., 3., 2., 6., 3., 7., 4., 3., 2., 3.,\n",
       "       3., 6., 4., 1., 8., 8., 3., 3., 4., 0., 8., 9., 9., 9., 6., 9., 8.,\n",
       "       2., 2., 3., 3., 8., 0., 4., 2., 3., 0., 4., 0., 3., 3., 2., 4., 9.,\n",
       "       6., 4., 1., 9., 7., 4., 5., 8., 6., 9., 0., 9., 9., 3., 7., 5., 8.,\n",
       "       5., 5., 6., 5., 5., 4., 1., 2., 4., 5., 0., 8., 4., 7., 0., 0., 9.,\n",
       "       0., 9., 6., 0., 5., 5., 6., 4., 2., 9., 4., 6., 6., 4., 8., 1., 9.,\n",
       "       0., 1., 7., 4., 4., 6., 0., 0., 7., 9., 5., 8., 8., 4., 2., 9., 6.,\n",
       "       0., 0., 6., 9., 7., 0., 3., 6., 1., 8., 5., 1., 9., 0., 2., 5., 0.,\n",
       "       9., 9., 3., 3., 1., 4., 6., 2., 2., 4., 6., 0., 7., 8., 5., 9., 2.,\n",
       "       5., 9., 3., 3., 6., 0., 8., 5., 6., 3., 4., 7., 8., 9., 7., 3., 4.,\n",
       "       7., 9., 7., 6., 9., 7., 8., 5., 7., 6., 5., 6., 6., 9., 6., 5., 6.,\n",
       "       9., 4., 8., 0., 9., 2., 1., 9., 0., 8., 6., 5., 3., 1., 6., 2., 0.,\n",
       "       5., 4., 0., 1., 0., 7., 3., 3., 0., 6., 4., 4., 4., 4., 1., 9., 2.,\n",
       "       0., 4., 2., 6., 5., 8., 5., 3., 7., 8., 2., 8., 9., 0., 5., 5., 1.,\n",
       "       4., 2., 6., 3., 0., 4., 7., 5., 8., 8., 0., 9., 2., 8., 6., 9., 7.,\n",
       "       6., 0., 0., 4., 5., 7., 0., 5., 6., 3., 8., 6., 8., 9., 0., 3., 7.,\n",
       "       6., 5., 4., 0., 9., 0., 6., 0., 3., 0., 6., 1., 8., 7., 2., 9., 4.,\n",
       "       6., 5., 0., 3., 7., 5., 4., 6., 7., 9., 5., 5., 7., 3., 6., 7., 6.,\n",
       "       0., 0., 0., 9., 0., 8., 0., 4., 3., 3., 7., 5., 3., 4., 3., 8., 6.,\n",
       "       3., 7., 7., 1., 4., 4., 2., 1., 3., 9., 6., 2., 7., 1., 8., 0., 2.,\n",
       "       3., 9., 4., 6., 8., 0., 9., 3., 4., 9., 9., 3., 2., 6., 3., 6., 7.,\n",
       "       8., 5., 6., 4., 3., 4., 5., 4., 1., 2., 4., 9., 7., 4., 1., 6., 6.,\n",
       "       5., 0., 0., 3., 1., 8., 5., 9., 8., 9., 8., 1., 9., 3., 1., 8., 8.,\n",
       "       2., 2., 8., 4., 4., 6., 2., 9., 3., 1., 7., 0., 8., 2., 5., 8., 8.,\n",
       "       2., 8., 5., 0., 3., 2., 3., 2., 0., 9., 0., 1., 6., 2., 7., 9., 6.,\n",
       "       9., 9., 1., 6., 0., 3., 1., 3., 8., 7., 2., 1., 5., 6., 5., 2., 0.,\n",
       "       4., 3., 6., 3., 0., 4., 3., 1., 1., 9., 5., 9., 7., 3., 2., 0., 2.,\n",
       "       1., 1., 2., 0., 4., 6., 5., 9., 4., 4., 0., 1., 7., 3.])"
      ]
     },
     "execution_count": 148,
     "metadata": {},
     "output_type": "execute_result"
    }
   ],
   "source": [
    "output_y2 = np.zeros(y_final.shape[0])\n",
    "\n",
    "for i in range(y_final.shape[0]):\n",
    "    for j in range(y_final.shape[1]):\n",
    "        if y_final[i, j] >= max(y_final[i, ]):\n",
    "            output_y2[i] = j\n",
    "\n",
    "output_y2"
   ]
  },
  {
   "cell_type": "code",
   "execution_count": 150,
   "id": "4018afb5",
   "metadata": {},
   "outputs": [],
   "source": [
    "for i in range(len(file_name)):\n",
    "    path = data_path + '\\\\' + file_name[i]\n",
    "    txt_name = os.path.splitext(file_name[i].split('.')[0])[0]\n",
    "\n",
    "    with open('711033123.txt', 'a+') as f:\n",
    "        f.write(txt_name + ' ' + str(int(output_y2[i])) + '\\n')"
   ]
  },
  {
   "cell_type": "code",
   "execution_count": null,
   "id": "189d1949",
   "metadata": {},
   "outputs": [],
   "source": []
  }
 ],
 "metadata": {
  "interpreter": {
   "hash": "91c9659ac2f1581738eab8b8fe885b211314b5a33fdc0e566a03c4cdc3e2fc69"
  },
  "kernelspec": {
   "display_name": "Python 3.9.12 ('tensorflow')",
   "language": "python",
   "name": "python3"
  },
  "language_info": {
   "codemirror_mode": {
    "name": "ipython",
    "version": 3
   },
   "file_extension": ".py",
   "mimetype": "text/x-python",
   "name": "python",
   "nbconvert_exporter": "python",
   "pygments_lexer": "ipython3",
   "version": "3.9.12"
  }
 },
 "nbformat": 4,
 "nbformat_minor": 5
}
