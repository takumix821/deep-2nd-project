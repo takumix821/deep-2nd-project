{
 "cells": [
  {
   "cell_type": "markdown",
   "id": "5401a171",
   "metadata": {},
   "source": [
    "### Confirm Tensorflow Installation"
   ]
  },
  {
   "cell_type": "code",
   "execution_count": 1,
   "id": "304bcb56",
   "metadata": {},
   "outputs": [
    {
     "name": "stdout",
     "output_type": "stream",
     "text": [
      "2.6.0\n",
      "2.6.0\n"
     ]
    }
   ],
   "source": [
    "import tensorflow as tf\n",
    "import tensorflow.keras as keras\n",
    "print(tf.__version__)\n",
    "print(keras.__version__)"
   ]
  },
  {
   "cell_type": "code",
   "execution_count": 2,
   "id": "1e3c573b",
   "metadata": {},
   "outputs": [],
   "source": [
    "#import os\n",
    "#os.environ[\"CUDA_VISIBLE_DEVICES\"]='0'\n",
    "#tf.test.is_built_with_cuda()\n",
    "#tf.test.is_built_with_gpu_support()\n",
    "#tf.config.list_physical_devices('GPU')"
   ]
  },
  {
   "cell_type": "markdown",
   "id": "e9702e06",
   "metadata": {},
   "source": [
    "### Importing the necessary modules"
   ]
  },
  {
   "cell_type": "code",
   "execution_count": 3,
   "id": "f9c932c1",
   "metadata": {},
   "outputs": [],
   "source": [
    "import numpy as np\n",
    "import os\n",
    "from os import listdir \n",
    "from os.path import isfile, join\n",
    "import cv2\n",
    "\n",
    "import tensorflow as tf\n",
    "import tensorflow.keras as keras\n"
   ]
  },
  {
   "cell_type": "markdown",
   "id": "02686e89",
   "metadata": {},
   "source": [
    "### Loading and Preprocessing"
   ]
  },
  {
   "cell_type": "code",
   "execution_count": 4,
   "id": "6e0278dc",
   "metadata": {},
   "outputs": [
    {
     "name": "stdout",
     "output_type": "stream",
     "text": [
      "found 25000 files.\n",
      "folder: ['0', '1', '2', '3', '4']\n"
     ]
    }
   ],
   "source": [
    "#Data visiting – os.walk()\n",
    "\n",
    "label_folder = []\n",
    "total_size = 0\n",
    "data_path = r\"D:\\CIFAR10_Test Image\\Training_data\"\n",
    "\n",
    "#os.walk() generates the file names(dirpath, dirnames, filenames) \n",
    "#in a directory tree by walking the tree either top-down or bottom-up.\n",
    "for root, dirts, files in os.walk(data_path): \n",
    "    for dirt in dirts:\n",
    "        label_folder.append(dirt)\n",
    "    total_size += len(files)\n",
    "\n",
    "    \n",
    "print(\"found\",total_size,\"files.\")\n",
    "print(\"folder:\",label_folder)"
   ]
  },
  {
   "cell_type": "code",
   "execution_count": 5,
   "id": "ecec1475",
   "metadata": {},
   "outputs": [
    {
     "name": "stdout",
     "output_type": "stream",
     "text": [
      "(25000, 32, 32, 3)\n",
      "(25000,)\n"
     ]
    }
   ],
   "source": [
    "#Load image\n",
    "\n",
    "base_x_train = []\n",
    "base_y_train = []\n",
    "\n",
    "for i in range(len(label_folder)):\n",
    "    labelPath = data_path+r'\\\\'+label_folder[i]\n",
    "    \n",
    "    #listdir() returns a list containing the names of the entries in the directory given by path.\n",
    "    #isfile() is used to check whether the specified path is an existing regular file or not.\n",
    "    FileName = [f for f in listdir(labelPath) if isfile(join(labelPath, f))]\n",
    "    \n",
    "    for j in range(len(FileName)):\n",
    "        path = labelPath+r'\\\\'+FileName[j]\n",
    "        \n",
    "        #use cv2.imread read image.\n",
    "        img = cv2.imread(path,cv2.IMREAD_COLOR)\n",
    "        \n",
    "        base_x_train.append(img)\n",
    "        base_y_train.append(label_folder[i])\n",
    "\n",
    "\n",
    "print(np.array(base_x_train).shape)\n",
    "print(np.array(base_y_train).shape)\n",
    "        "
   ]
  },
  {
   "cell_type": "code",
   "execution_count": 6,
   "id": "4524f916",
   "metadata": {},
   "outputs": [
    {
     "name": "stdout",
     "output_type": "stream",
     "text": [
      "(25000, 32, 32, 3)\n",
      "(25000, 5)\n"
     ]
    }
   ],
   "source": [
    "from tensorflow.keras.utils import to_categorical\n",
    "\n",
    "#Convert a category vector to a binary (0 or 1) matrix-type representation\n",
    "\n",
    "base_y_train = to_categorical(base_y_train)\n",
    "\n",
    "\n",
    "print(np.array(base_x_train).shape)\n",
    "print(np.array(base_y_train).shape)\n",
    "        "
   ]
  },
  {
   "cell_type": "markdown",
   "id": "bbef7560",
   "metadata": {},
   "source": [
    "### Splitting the Data into training and validation data"
   ]
  },
  {
   "cell_type": "code",
   "execution_count": 7,
   "id": "d8b2f1af",
   "metadata": {},
   "outputs": [
    {
     "name": "stdout",
     "output_type": "stream",
     "text": [
      "Training data: (20000, 32, 32, 3) (20000, 5)\n",
      "Validation data: (5000, 32, 32, 3) (5000, 5)\n"
     ]
    }
   ],
   "source": [
    "# Split into training and validation sets\n",
    "from sklearn.model_selection import train_test_split\n",
    "x_train, x_valid, y_train, y_valid = train_test_split( \\\n",
    "    np.array(base_x_train), np.array(base_y_train), test_size=0.2, random_state = 0)\n",
    "\n",
    "print(\"Training data:\", x_train.shape, y_train.shape)\n",
    "print(\"Validation data:\", x_valid.shape, y_valid.shape)"
   ]
  },
  {
   "cell_type": "markdown",
   "id": "845fcdd8",
   "metadata": {},
   "source": [
    "### Show the image"
   ]
  },
  {
   "cell_type": "code",
   "execution_count": 8,
   "id": "cee274df",
   "metadata": {
    "scrolled": true
   },
   "outputs": [
    {
     "data": {
      "image/png": "[encoded data removed]",
      "text/plain": [
       "<Figure size 432x288 with 1 Axes>"
      ]
     },
     "metadata": {
      "needs_background": "light"
     },
     "output_type": "display_data"
    },
    {
     "name": "stdout",
     "output_type": "stream",
     "text": [
      "Answer: 2\n",
      "Answer(one-hot): [0. 0. 1. 0. 0.]\n"
     ]
    }
   ],
   "source": [
    "import random\n",
    "import matplotlib.pyplot as plt\n",
    "\n",
    "idx = random.randint(0, x_train.shape[0])\n",
    "plt.imshow(x_train[idx])\n",
    "plt.show()\n",
    "\n",
    "print(\"Answer:\", np.argmax(y_train[idx]))\n",
    "print(\"Answer(one-hot):\", y_train[idx])"
   ]
  },
  {
   "cell_type": "markdown",
   "id": "03800027",
   "metadata": {},
   "source": [
    "### Build the network"
   ]
  },
  {
   "cell_type": "code",
   "execution_count": 9,
   "id": "47cd5da8",
   "metadata": {},
   "outputs": [],
   "source": [
    "model = tf.keras.models.Sequential([\n",
    "    tf.keras.layers.Conv2D(64, (3, 3), padding=\"same\", activation='relu', input_shape=(32, 32, 3)),\n",
    "    tf.keras.layers.Conv2D(64, (3, 3), padding=\"same\", activation='relu'),\n",
    "    tf.keras.layers.MaxPool2D(),\n",
    "    tf.keras.layers.Conv2D(128, (3, 3), padding=\"same\", activation='relu'),\n",
    "    tf.keras.layers.Conv2D(128, (3, 3), padding=\"same\", activation='relu'),\n",
    "    tf.keras.layers.MaxPool2D(),\n",
    "    tf.keras.layers.Conv2D(256, (4, 4), padding=\"same\", activation='relu'),\n",
    "    tf.keras.layers.Conv2D(256, (4, 4), padding=\"same\", activation='relu'),\n",
    "    tf.keras.layers.MaxPool2D(),\n",
    "    tf.keras.layers.Flatten(),\n",
    "    tf.keras.layers.Dense(128, activation='sigmoid'),\n",
    "    tf.keras.layers.Dense(128, activation='sigmoid'),\n",
    "    tf.keras.layers.Dense(5, activation='softmax')\n",
    "])"
   ]
  },
  {
   "cell_type": "markdown",
   "id": "77060e81",
   "metadata": {},
   "source": [
    "### Training the network"
   ]
  },
  {
   "cell_type": "code",
   "execution_count": 10,
   "id": "59632ff2",
   "metadata": {},
   "outputs": [
    {
     "name": "stdout",
     "output_type": "stream",
     "text": [
      "Epoch 1/10\n",
      "400/400 [==============================] - 59s 118ms/step - loss: 1.4054 - accuracy: 0.4288 - val_loss: 1.2394 - val_accuracy: 0.5368\n",
      "Epoch 2/10\n",
      "400/400 [==============================] - 50s 126ms/step - loss: 1.1493 - accuracy: 0.5542 - val_loss: 1.1008 - val_accuracy: 0.5556\n",
      "Epoch 3/10\n",
      "400/400 [==============================] - 50s 125ms/step - loss: 0.9960 - accuracy: 0.6149 - val_loss: 0.9931 - val_accuracy: 0.6160\n",
      "Epoch 4/10\n",
      "400/400 [==============================] - 50s 125ms/step - loss: 0.8860 - accuracy: 0.6626 - val_loss: 0.8966 - val_accuracy: 0.6566\n",
      "Epoch 5/10\n",
      "400/400 [==============================] - 50s 126ms/step - loss: 0.8034 - accuracy: 0.6959 - val_loss: 0.8060 - val_accuracy: 0.6954\n",
      "Epoch 6/10\n",
      "400/400 [==============================] - 50s 124ms/step - loss: 0.7351 - accuracy: 0.7222 - val_loss: 0.8083 - val_accuracy: 0.6876\n",
      "Epoch 7/10\n",
      "400/400 [==============================] - 47s 118ms/step - loss: 0.6688 - accuracy: 0.7508 - val_loss: 0.7474 - val_accuracy: 0.7166\n",
      "Epoch 8/10\n",
      "400/400 [==============================] - 46s 115ms/step - loss: 0.6088 - accuracy: 0.7773 - val_loss: 0.6995 - val_accuracy: 0.7376\n",
      "Epoch 9/10\n",
      "400/400 [==============================] - 47s 117ms/step - loss: 0.5431 - accuracy: 0.8051 - val_loss: 0.7270 - val_accuracy: 0.7168\n",
      "Epoch 10/10\n",
      "400/400 [==============================] - 46s 115ms/step - loss: 0.4852 - accuracy: 0.8298 - val_loss: 0.6368 - val_accuracy: 0.7626\n"
     ]
    }
   ],
   "source": [
    "epoch = 10\n",
    "batch_size = 50\n",
    "\n",
    "model.compile(\n",
    "    loss=\"categorical_crossentropy\", \n",
    "    optimizer=\"sgd\", \n",
    "    metrics=[\"accuracy\"]\n",
    ")\n",
    "history = model.fit(\n",
    "    x_train, \n",
    "    y_train, \n",
    "    epochs=epoch, \n",
    "    batch_size=batch_size,\n",
    "    validation_data=(x_valid, y_valid)\n",
    ")"
   ]
  },
  {
   "cell_type": "code",
   "execution_count": 11,
   "id": "47cd5da8",
   "metadata": {},
   "outputs": [],
   "source": [
    "model2 = tf.keras.models.Sequential([\n",
    "    tf.keras.layers.Conv2D(64, (3, 3), padding=\"same\", activation='relu', input_shape=(32, 32, 3)),\n",
    "    tf.keras.layers.Conv2D(64, (3, 3), padding=\"same\", activation='relu'),\n",
    "    tf.keras.layers.MaxPool2D(),\n",
    "    tf.keras.layers.Conv2D(128, (3, 3), padding=\"same\", activation='relu'),\n",
    "    tf.keras.layers.Conv2D(128, (3, 3), padding=\"same\", activation='relu'),\n",
    "    tf.keras.layers.MaxPool2D(),\n",
    "    tf.keras.layers.Conv2D(256, (4, 4), padding=\"same\", activation='relu'),\n",
    "    tf.keras.layers.Conv2D(256, (4, 4), padding=\"same\", activation='relu'),\n",
    "    tf.keras.layers.MaxPool2D(),\n",
    "    tf.keras.layers.Flatten(),\n",
    "    tf.keras.layers.Dense(128, activation='relu'),\n",
    "    tf.keras.layers.Dense(128, activation='relu'),\n",
    "    tf.keras.layers.Dense(5, activation='softmax')\n",
    "])"
   ]
  },
  {
   "cell_type": "code",
   "execution_count": 12,
   "id": "59632ff2",
   "metadata": {},
   "outputs": [
    {
     "name": "stdout",
     "output_type": "stream",
     "text": [
      "Epoch 1/10\n",
      "400/400 [==============================] - 46s 113ms/step - loss: 1.4504 - accuracy: 0.4072 - val_loss: 1.2915 - val_accuracy: 0.4636\n",
      "Epoch 2/10\n",
      "400/400 [==============================] - 45s 113ms/step - loss: 1.0294 - accuracy: 0.5842 - val_loss: 1.0354 - val_accuracy: 0.5748\n",
      "Epoch 3/10\n",
      "400/400 [==============================] - 45s 113ms/step - loss: 0.8796 - accuracy: 0.6532 - val_loss: 0.8075 - val_accuracy: 0.6916\n",
      "Epoch 4/10\n",
      "400/400 [==============================] - 46s 114ms/step - loss: 0.7645 - accuracy: 0.7039 - val_loss: 0.8339 - val_accuracy: 0.6662\n",
      "Epoch 5/10\n",
      "400/400 [==============================] - 46s 114ms/step - loss: 0.6645 - accuracy: 0.7474 - val_loss: 0.7509 - val_accuracy: 0.7104\n",
      "Epoch 6/10\n",
      "400/400 [==============================] - 46s 114ms/step - loss: 0.5791 - accuracy: 0.7827 - val_loss: 0.7218 - val_accuracy: 0.7356\n",
      "Epoch 7/10\n",
      "400/400 [==============================] - 46s 114ms/step - loss: 0.4992 - accuracy: 0.8142 - val_loss: 0.7554 - val_accuracy: 0.7328\n",
      "Epoch 8/10\n",
      "400/400 [==============================] - 45s 113ms/step - loss: 0.4241 - accuracy: 0.8418 - val_loss: 0.6401 - val_accuracy: 0.7718\n",
      "Epoch 9/10\n",
      "400/400 [==============================] - 46s 114ms/step - loss: 0.3529 - accuracy: 0.8690 - val_loss: 0.6644 - val_accuracy: 0.7712\n",
      "Epoch 10/10\n",
      "400/400 [==============================] - 46s 115ms/step - loss: 0.2809 - accuracy: 0.8988 - val_loss: 0.7219 - val_accuracy: 0.7622\n"
     ]
    }
   ],
   "source": [
    "epoch = 10\n",
    "batch_size = 50\n",
    "\n",
    "model2.compile(\n",
    "    loss=\"categorical_crossentropy\", \n",
    "    optimizer=\"sgd\", \n",
    "    metrics=[\"accuracy\"]\n",
    ")\n",
    "history = model2.fit(\n",
    "    x_train, \n",
    "    y_train, \n",
    "    epochs=epoch, \n",
    "    batch_size=batch_size,\n",
    "    validation_data=(x_valid, y_valid)\n",
    ")"
   ]
  },
  {
   "cell_type": "code",
   "execution_count": 13,
   "id": "47cd5da8",
   "metadata": {},
   "outputs": [],
   "source": [
    "model3 = tf.keras.models.Sequential([\n",
    "    tf.keras.layers.Conv2D(64, (3, 3), padding=\"same\", activation='relu', input_shape=(32, 32, 3)),\n",
    "    tf.keras.layers.Conv2D(64, (3, 3), padding=\"same\", activation='relu'),\n",
    "    tf.keras.layers.MaxPool2D(),\n",
    "    tf.keras.layers.Conv2D(128, (3, 3), padding=\"same\", activation='relu'),\n",
    "    tf.keras.layers.Conv2D(128, (3, 3), padding=\"same\", activation='relu'),\n",
    "    tf.keras.layers.MaxPool2D(),\n",
    "    tf.keras.layers.Conv2D(256, (4, 4), padding=\"same\", activation='relu'),\n",
    "    tf.keras.layers.Conv2D(256, (4, 4), padding=\"same\", activation='relu'),\n",
    "    tf.keras.layers.MaxPool2D(),\n",
    "    tf.keras.layers.Flatten(),\n",
    "    tf.keras.layers.Dense(128, activation='softmax'),\n",
    "    tf.keras.layers.Dense(128, activation='softmax'),\n",
    "    tf.keras.layers.Dense(5, activation='softmax')\n",
    "])"
   ]
  },
  {
   "cell_type": "code",
   "execution_count": 14,
   "id": "59632ff2",
   "metadata": {},
   "outputs": [
    {
     "name": "stdout",
     "output_type": "stream",
     "text": [
      "Epoch 1/10\n",
      "400/400 [==============================] - 48s 116ms/step - loss: 1.6095 - accuracy: 0.1988 - val_loss: 1.6095 - val_accuracy: 0.1934\n",
      "Epoch 2/10\n",
      "400/400 [==============================] - 45s 114ms/step - loss: 1.6094 - accuracy: 0.2012 - val_loss: 1.6094 - val_accuracy: 0.1934\n",
      "Epoch 3/10\n",
      "400/400 [==============================] - 46s 114ms/step - loss: 1.6093 - accuracy: 0.2012 - val_loss: 1.6094 - val_accuracy: 0.1934\n",
      "Epoch 4/10\n",
      "400/400 [==============================] - 46s 114ms/step - loss: 1.6093 - accuracy: 0.2018 - val_loss: 1.6094 - val_accuracy: 0.2020\n",
      "Epoch 5/10\n",
      "400/400 [==============================] - 46s 115ms/step - loss: 1.6093 - accuracy: 0.2024 - val_loss: 1.6094 - val_accuracy: 0.1940\n",
      "Epoch 6/10\n",
      "400/400 [==============================] - 46s 114ms/step - loss: 1.6093 - accuracy: 0.2030 - val_loss: 1.6093 - val_accuracy: 0.2286\n",
      "Epoch 7/10\n",
      "400/400 [==============================] - 47s 117ms/step - loss: 1.6093 - accuracy: 0.2127 - val_loss: 1.6094 - val_accuracy: 0.1934\n",
      "Epoch 8/10\n",
      "400/400 [==============================] - 46s 116ms/step - loss: 1.6092 - accuracy: 0.2028 - val_loss: 1.6093 - val_accuracy: 0.1934\n",
      "Epoch 9/10\n",
      "400/400 [==============================] - 45s 114ms/step - loss: 1.6092 - accuracy: 0.2022 - val_loss: 1.6093 - val_accuracy: 0.1934\n",
      "Epoch 10/10\n",
      "400/400 [==============================] - 45s 113ms/step - loss: 1.6092 - accuracy: 0.2022 - val_loss: 1.6092 - val_accuracy: 0.1934\n"
     ]
    }
   ],
   "source": [
    "epoch = 10\n",
    "batch_size = 50\n",
    "\n",
    "model3.compile(\n",
    "    loss=\"categorical_crossentropy\", \n",
    "    optimizer=\"sgd\", \n",
    "    metrics=[\"accuracy\"]\n",
    ")\n",
    "history = model3.fit(\n",
    "    x_train, \n",
    "    y_train, \n",
    "    epochs=epoch, \n",
    "    batch_size=batch_size,\n",
    "    validation_data=(x_valid, y_valid)\n",
    ")"
   ]
  },
  {
   "cell_type": "code",
   "execution_count": 15,
   "id": "47cd5da8",
   "metadata": {},
   "outputs": [],
   "source": [
    "model4 = tf.keras.models.Sequential([\n",
    "    tf.keras.layers.Conv2D(64, (3, 3), padding=\"same\", activation='relu', input_shape=(32, 32, 3)),\n",
    "    tf.keras.layers.Conv2D(64, (3, 3), padding=\"same\", activation='relu'),\n",
    "    tf.keras.layers.MaxPool2D(),\n",
    "    tf.keras.layers.Conv2D(128, (3, 3), padding=\"same\", activation='relu'),\n",
    "    tf.keras.layers.Conv2D(128, (3, 3), padding=\"same\", activation='relu'),\n",
    "    tf.keras.layers.MaxPool2D(),\n",
    "    tf.keras.layers.Conv2D(256, (4, 4), padding=\"same\", activation='relu'),\n",
    "    tf.keras.layers.Conv2D(256, (4, 4), padding=\"same\", activation='relu'),\n",
    "    tf.keras.layers.MaxPool2D(),\n",
    "    tf.keras.layers.Flatten(),\n",
    "    tf.keras.layers.Dense(128, activation='tanh'),\n",
    "    tf.keras.layers.Dense(128, activation='tanh'),\n",
    "    tf.keras.layers.Dense(5, activation='softmax')\n",
    "])"
   ]
  },
  {
   "cell_type": "code",
   "execution_count": 16,
   "id": "59632ff2",
   "metadata": {},
   "outputs": [
    {
     "name": "stdout",
     "output_type": "stream",
     "text": [
      "Epoch 1/10\n",
      "400/400 [==============================] - 46s 113ms/step - loss: 1.6189 - accuracy: 0.2010 - val_loss: 1.6294 - val_accuracy: 0.2040\n",
      "Epoch 2/10\n",
      "400/400 [==============================] - 45s 113ms/step - loss: 1.6161 - accuracy: 0.1996 - val_loss: 1.6151 - val_accuracy: 0.1962\n",
      "Epoch 3/10\n",
      "400/400 [==============================] - 45s 112ms/step - loss: 1.6167 - accuracy: 0.1963 - val_loss: 1.6139 - val_accuracy: 0.2044\n",
      "Epoch 4/10\n",
      "400/400 [==============================] - 45s 112ms/step - loss: 1.6147 - accuracy: 0.2036 - val_loss: 1.6127 - val_accuracy: 0.1962\n",
      "Epoch 5/10\n",
      "400/400 [==============================] - 45s 112ms/step - loss: 1.6155 - accuracy: 0.2029 - val_loss: 1.6148 - val_accuracy: 0.2036\n",
      "Epoch 6/10\n",
      "400/400 [==============================] - 45s 111ms/step - loss: 1.6153 - accuracy: 0.2056 - val_loss: 1.6209 - val_accuracy: 0.2038\n",
      "Epoch 7/10\n",
      "400/400 [==============================] - 44s 111ms/step - loss: 1.6152 - accuracy: 0.2018 - val_loss: 1.6140 - val_accuracy: 0.2028\n",
      "Epoch 8/10\n",
      "400/400 [==============================] - 44s 111ms/step - loss: 1.6159 - accuracy: 0.2060 - val_loss: 1.6140 - val_accuracy: 0.2040\n",
      "Epoch 9/10\n",
      "400/400 [==============================] - 45s 111ms/step - loss: 1.6146 - accuracy: 0.2051 - val_loss: 1.6119 - val_accuracy: 0.1962\n",
      "Epoch 10/10\n",
      "400/400 [==============================] - 45s 112ms/step - loss: 1.6161 - accuracy: 0.1957 - val_loss: 1.6146 - val_accuracy: 0.1936\n"
     ]
    }
   ],
   "source": [
    "epoch = 10\n",
    "batch_size = 50\n",
    "\n",
    "model4.compile(\n",
    "    loss=\"categorical_crossentropy\", \n",
    "    optimizer=\"sgd\", \n",
    "    metrics=[\"accuracy\"]\n",
    ")\n",
    "history = model4.fit(\n",
    "    x_train, \n",
    "    y_train, \n",
    "    epochs=epoch, \n",
    "    batch_size=batch_size,\n",
    "    validation_data=(x_valid, y_valid)\n",
    ")"
   ]
  },
  {
   "cell_type": "code",
   "execution_count": 17,
   "id": "eaa37c75",
   "metadata": {},
   "outputs": [],
   "source": [
    "model5 = tf.keras.models.Sequential([\n",
    "    tf.keras.layers.Conv2D(64, (3, 3), padding=\"same\", activation='relu', input_shape=(32, 32, 3)),\n",
    "    tf.keras.layers.Conv2D(64, (3, 3), padding=\"same\", activation='relu'),\n",
    "    tf.keras.layers.MaxPool2D(),\n",
    "    tf.keras.layers.Conv2D(128, (3, 3), padding=\"same\", activation='relu'),\n",
    "    tf.keras.layers.Conv2D(128, (3, 3), padding=\"same\", activation='relu'),\n",
    "    tf.keras.layers.MaxPool2D(),\n",
    "    tf.keras.layers.Conv2D(256, (4, 4), padding=\"same\", activation='relu'),\n",
    "    tf.keras.layers.Conv2D(256, (4, 4), padding=\"same\", activation='relu'),\n",
    "    tf.keras.layers.MaxPool2D(),\n",
    "    tf.keras.layers.Flatten(),\n",
    "    tf.keras.layers.Dense(128, activation='sigmoid'),\n",
    "    tf.keras.layers.Dense(128, activation='sigmoid'),\n",
    "    tf.keras.layers.Dense(5, activation='sigmoid')\n",
    "])"
   ]
  },
  {
   "cell_type": "code",
   "execution_count": 18,
   "id": "2a440e89",
   "metadata": {},
   "outputs": [
    {
     "name": "stdout",
     "output_type": "stream",
     "text": [
      "Epoch 1/10\n",
      "400/400 [==============================] - 44s 110ms/step - loss: 1.4192 - accuracy: 0.4236 - val_loss: 1.2249 - val_accuracy: 0.5536\n",
      "Epoch 2/10\n",
      "400/400 [==============================] - 50s 126ms/step - loss: 1.1578 - accuracy: 0.5572 - val_loss: 1.0715 - val_accuracy: 0.5706\n",
      "Epoch 3/10\n",
      "400/400 [==============================] - 50s 125ms/step - loss: 1.0013 - accuracy: 0.6172 - val_loss: 0.9554 - val_accuracy: 0.6386\n",
      "Epoch 4/10\n",
      "400/400 [==============================] - 50s 125ms/step - loss: 0.8846 - accuracy: 0.6650 - val_loss: 0.8479 - val_accuracy: 0.6824\n",
      "Epoch 5/10\n",
      "400/400 [==============================] - 49s 122ms/step - loss: 0.7972 - accuracy: 0.6997 - val_loss: 0.8468 - val_accuracy: 0.6838\n",
      "Epoch 6/10\n",
      "400/400 [==============================] - 47s 117ms/step - loss: 0.7177 - accuracy: 0.7333 - val_loss: 0.9565 - val_accuracy: 0.6238\n",
      "Epoch 7/10\n",
      "400/400 [==============================] - 46s 114ms/step - loss: 0.6509 - accuracy: 0.7610 - val_loss: 0.6958 - val_accuracy: 0.7414\n",
      "Epoch 8/10\n",
      "400/400 [==============================] - 45s 114ms/step - loss: 0.5798 - accuracy: 0.7914 - val_loss: 0.6772 - val_accuracy: 0.7476\n",
      "Epoch 9/10\n",
      "400/400 [==============================] - 45s 114ms/step - loss: 0.5224 - accuracy: 0.8124 - val_loss: 0.6355 - val_accuracy: 0.7648\n",
      "Epoch 10/10\n",
      "400/400 [==============================] - 45s 114ms/step - loss: 0.4600 - accuracy: 0.8391 - val_loss: 0.6388 - val_accuracy: 0.7542\n"
     ]
    }
   ],
   "source": [
    "epoch = 10\n",
    "batch_size = 50\n",
    "\n",
    "model5.compile(\n",
    "    loss=\"categorical_crossentropy\", \n",
    "    optimizer=\"sgd\", \n",
    "    metrics=[\"accuracy\"]\n",
    ")\n",
    "history = model5.fit(\n",
    "    x_train, \n",
    "    y_train, \n",
    "    epochs=epoch, \n",
    "    batch_size=batch_size,\n",
    "    validation_data=(x_valid, y_valid)\n",
    ")"
   ]
  },
  {
   "cell_type": "code",
   "execution_count": 19,
   "id": "6b756cab",
   "metadata": {},
   "outputs": [],
   "source": [
    "model6 = tf.keras.models.Sequential([\n",
    "    tf.keras.layers.Conv2D(64, (3, 3), padding=\"same\", activation='relu', input_shape=(32, 32, 3)),\n",
    "    tf.keras.layers.Conv2D(64, (3, 3), padding=\"same\", activation='relu'),\n",
    "    tf.keras.layers.MaxPool2D(),\n",
    "    tf.keras.layers.Conv2D(128, (3, 3), padding=\"same\", activation='relu'),\n",
    "    tf.keras.layers.Conv2D(128, (3, 3), padding=\"same\", activation='relu'),\n",
    "    tf.keras.layers.MaxPool2D(),\n",
    "    tf.keras.layers.Conv2D(256, (4, 4), padding=\"same\", activation='relu'),\n",
    "    tf.keras.layers.Conv2D(256, (4, 4), padding=\"same\", activation='relu'),\n",
    "    tf.keras.layers.MaxPool2D(),\n",
    "    tf.keras.layers.Flatten(),\n",
    "    tf.keras.layers.Dense(128, activation='sigmoid'),\n",
    "    tf.keras.layers.Dense(128, activation='sigmoid'),\n",
    "    tf.keras.layers.Dense(5, activation='tanh')\n",
    "])"
   ]
  },
  {
   "cell_type": "code",
   "execution_count": 20,
   "id": "c29b148f",
   "metadata": {},
   "outputs": [
    {
     "name": "stdout",
     "output_type": "stream",
     "text": [
      "Epoch 1/10\n",
      "400/400 [==============================] - 47s 116ms/step - loss: 6.2271 - accuracy: 0.2017 - val_loss: 6.4505 - val_accuracy: 0.1962\n",
      "Epoch 2/10\n",
      "400/400 [==============================] - 46s 115ms/step - loss: 6.4464 - accuracy: 0.2009 - val_loss: 6.4505 - val_accuracy: 0.1962\n",
      "Epoch 3/10\n",
      "400/400 [==============================] - 46s 115ms/step - loss: 6.4464 - accuracy: 0.2009 - val_loss: 6.4505 - val_accuracy: 0.1962\n",
      "Epoch 4/10\n",
      "400/400 [==============================] - 46s 115ms/step - loss: 6.4464 - accuracy: 0.2009 - val_loss: 6.4505 - val_accuracy: 0.1962\n",
      "Epoch 5/10\n",
      "400/400 [==============================] - 46s 115ms/step - loss: 6.4464 - accuracy: 0.2009 - val_loss: 6.4505 - val_accuracy: 0.1962\n",
      "Epoch 6/10\n",
      "400/400 [==============================] - 46s 115ms/step - loss: 6.4464 - accuracy: 0.2009 - val_loss: 6.4505 - val_accuracy: 0.1962\n",
      "Epoch 7/10\n",
      "400/400 [==============================] - 46s 116ms/step - loss: 6.4464 - accuracy: 0.2009 - val_loss: 6.4505 - val_accuracy: 0.1962\n",
      "Epoch 8/10\n",
      "400/400 [==============================] - 46s 115ms/step - loss: 6.4464 - accuracy: 0.2009 - val_loss: 6.4505 - val_accuracy: 0.1962\n",
      "Epoch 9/10\n",
      "400/400 [==============================] - 46s 115ms/step - loss: 6.4464 - accuracy: 0.2009 - val_loss: 6.4505 - val_accuracy: 0.1962\n",
      "Epoch 10/10\n",
      "400/400 [==============================] - 47s 118ms/step - loss: 6.4464 - accuracy: 0.2009 - val_loss: 6.4505 - val_accuracy: 0.1962\n"
     ]
    }
   ],
   "source": [
    "epoch = 10\n",
    "batch_size = 50\n",
    "\n",
    "model6.compile(\n",
    "    loss=\"categorical_crossentropy\", \n",
    "    optimizer=\"sgd\", \n",
    "    metrics=[\"accuracy\"]\n",
    ")\n",
    "history = model6.fit(\n",
    "    x_train, \n",
    "    y_train, \n",
    "    epochs=epoch, \n",
    "    batch_size=batch_size,\n",
    "    validation_data=(x_valid, y_valid)\n",
    ")"
   ]
  },
  {
   "cell_type": "code",
   "execution_count": 21,
   "id": "9e2cf576",
   "metadata": {},
   "outputs": [],
   "source": [
    "model7 = tf.keras.models.Sequential([\n",
    "    tf.keras.layers.Conv2D(64, (3, 3), padding=\"same\", activation='relu', input_shape=(32, 32, 3)),\n",
    "    tf.keras.layers.Conv2D(64, (3, 3), padding=\"same\", activation='relu'),\n",
    "    tf.keras.layers.MaxPool2D(),\n",
    "    tf.keras.layers.Conv2D(128, (3, 3), padding=\"same\", activation='relu'),\n",
    "    tf.keras.layers.Conv2D(128, (3, 3), padding=\"same\", activation='relu'),\n",
    "    tf.keras.layers.MaxPool2D(),\n",
    "    tf.keras.layers.Conv2D(256, (4, 4), padding=\"same\", activation='relu'),\n",
    "    tf.keras.layers.Conv2D(256, (4, 4), padding=\"same\", activation='relu'),\n",
    "    tf.keras.layers.MaxPool2D(),\n",
    "    tf.keras.layers.Flatten(),\n",
    "    tf.keras.layers.Dense(128, activation='relu'),\n",
    "    tf.keras.layers.Dense(128, activation='relu'),\n",
    "    tf.keras.layers.Dense(5, activation='relu')\n",
    "])"
   ]
  },
  {
   "cell_type": "code",
   "execution_count": 22,
   "id": "cb8c80bc",
   "metadata": {},
   "outputs": [
    {
     "name": "stdout",
     "output_type": "stream",
     "text": [
      "Epoch 1/10\n",
      "400/400 [==============================] - 47s 112ms/step - loss: 4.3181 - accuracy: 0.2512 - val_loss: 4.3589 - val_accuracy: 0.2830\n",
      "Epoch 2/10\n",
      "400/400 [==============================] - 50s 125ms/step - loss: 4.2836 - accuracy: 0.2835 - val_loss: 4.2641 - val_accuracy: 0.3470\n",
      "Epoch 3/10\n",
      "400/400 [==============================] - 50s 125ms/step - loss: 2.2633 - accuracy: 0.2282 - val_loss: 1.6444 - val_accuracy: 0.2028\n",
      "Epoch 4/10\n",
      "400/400 [==============================] - 50s 126ms/step - loss: 1.6172 - accuracy: 0.2046 - val_loss: 1.6083 - val_accuracy: 0.2176\n",
      "Epoch 5/10\n",
      "400/400 [==============================] - 50s 126ms/step - loss: 1.6078 - accuracy: 0.2212 - val_loss: 1.6073 - val_accuracy: 0.2200\n",
      "Epoch 6/10\n",
      "400/400 [==============================] - 47s 119ms/step - loss: 1.6068 - accuracy: 0.2353 - val_loss: 1.6061 - val_accuracy: 0.2374\n",
      "Epoch 7/10\n",
      "400/400 [==============================] - 47s 119ms/step - loss: 1.6053 - accuracy: 0.2451 - val_loss: 1.6042 - val_accuracy: 0.2408\n",
      "Epoch 8/10\n",
      "400/400 [==============================] - 47s 118ms/step - loss: 1.6025 - accuracy: 0.2526 - val_loss: 1.6004 - val_accuracy: 0.2800\n",
      "Epoch 9/10\n",
      "400/400 [==============================] - 47s 117ms/step - loss: 1.5964 - accuracy: 0.2592 - val_loss: 1.5890 - val_accuracy: 0.2658\n",
      "Epoch 10/10\n",
      "400/400 [==============================] - 47s 117ms/step - loss: 1.5799 - accuracy: 0.2698 - val_loss: 1.5732 - val_accuracy: 0.2998\n"
     ]
    }
   ],
   "source": [
    "epoch = 10\n",
    "batch_size = 50\n",
    "\n",
    "model7.compile(\n",
    "    loss=\"categorical_crossentropy\", \n",
    "    optimizer=\"sgd\", \n",
    "    metrics=[\"accuracy\"]\n",
    ")\n",
    "history = model7.fit(\n",
    "    x_train, \n",
    "    y_train, \n",
    "    epochs=epoch, \n",
    "    batch_size=batch_size,\n",
    "    validation_data=(x_valid, y_valid)\n",
    ")"
   ]
  },
  {
   "cell_type": "markdown",
   "id": "5fc5dedd",
   "metadata": {},
   "source": [
    "### Saving the trained weights"
   ]
  },
  {
   "cell_type": "code",
   "execution_count": 25,
   "id": "073526c9",
   "metadata": {},
   "outputs": [],
   "source": [
    "model.save(\"my_model0501.hdf5\")"
   ]
  },
  {
   "cell_type": "code",
   "execution_count": 26,
   "id": "6411dfa2",
   "metadata": {},
   "outputs": [],
   "source": [
    "from tensorflow.keras.models import load_model\n",
    "model2 = load_model(\"my_model0501.hdf5\")"
   ]
  },
  {
   "cell_type": "code",
   "execution_count": 27,
   "id": "ef54cef5",
   "metadata": {},
   "outputs": [
    {
     "name": "stdout",
     "output_type": "stream",
     "text": [
      "Model: \"sequential\"\n",
      "_________________________________________________________________\n",
      "Layer (type)                 Output Shape              Param #   \n",
      "=================================================================\n",
      "conv2d (Conv2D)              (None, 32, 32, 64)        1792      \n",
      "_________________________________________________________________\n",
      "conv2d_1 (Conv2D)            (None, 32, 32, 64)        36928     \n",
      "_________________________________________________________________\n",
      "max_pooling2d (MaxPooling2D) (None, 16, 16, 64)        0         \n",
      "_________________________________________________________________\n",
      "conv2d_2 (Conv2D)            (None, 16, 16, 128)       73856     \n",
      "_________________________________________________________________\n",
      "conv2d_3 (Conv2D)            (None, 16, 16, 128)       147584    \n",
      "_________________________________________________________________\n",
      "max_pooling2d_1 (MaxPooling2 (None, 8, 8, 128)         0         \n",
      "_________________________________________________________________\n",
      "conv2d_4 (Conv2D)            (None, 8, 8, 256)         295168    \n",
      "_________________________________________________________________\n",
      "conv2d_5 (Conv2D)            (None, 8, 8, 256)         590080    \n",
      "_________________________________________________________________\n",
      "max_pooling2d_2 (MaxPooling2 (None, 4, 4, 256)         0         \n",
      "_________________________________________________________________\n",
      "flatten (Flatten)            (None, 4096)              0         \n",
      "_________________________________________________________________\n",
      "dense (Dense)                (None, 128)               524416    \n",
      "_________________________________________________________________\n",
      "dense_1 (Dense)              (None, 128)               16512     \n",
      "_________________________________________________________________\n",
      "dense_2 (Dense)              (None, 5)                 645       \n",
      "=================================================================\n",
      "Total params: 1,686,981\n",
      "Trainable params: 1,686,981\n",
      "Non-trainable params: 0\n",
      "_________________________________________________________________\n"
     ]
    }
   ],
   "source": [
    "model2.summary()"
   ]
  },
  {
   "cell_type": "code",
   "execution_count": 28,
   "id": "8438b272",
   "metadata": {},
   "outputs": [],
   "source": [
    "y_hat = model2.predict(x_valid)"
   ]
  },
  {
   "cell_type": "code",
   "execution_count": 29,
   "id": "38e211c4",
   "metadata": {},
   "outputs": [
    {
     "data": {
      "text/plain": [
       "array([2., 0., 4., ..., 4., 1., 1.])"
      ]
     },
     "execution_count": 29,
     "metadata": {},
     "output_type": "execute_result"
    }
   ],
   "source": [
    "# 將output改為標籤\n",
    "output_y = np.zeros(y_hat.shape[0])\n",
    "\n",
    "for i in range(y_hat.shape[0]):\n",
    "    for j in range(y_hat.shape[1]):\n",
    "        if y_hat[i, j] >= max(y_hat[i, ]):\n",
    "            output_y[i] = j\n",
    "\n",
    "output_y"
   ]
  },
  {
   "cell_type": "code",
   "execution_count": 30,
   "id": "0ccc3cb7",
   "metadata": {},
   "outputs": [
    {
     "data": {
      "text/plain": [
       "array([2., 1., 4., ..., 0., 1., 1.])"
      ]
     },
     "execution_count": 30,
     "metadata": {},
     "output_type": "execute_result"
    }
   ],
   "source": [
    "output_yv = np.zeros(y_valid.shape[0])\n",
    "\n",
    "for i in range(y_valid.shape[0]):\n",
    "    for j in range(y_valid.shape[1]):\n",
    "        if y_valid[i, j] >= max(y_valid[i, ]):\n",
    "            output_yv[i] = j\n",
    "\n",
    "output_yv"
   ]
  },
  {
   "cell_type": "code",
   "execution_count": 31,
   "id": "5f1f4fe3",
   "metadata": {},
   "outputs": [
    {
     "data": {
      "text/plain": [
       "0.8332"
      ]
     },
     "execution_count": 31,
     "metadata": {},
     "output_type": "execute_result"
    }
   ],
   "source": [
    "sum(output_y == output_yv) / len(output_y)"
   ]
  },
  {
   "cell_type": "code",
   "execution_count": null,
   "id": "d63c5a6a",
   "metadata": {},
   "outputs": [],
   "source": []
  }
 ],
 "metadata": {
  "kernelspec": {
   "display_name": "Python 3",
   "language": "python",
   "name": "python3"
  },
  "language_info": {
   "codemirror_mode": {
    "name": "ipython",
    "version": 3
   },
   "file_extension": ".py",
   "mimetype": "text/x-python",
   "name": "python",
   "nbconvert_exporter": "python",
   "pygments_lexer": "ipython3",
   "version": "3.9.12"
  }
 },
 "nbformat": 4,
 "nbformat_minor": 5
}
