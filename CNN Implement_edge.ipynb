{
 "cells": [
  {
   "cell_type": "markdown",
   "id": "5401a171",
   "metadata": {},
   "source": [
    "### Confirm Tensorflow Installation"
   ]
  },
  {
   "cell_type": "code",
   "execution_count": 1,
   "id": "304bcb56",
   "metadata": {},
   "outputs": [
    {
     "name": "stdout",
     "output_type": "stream",
     "text": [
      "2.6.0\n",
      "2.6.0\n"
     ]
    }
   ],
   "source": [
    "import tensorflow as tf\n",
    "import tensorflow.keras as keras\n",
    "print(tf.__version__)\n",
    "print(keras.__version__)"
   ]
  },
  {
   "cell_type": "markdown",
   "id": "e9702e06",
   "metadata": {},
   "source": [
    "### Importing the necessary modules"
   ]
  },
  {
   "cell_type": "code",
   "execution_count": 2,
   "id": "f9c932c1",
   "metadata": {},
   "outputs": [],
   "source": [
    "import numpy as np\n",
    "import os\n",
    "from os import listdir \n",
    "from os.path import isfile, join\n",
    "import cv2\n",
    "\n",
    "import tensorflow as tf\n",
    "import tensorflow.keras as keras\n"
   ]
  },
  {
   "cell_type": "markdown",
   "id": "02686e89",
   "metadata": {},
   "source": [
    "### Loading and Preprocessing"
   ]
  },
  {
   "cell_type": "code",
   "execution_count": 3,
   "id": "6e0278dc",
   "metadata": {},
   "outputs": [
    {
     "name": "stdout",
     "output_type": "stream",
     "text": [
      "found 5000 files.\n",
      "folder: ['0', '1', '2', '3', '4', '5', '6', '7', '8', '9']\n"
     ]
    }
   ],
   "source": [
    "#Data visiting – os.walk()\n",
    "\n",
    "label_folder = []\n",
    "total_size = 0\n",
    "data_path = r\"D:\\CIFAR10_Test Image\\Training_data\"\n",
    "\n",
    "#os.walk() generates the file names(dirpath, dirnames, filenames) \n",
    "#in a directory tree by walking the tree either top-down or bottom-up.\n",
    "for root, dirts, files in os.walk(data_path): \n",
    "    for dirt in dirts:\n",
    "        label_folder.append(dirt)\n",
    "    total_size += len(files)\n",
    "\n",
    "    \n",
    "print(\"found\",total_size,\"files.\")\n",
    "print(\"folder:\",label_folder)"
   ]
  },
  {
   "cell_type": "code",
   "execution_count": 4,
   "id": "ecec1475",
   "metadata": {},
   "outputs": [
    {
     "name": "stdout",
     "output_type": "stream",
     "text": [
      "(5000, 32, 32, 3)\n",
      "(5000,)\n"
     ]
    }
   ],
   "source": [
    "#Load image\n",
    "\n",
    "base_x_train = []\n",
    "base_y_train = []\n",
    "\n",
    "for i in range(len(label_folder)):\n",
    "    labelPath = data_path+r'\\\\'+label_folder[i]\n",
    "    \n",
    "    #listdir() returns a list containing the names of the entries in the directory given by path.\n",
    "    #isfile() is used to check whether the specified path is an existing regular file or not.\n",
    "    FileName = [f for f in listdir(labelPath) if isfile(join(labelPath, f))]\n",
    "    \n",
    "    for j in range(len(FileName)):\n",
    "        path = labelPath+r'\\\\'+FileName[j]\n",
    "        \n",
    "        #use cv2.imread read image.\n",
    "        img = cv2.imread(path,cv2.IMREAD_COLOR)\n",
    "        \n",
    "        base_x_train.append(img)\n",
    "        base_y_train.append(label_folder[i])\n",
    "\n",
    "\n",
    "print(np.array(base_x_train).shape)\n",
    "print(np.array(base_y_train).shape)\n",
    "        "
   ]
  },
  {
   "cell_type": "code",
   "execution_count": 5,
   "id": "4524f916",
   "metadata": {},
   "outputs": [
    {
     "name": "stdout",
     "output_type": "stream",
     "text": [
      "(5000, 32, 32, 3)\n",
      "(5000, 10)\n"
     ]
    }
   ],
   "source": [
    "from tensorflow.keras.utils import to_categorical\n",
    "\n",
    "#Convert a category vector to a binary (0 or 1) matrix-type representation\n",
    "\n",
    "base_y_train = to_categorical(base_y_train)\n",
    "\n",
    "\n",
    "print(np.array(base_x_train).shape)\n",
    "print(np.array(base_y_train).shape)\n",
    "        "
   ]
  },
  {
   "cell_type": "markdown",
   "id": "bbef7560",
   "metadata": {},
   "source": [
    "### Splitting the Data into training and validation data"
   ]
  },
  {
   "cell_type": "code",
   "execution_count": 123,
   "id": "d8b2f1af",
   "metadata": {},
   "outputs": [
    {
     "name": "stdout",
     "output_type": "stream",
     "text": [
      "Training data: (4000, 32, 32, 3) (4000, 10)\n",
      "Validation data: (1000, 32, 32, 3) (1000, 10)\n"
     ]
    }
   ],
   "source": [
    "# Split into training and validation sets\n",
    "from sklearn.model_selection import train_test_split\n",
    "x_train, x_valid, y_train, y_valid = train_test_split( \\\n",
    "    np.array(base_x_train), np.array(base_y_train), test_size=0.2, random_state = 0)\n",
    "\n",
    "\n",
    "print(\"Training data:\", x_train.shape, y_train.shape)\n",
    "print(\"Validation data:\", x_valid.shape, y_valid.shape)"
   ]
  },
  {
   "cell_type": "markdown",
   "id": "845fcdd8",
   "metadata": {},
   "source": [
    "### Show the image"
   ]
  },
  {
   "cell_type": "code",
   "execution_count": 114,
   "id": "cee274df",
   "metadata": {
    "scrolled": true
   },
   "outputs": [
    {
     "data": {
      "image/png": "[encoded data removed]",
      "text/plain": [
       "<Figure size 432x288 with 1 Axes>"
      ]
     },
     "metadata": {
      "needs_background": "light"
     },
     "output_type": "display_data"
    },
    {
     "name": "stdout",
     "output_type": "stream",
     "text": [
      "Answer: 6\n",
      "Answer(one-hot): [0. 0. 0. 0. 0. 0. 1. 0. 0. 0.]\n"
     ]
    }
   ],
   "source": [
    "import random\n",
    "import matplotlib.pyplot as plt\n",
    "\n",
    "idx = random.randint(0, x_train.shape[0])\n",
    "plt.imshow(x_train[idx])\n",
    "plt.show()\n",
    "\n",
    "print(\"Answer:\", np.argmax(y_train[idx]))\n",
    "print(\"Answer(one-hot):\", y_train[idx])"
   ]
  },
  {
   "cell_type": "code",
   "execution_count": 115,
   "id": "08386053",
   "metadata": {},
   "outputs": [
    {
     "data": {
      "text/plain": [
       "array([[  0,   0,   0, ..., 255,   0,   0],\n",
       "       [  0,   0,   0, ..., 255,   0,   0],\n",
       "       [  0,   0,   0, ..., 255,   0,   0],\n",
       "       ...,\n",
       "       [  0,   0,   0, ...,   0,   0,   0],\n",
       "       [  0,   0,   0, ...,   0,   0,   0],\n",
       "       [  0,   0,   0, ...,   0,   0,   0]], dtype=uint8)"
      ]
     },
     "execution_count": 115,
     "metadata": {},
     "output_type": "execute_result"
    },
    {
     "data": {
      "image/png": "[encoded data removed]",
      "text/plain": [
       "<Figure size 432x288 with 1 Axes>"
      ]
     },
     "metadata": {
      "needs_background": "light"
     },
     "output_type": "display_data"
    }
   ],
   "source": [
    "gray = cv2.cvtColor(x_train[idx], cv2.COLOR_BGR2GRAY)\n",
    "blurred = cv2.GaussianBlur(gray, (3, 3), 0)\n",
    "canny = cv2.Canny(blurred, 180, 200)\n",
    "plt.imshow(canny)\n",
    "canny"
   ]
  },
  {
   "cell_type": "code",
   "execution_count": 116,
   "id": "347dcea8",
   "metadata": {},
   "outputs": [
    {
     "data": {
      "text/plain": [
       "<matplotlib.image.AxesImage at 0x1af9cc65eb0>"
      ]
     },
     "execution_count": 116,
     "metadata": {},
     "output_type": "execute_result"
    },
    {
     "data": {
      "image/png": "[encoded data removed]",
      "text/plain": [
       "<Figure size 432x288 with 1 Axes>"
      ]
     },
     "metadata": {
      "needs_background": "light"
     },
     "output_type": "display_data"
    }
   ],
   "source": [
    "for i in range(3):\n",
    "    x_train[idx][:,:,i][canny>0] = x_train[idx][:,:,i][canny>0]*0.6\n",
    "\n",
    "plt.imshow(x_train[idx])"
   ]
  },
  {
   "cell_type": "code",
   "execution_count": 117,
   "id": "dd7f1bcd",
   "metadata": {},
   "outputs": [],
   "source": [
    "for s in range(x_train.shape[0]):\n",
    "    gray = cv2.cvtColor(x_train[s], cv2.COLOR_BGR2GRAY)\n",
    "    blurred = cv2.GaussianBlur(gray, (3, 3), 0)\n",
    "    canny = cv2.Canny(blurred, 180, 200)\n",
    "    for i in range(3):\n",
    "        x_train[s][:,:,i][canny>0] = x_train[s][:,:,i][canny>0]*0.6"
   ]
  },
  {
   "cell_type": "code",
   "execution_count": 118,
   "id": "63a08109",
   "metadata": {},
   "outputs": [],
   "source": [
    "for s in range(x_valid.shape[0]):\n",
    "    gray = cv2.cvtColor(x_valid[s], cv2.COLOR_BGR2GRAY)\n",
    "    blurred = cv2.GaussianBlur(gray, (3, 3), 0)\n",
    "    canny = cv2.Canny(blurred, 180, 200)\n",
    "    for i in range(3):\n",
    "        x_valid[s][:,:,i][canny>0] = x_valid[s][:,:,i][canny>0]*0.6"
   ]
  },
  {
   "cell_type": "code",
   "execution_count": 124,
   "id": "513ef0bf",
   "metadata": {},
   "outputs": [
    {
     "ename": "ValueError",
     "evalue": "Found array with dim 4. the scale function expected <= 2.",
     "output_type": "error",
     "traceback": [
      "\u001b[1;31m---------------------------------------------------------------------------\u001b[0m",
      "\u001b[1;31mValueError\u001b[0m                                Traceback (most recent call last)",
      "\u001b[1;32md:\\02統碩\\110下\\deep\\proj2\\CNN Implement邊緣.ipynb Cell 17'\u001b[0m in \u001b[0;36m<cell line: 3>\u001b[1;34m()\u001b[0m\n\u001b[0;32m      <a href='vscode-notebook-cell:/d%3A/02%E7%B5%B1%E7%A2%A9/110%E4%B8%8B/deep/proj2/CNN%20Implement%E9%82%8A%E7%B7%A3.ipynb#ch0000039?line=0'>1</a>\u001b[0m \u001b[39mfrom\u001b[39;00m \u001b[39msklearn\u001b[39;00m \u001b[39mimport\u001b[39;00m preprocessing\n\u001b[1;32m----> <a href='vscode-notebook-cell:/d%3A/02%E7%B5%B1%E7%A2%A9/110%E4%B8%8B/deep/proj2/CNN%20Implement%E9%82%8A%E7%B7%A3.ipynb#ch0000039?line=2'>3</a>\u001b[0m x_train \u001b[39m=\u001b[39m preprocessing\u001b[39m.\u001b[39;49mscale(x_train)\n\u001b[0;32m      <a href='vscode-notebook-cell:/d%3A/02%E7%B5%B1%E7%A2%A9/110%E4%B8%8B/deep/proj2/CNN%20Implement%E9%82%8A%E7%B7%A3.ipynb#ch0000039?line=3'>4</a>\u001b[0m y_train \u001b[39m=\u001b[39m preprocessing\u001b[39m.\u001b[39mscale(y_train)\n",
      "File \u001b[1;32mc:\\Users\\alion\\.conda\\envs\\tensorflow\\lib\\site-packages\\sklearn\\preprocessing\\_data.py:194\u001b[0m, in \u001b[0;36mscale\u001b[1;34m(X, axis, with_mean, with_std, copy)\u001b[0m\n\u001b[0;32m    <a href='file:///c%3A/Users/alion/.conda/envs/tensorflow/lib/site-packages/sklearn/preprocessing/_data.py?line=116'>117</a>\u001b[0m \u001b[39mdef\u001b[39;00m \u001b[39mscale\u001b[39m(X, \u001b[39m*\u001b[39m, axis\u001b[39m=\u001b[39m\u001b[39m0\u001b[39m, with_mean\u001b[39m=\u001b[39m\u001b[39mTrue\u001b[39;00m, with_std\u001b[39m=\u001b[39m\u001b[39mTrue\u001b[39;00m, copy\u001b[39m=\u001b[39m\u001b[39mTrue\u001b[39;00m):\n\u001b[0;32m    <a href='file:///c%3A/Users/alion/.conda/envs/tensorflow/lib/site-packages/sklearn/preprocessing/_data.py?line=117'>118</a>\u001b[0m     \u001b[39m\"\"\"Standardize a dataset along any axis.\u001b[39;00m\n\u001b[0;32m    <a href='file:///c%3A/Users/alion/.conda/envs/tensorflow/lib/site-packages/sklearn/preprocessing/_data.py?line=118'>119</a>\u001b[0m \n\u001b[0;32m    <a href='file:///c%3A/Users/alion/.conda/envs/tensorflow/lib/site-packages/sklearn/preprocessing/_data.py?line=119'>120</a>\u001b[0m \u001b[39m    Center to the mean and component wise scale to unit variance.\u001b[39;00m\n\u001b[1;32m   (...)\u001b[0m\n\u001b[0;32m    <a href='file:///c%3A/Users/alion/.conda/envs/tensorflow/lib/site-packages/sklearn/preprocessing/_data.py?line=191'>192</a>\u001b[0m \n\u001b[0;32m    <a href='file:///c%3A/Users/alion/.conda/envs/tensorflow/lib/site-packages/sklearn/preprocessing/_data.py?line=192'>193</a>\u001b[0m \u001b[39m    \"\"\"\u001b[39;00m  \u001b[39m# noqa\u001b[39;00m\n\u001b[1;32m--> <a href='file:///c%3A/Users/alion/.conda/envs/tensorflow/lib/site-packages/sklearn/preprocessing/_data.py?line=193'>194</a>\u001b[0m     X \u001b[39m=\u001b[39m check_array(\n\u001b[0;32m    <a href='file:///c%3A/Users/alion/.conda/envs/tensorflow/lib/site-packages/sklearn/preprocessing/_data.py?line=194'>195</a>\u001b[0m         X,\n\u001b[0;32m    <a href='file:///c%3A/Users/alion/.conda/envs/tensorflow/lib/site-packages/sklearn/preprocessing/_data.py?line=195'>196</a>\u001b[0m         accept_sparse\u001b[39m=\u001b[39;49m\u001b[39m\"\u001b[39;49m\u001b[39mcsc\u001b[39;49m\u001b[39m\"\u001b[39;49m,\n\u001b[0;32m    <a href='file:///c%3A/Users/alion/.conda/envs/tensorflow/lib/site-packages/sklearn/preprocessing/_data.py?line=196'>197</a>\u001b[0m         copy\u001b[39m=\u001b[39;49mcopy,\n\u001b[0;32m    <a href='file:///c%3A/Users/alion/.conda/envs/tensorflow/lib/site-packages/sklearn/preprocessing/_data.py?line=197'>198</a>\u001b[0m         ensure_2d\u001b[39m=\u001b[39;49m\u001b[39mFalse\u001b[39;49;00m,\n\u001b[0;32m    <a href='file:///c%3A/Users/alion/.conda/envs/tensorflow/lib/site-packages/sklearn/preprocessing/_data.py?line=198'>199</a>\u001b[0m         estimator\u001b[39m=\u001b[39;49m\u001b[39m\"\u001b[39;49m\u001b[39mthe scale function\u001b[39;49m\u001b[39m\"\u001b[39;49m,\n\u001b[0;32m    <a href='file:///c%3A/Users/alion/.conda/envs/tensorflow/lib/site-packages/sklearn/preprocessing/_data.py?line=199'>200</a>\u001b[0m         dtype\u001b[39m=\u001b[39;49mFLOAT_DTYPES,\n\u001b[0;32m    <a href='file:///c%3A/Users/alion/.conda/envs/tensorflow/lib/site-packages/sklearn/preprocessing/_data.py?line=200'>201</a>\u001b[0m         force_all_finite\u001b[39m=\u001b[39;49m\u001b[39m\"\u001b[39;49m\u001b[39mallow-nan\u001b[39;49m\u001b[39m\"\u001b[39;49m,\n\u001b[0;32m    <a href='file:///c%3A/Users/alion/.conda/envs/tensorflow/lib/site-packages/sklearn/preprocessing/_data.py?line=201'>202</a>\u001b[0m     )\n\u001b[0;32m    <a href='file:///c%3A/Users/alion/.conda/envs/tensorflow/lib/site-packages/sklearn/preprocessing/_data.py?line=202'>203</a>\u001b[0m     \u001b[39mif\u001b[39;00m sparse\u001b[39m.\u001b[39missparse(X):\n\u001b[0;32m    <a href='file:///c%3A/Users/alion/.conda/envs/tensorflow/lib/site-packages/sklearn/preprocessing/_data.py?line=203'>204</a>\u001b[0m         \u001b[39mif\u001b[39;00m with_mean:\n",
      "File \u001b[1;32mc:\\Users\\alion\\.conda\\envs\\tensorflow\\lib\\site-packages\\sklearn\\utils\\validation.py:794\u001b[0m, in \u001b[0;36mcheck_array\u001b[1;34m(array, accept_sparse, accept_large_sparse, dtype, order, copy, force_all_finite, ensure_2d, allow_nd, ensure_min_samples, ensure_min_features, estimator)\u001b[0m\n\u001b[0;32m    <a href='file:///c%3A/Users/alion/.conda/envs/tensorflow/lib/site-packages/sklearn/utils/validation.py?line=788'>789</a>\u001b[0m         \u001b[39mraise\u001b[39;00m \u001b[39mValueError\u001b[39;00m(\n\u001b[0;32m    <a href='file:///c%3A/Users/alion/.conda/envs/tensorflow/lib/site-packages/sklearn/utils/validation.py?line=789'>790</a>\u001b[0m             \u001b[39m\"\u001b[39m\u001b[39mUnable to convert array of bytes/strings \u001b[39m\u001b[39m\"\u001b[39m\n\u001b[0;32m    <a href='file:///c%3A/Users/alion/.conda/envs/tensorflow/lib/site-packages/sklearn/utils/validation.py?line=790'>791</a>\u001b[0m             \u001b[39m\"\u001b[39m\u001b[39minto decimal numbers with dtype=\u001b[39m\u001b[39m'\u001b[39m\u001b[39mnumeric\u001b[39m\u001b[39m'\u001b[39m\u001b[39m\"\u001b[39m\n\u001b[0;32m    <a href='file:///c%3A/Users/alion/.conda/envs/tensorflow/lib/site-packages/sklearn/utils/validation.py?line=791'>792</a>\u001b[0m         ) \u001b[39mfrom\u001b[39;00m \u001b[39me\u001b[39;00m\n\u001b[0;32m    <a href='file:///c%3A/Users/alion/.conda/envs/tensorflow/lib/site-packages/sklearn/utils/validation.py?line=792'>793</a>\u001b[0m \u001b[39mif\u001b[39;00m \u001b[39mnot\u001b[39;00m allow_nd \u001b[39mand\u001b[39;00m array\u001b[39m.\u001b[39mndim \u001b[39m>\u001b[39m\u001b[39m=\u001b[39m \u001b[39m3\u001b[39m:\n\u001b[1;32m--> <a href='file:///c%3A/Users/alion/.conda/envs/tensorflow/lib/site-packages/sklearn/utils/validation.py?line=793'>794</a>\u001b[0m     \u001b[39mraise\u001b[39;00m \u001b[39mValueError\u001b[39;00m(\n\u001b[0;32m    <a href='file:///c%3A/Users/alion/.conda/envs/tensorflow/lib/site-packages/sklearn/utils/validation.py?line=794'>795</a>\u001b[0m         \u001b[39m\"\u001b[39m\u001b[39mFound array with dim \u001b[39m\u001b[39m%d\u001b[39;00m\u001b[39m. \u001b[39m\u001b[39m%s\u001b[39;00m\u001b[39m expected <= 2.\u001b[39m\u001b[39m\"\u001b[39m\n\u001b[0;32m    <a href='file:///c%3A/Users/alion/.conda/envs/tensorflow/lib/site-packages/sklearn/utils/validation.py?line=795'>796</a>\u001b[0m         \u001b[39m%\u001b[39m (array\u001b[39m.\u001b[39mndim, estimator_name)\n\u001b[0;32m    <a href='file:///c%3A/Users/alion/.conda/envs/tensorflow/lib/site-packages/sklearn/utils/validation.py?line=796'>797</a>\u001b[0m     )\n\u001b[0;32m    <a href='file:///c%3A/Users/alion/.conda/envs/tensorflow/lib/site-packages/sklearn/utils/validation.py?line=798'>799</a>\u001b[0m \u001b[39mif\u001b[39;00m force_all_finite:\n\u001b[0;32m    <a href='file:///c%3A/Users/alion/.conda/envs/tensorflow/lib/site-packages/sklearn/utils/validation.py?line=799'>800</a>\u001b[0m     _assert_all_finite(array, allow_nan\u001b[39m=\u001b[39mforce_all_finite \u001b[39m==\u001b[39m \u001b[39m\"\u001b[39m\u001b[39mallow-nan\u001b[39m\u001b[39m\"\u001b[39m)\n",
      "\u001b[1;31mValueError\u001b[0m: Found array with dim 4. the scale function expected <= 2."
     ]
    }
   ],
   "source": [
    "from sklearn import preprocessing\n",
    "\n",
    "x_train = preprocessing.scale(x_train)\n",
    "y_train = preprocessing.scale(y_train)"
   ]
  },
  {
   "cell_type": "markdown",
   "id": "03800027",
   "metadata": {},
   "source": [
    "### Build the network"
   ]
  },
  {
   "cell_type": "markdown",
   "id": "c16d57f1",
   "metadata": {},
   "source": [
    "You can show the detail for it:"
   ]
  },
  {
   "cell_type": "code",
   "execution_count": 120,
   "id": "8d5c1e62",
   "metadata": {},
   "outputs": [],
   "source": [
    "model = tf.keras.models.Sequential([\n",
    "    tf.keras.layers.Conv2D(64, (3, 3), padding=\"same\", activation='relu', input_shape=(32, 32, 3)),\n",
    "    tf.keras.layers.Conv2D(64, (3, 3), padding=\"same\", activation='relu'),\n",
    "    tf.keras.layers.MaxPool2D((2,2)),\n",
    "    tf.keras.layers.Dropout(0.2),\n",
    "    tf.keras.layers.Conv2D(128, (3, 3), padding=\"same\", activation='relu'),\n",
    "    tf.keras.layers.Conv2D(128, (3, 3), padding=\"same\", activation='relu'),\n",
    "    tf.keras.layers.MaxPool2D((2,2)),\n",
    "    tf.keras.layers.Dropout(0.2),\n",
    "    tf.keras.layers.Conv2D(256, (3, 3), padding=\"same\", activation='relu'),\n",
    "    tf.keras.layers.Conv2D(256, (3, 3), padding=\"same\", activation='relu'),\n",
    "    tf.keras.layers.Dropout(0.2),\n",
    "    tf.keras.layers.Flatten(),\n",
    "    tf.keras.layers.Dense(128, activation='sigmoid'),\n",
    "    tf.keras.layers.Dense(10, activation='softmax')\n",
    "])"
   ]
  },
  {
   "cell_type": "code",
   "execution_count": 121,
   "id": "f278291a",
   "metadata": {},
   "outputs": [
    {
     "name": "stdout",
     "output_type": "stream",
     "text": [
      "Model: \"sequential_8\"\n",
      "_________________________________________________________________\n",
      "Layer (type)                 Output Shape              Param #   \n",
      "=================================================================\n",
      "conv2d_48 (Conv2D)           (None, 32, 32, 64)        1792      \n",
      "_________________________________________________________________\n",
      "conv2d_49 (Conv2D)           (None, 32, 32, 64)        36928     \n",
      "_________________________________________________________________\n",
      "max_pooling2d_16 (MaxPooling (None, 16, 16, 64)        0         \n",
      "_________________________________________________________________\n",
      "dropout_24 (Dropout)         (None, 16, 16, 64)        0         \n",
      "_________________________________________________________________\n",
      "conv2d_50 (Conv2D)           (None, 16, 16, 128)       73856     \n",
      "_________________________________________________________________\n",
      "conv2d_51 (Conv2D)           (None, 16, 16, 128)       147584    \n",
      "_________________________________________________________________\n",
      "max_pooling2d_17 (MaxPooling (None, 8, 8, 128)         0         \n",
      "_________________________________________________________________\n",
      "dropout_25 (Dropout)         (None, 8, 8, 128)         0         \n",
      "_________________________________________________________________\n",
      "conv2d_52 (Conv2D)           (None, 8, 8, 256)         295168    \n",
      "_________________________________________________________________\n",
      "conv2d_53 (Conv2D)           (None, 8, 8, 256)         590080    \n",
      "_________________________________________________________________\n",
      "dropout_26 (Dropout)         (None, 8, 8, 256)         0         \n",
      "_________________________________________________________________\n",
      "flatten_8 (Flatten)          (None, 16384)             0         \n",
      "_________________________________________________________________\n",
      "dense_16 (Dense)             (None, 128)               2097280   \n",
      "_________________________________________________________________\n",
      "dense_17 (Dense)             (None, 10)                1290      \n",
      "=================================================================\n",
      "Total params: 3,243,978\n",
      "Trainable params: 3,243,978\n",
      "Non-trainable params: 0\n",
      "_________________________________________________________________\n",
      "None\n"
     ]
    }
   ],
   "source": [
    "print(model.summary())"
   ]
  },
  {
   "cell_type": "markdown",
   "id": "77060e81",
   "metadata": {},
   "source": [
    "### Training the network"
   ]
  },
  {
   "cell_type": "code",
   "execution_count": 122,
   "id": "5bd9f24f",
   "metadata": {},
   "outputs": [
    {
     "name": "stdout",
     "output_type": "stream",
     "text": [
      "Epoch 1/30\n",
      "125/125 [==============================] - 6s 45ms/step - loss: 0.0092 - accuracy: 0.1007 - val_loss: 2.2965 - val_accuracy: 0.1520\n",
      "Epoch 2/30\n",
      "125/125 [==============================] - 6s 48ms/step - loss: 0.0090 - accuracy: 0.0843 - val_loss: 2.3068 - val_accuracy: 0.1020\n",
      "Epoch 3/30\n",
      "125/125 [==============================] - 6s 49ms/step - loss: 0.0090 - accuracy: 0.1000 - val_loss: 2.3027 - val_accuracy: 0.0920\n",
      "Epoch 4/30\n",
      "125/125 [==============================] - 6s 49ms/step - loss: 0.0090 - accuracy: 0.0948 - val_loss: 2.3026 - val_accuracy: 0.0820\n",
      "Epoch 5/30\n",
      "125/125 [==============================] - 6s 49ms/step - loss: 0.0090 - accuracy: 0.0965 - val_loss: 2.3026 - val_accuracy: 0.1170\n",
      "Epoch 6/30\n",
      "125/125 [==============================] - 6s 49ms/step - loss: 0.0090 - accuracy: 0.0990 - val_loss: 2.3026 - val_accuracy: 0.1010\n",
      "Epoch 7/30\n",
      " 66/125 [==============>...............] - ETA: 2s - loss: 0.0090 - accuracy: 0.0923"
     ]
    },
    {
     "ename": "KeyboardInterrupt",
     "evalue": "",
     "output_type": "error",
     "traceback": [
      "\u001b[1;31m---------------------------------------------------------------------------\u001b[0m",
      "\u001b[1;31mKeyboardInterrupt\u001b[0m                         Traceback (most recent call last)",
      "\u001b[1;32md:\\02統碩\\110下\\deep\\proj2\\CNN Implement邊緣.ipynb Cell 23'\u001b[0m in \u001b[0;36m<cell line: 8>\u001b[1;34m()\u001b[0m\n\u001b[0;32m      <a href='vscode-notebook-cell:/d%3A/02%E7%B5%B1%E7%A2%A9/110%E4%B8%8B/deep/proj2/CNN%20Implement%E9%82%8A%E7%B7%A3.ipynb#ch0000021?line=0'>1</a>\u001b[0m epoch \u001b[39m=\u001b[39m \u001b[39m30\u001b[39m\n\u001b[0;32m      <a href='vscode-notebook-cell:/d%3A/02%E7%B5%B1%E7%A2%A9/110%E4%B8%8B/deep/proj2/CNN%20Implement%E9%82%8A%E7%B7%A3.ipynb#ch0000021?line=2'>3</a>\u001b[0m model\u001b[39m.\u001b[39mcompile(\n\u001b[0;32m      <a href='vscode-notebook-cell:/d%3A/02%E7%B5%B1%E7%A2%A9/110%E4%B8%8B/deep/proj2/CNN%20Implement%E9%82%8A%E7%B7%A3.ipynb#ch0000021?line=3'>4</a>\u001b[0m     loss\u001b[39m=\u001b[39m\u001b[39m\"\u001b[39m\u001b[39mcategorical_crossentropy\u001b[39m\u001b[39m\"\u001b[39m, \n\u001b[0;32m      <a href='vscode-notebook-cell:/d%3A/02%E7%B5%B1%E7%A2%A9/110%E4%B8%8B/deep/proj2/CNN%20Implement%E9%82%8A%E7%B7%A3.ipynb#ch0000021?line=4'>5</a>\u001b[0m     optimizer\u001b[39m=\u001b[39m\u001b[39m\"\u001b[39m\u001b[39msgd\u001b[39m\u001b[39m\"\u001b[39m, \n\u001b[0;32m      <a href='vscode-notebook-cell:/d%3A/02%E7%B5%B1%E7%A2%A9/110%E4%B8%8B/deep/proj2/CNN%20Implement%E9%82%8A%E7%B7%A3.ipynb#ch0000021?line=5'>6</a>\u001b[0m     metrics\u001b[39m=\u001b[39m[\u001b[39m\"\u001b[39m\u001b[39maccuracy\u001b[39m\u001b[39m\"\u001b[39m]\n\u001b[0;32m      <a href='vscode-notebook-cell:/d%3A/02%E7%B5%B1%E7%A2%A9/110%E4%B8%8B/deep/proj2/CNN%20Implement%E9%82%8A%E7%B7%A3.ipynb#ch0000021?line=6'>7</a>\u001b[0m )\n\u001b[1;32m----> <a href='vscode-notebook-cell:/d%3A/02%E7%B5%B1%E7%A2%A9/110%E4%B8%8B/deep/proj2/CNN%20Implement%E9%82%8A%E7%B7%A3.ipynb#ch0000021?line=7'>8</a>\u001b[0m history \u001b[39m=\u001b[39m model\u001b[39m.\u001b[39;49mfit(\n\u001b[0;32m      <a href='vscode-notebook-cell:/d%3A/02%E7%B5%B1%E7%A2%A9/110%E4%B8%8B/deep/proj2/CNN%20Implement%E9%82%8A%E7%B7%A3.ipynb#ch0000021?line=8'>9</a>\u001b[0m     x_train, \n\u001b[0;32m     <a href='vscode-notebook-cell:/d%3A/02%E7%B5%B1%E7%A2%A9/110%E4%B8%8B/deep/proj2/CNN%20Implement%E9%82%8A%E7%B7%A3.ipynb#ch0000021?line=9'>10</a>\u001b[0m     y_train, \n\u001b[0;32m     <a href='vscode-notebook-cell:/d%3A/02%E7%B5%B1%E7%A2%A9/110%E4%B8%8B/deep/proj2/CNN%20Implement%E9%82%8A%E7%B7%A3.ipynb#ch0000021?line=10'>11</a>\u001b[0m     epochs\u001b[39m=\u001b[39;49mepoch, \n\u001b[0;32m     <a href='vscode-notebook-cell:/d%3A/02%E7%B5%B1%E7%A2%A9/110%E4%B8%8B/deep/proj2/CNN%20Implement%E9%82%8A%E7%B7%A3.ipynb#ch0000021?line=11'>12</a>\u001b[0m     validation_data\u001b[39m=\u001b[39;49m(x_valid, y_valid)\n\u001b[0;32m     <a href='vscode-notebook-cell:/d%3A/02%E7%B5%B1%E7%A2%A9/110%E4%B8%8B/deep/proj2/CNN%20Implement%E9%82%8A%E7%B7%A3.ipynb#ch0000021?line=12'>13</a>\u001b[0m )\n",
      "File \u001b[1;32mc:\\Users\\alion\\.conda\\envs\\tensorflow\\lib\\site-packages\\tensorflow\\python\\keras\\engine\\training.py:1198\u001b[0m, in \u001b[0;36mModel.fit\u001b[1;34m(self, x, y, batch_size, epochs, verbose, callbacks, validation_split, validation_data, shuffle, class_weight, sample_weight, initial_epoch, steps_per_epoch, validation_steps, validation_batch_size, validation_freq, max_queue_size, workers, use_multiprocessing)\u001b[0m\n\u001b[0;32m   <a href='file:///c%3A/Users/alion/.conda/envs/tensorflow/lib/site-packages/tensorflow/python/keras/engine/training.py?line=1195'>1196</a>\u001b[0m logs \u001b[39m=\u001b[39m tmp_logs  \u001b[39m# No error, now safe to assign to logs.\u001b[39;00m\n\u001b[0;32m   <a href='file:///c%3A/Users/alion/.conda/envs/tensorflow/lib/site-packages/tensorflow/python/keras/engine/training.py?line=1196'>1197</a>\u001b[0m end_step \u001b[39m=\u001b[39m step \u001b[39m+\u001b[39m data_handler\u001b[39m.\u001b[39mstep_increment\n\u001b[1;32m-> <a href='file:///c%3A/Users/alion/.conda/envs/tensorflow/lib/site-packages/tensorflow/python/keras/engine/training.py?line=1197'>1198</a>\u001b[0m callbacks\u001b[39m.\u001b[39;49mon_train_batch_end(end_step, logs)\n\u001b[0;32m   <a href='file:///c%3A/Users/alion/.conda/envs/tensorflow/lib/site-packages/tensorflow/python/keras/engine/training.py?line=1198'>1199</a>\u001b[0m \u001b[39mif\u001b[39;00m \u001b[39mself\u001b[39m\u001b[39m.\u001b[39mstop_training:\n\u001b[0;32m   <a href='file:///c%3A/Users/alion/.conda/envs/tensorflow/lib/site-packages/tensorflow/python/keras/engine/training.py?line=1199'>1200</a>\u001b[0m   \u001b[39mbreak\u001b[39;00m\n",
      "File \u001b[1;32mc:\\Users\\alion\\.conda\\envs\\tensorflow\\lib\\site-packages\\tensorflow\\python\\keras\\callbacks.py:456\u001b[0m, in \u001b[0;36mCallbackList.on_train_batch_end\u001b[1;34m(self, batch, logs)\u001b[0m\n\u001b[0;32m    <a href='file:///c%3A/Users/alion/.conda/envs/tensorflow/lib/site-packages/tensorflow/python/keras/callbacks.py?line=448'>449</a>\u001b[0m \u001b[39m\"\"\"Calls the `on_train_batch_end` methods of its callbacks.\u001b[39;00m\n\u001b[0;32m    <a href='file:///c%3A/Users/alion/.conda/envs/tensorflow/lib/site-packages/tensorflow/python/keras/callbacks.py?line=449'>450</a>\u001b[0m \n\u001b[0;32m    <a href='file:///c%3A/Users/alion/.conda/envs/tensorflow/lib/site-packages/tensorflow/python/keras/callbacks.py?line=450'>451</a>\u001b[0m \u001b[39mArgs:\u001b[39;00m\n\u001b[0;32m    <a href='file:///c%3A/Users/alion/.conda/envs/tensorflow/lib/site-packages/tensorflow/python/keras/callbacks.py?line=451'>452</a>\u001b[0m \u001b[39m    batch: Integer, index of batch within the current epoch.\u001b[39;00m\n\u001b[0;32m    <a href='file:///c%3A/Users/alion/.conda/envs/tensorflow/lib/site-packages/tensorflow/python/keras/callbacks.py?line=452'>453</a>\u001b[0m \u001b[39m    logs: Dict. Aggregated metric results up until this batch.\u001b[39;00m\n\u001b[0;32m    <a href='file:///c%3A/Users/alion/.conda/envs/tensorflow/lib/site-packages/tensorflow/python/keras/callbacks.py?line=453'>454</a>\u001b[0m \u001b[39m\"\"\"\u001b[39;00m\n\u001b[0;32m    <a href='file:///c%3A/Users/alion/.conda/envs/tensorflow/lib/site-packages/tensorflow/python/keras/callbacks.py?line=454'>455</a>\u001b[0m \u001b[39mif\u001b[39;00m \u001b[39mself\u001b[39m\u001b[39m.\u001b[39m_should_call_train_batch_hooks:\n\u001b[1;32m--> <a href='file:///c%3A/Users/alion/.conda/envs/tensorflow/lib/site-packages/tensorflow/python/keras/callbacks.py?line=455'>456</a>\u001b[0m   \u001b[39mself\u001b[39;49m\u001b[39m.\u001b[39;49m_call_batch_hook(ModeKeys\u001b[39m.\u001b[39;49mTRAIN, \u001b[39m'\u001b[39;49m\u001b[39mend\u001b[39;49m\u001b[39m'\u001b[39;49m, batch, logs\u001b[39m=\u001b[39;49mlogs)\n",
      "File \u001b[1;32mc:\\Users\\alion\\.conda\\envs\\tensorflow\\lib\\site-packages\\tensorflow\\python\\keras\\callbacks.py:316\u001b[0m, in \u001b[0;36mCallbackList._call_batch_hook\u001b[1;34m(self, mode, hook, batch, logs)\u001b[0m\n\u001b[0;32m    <a href='file:///c%3A/Users/alion/.conda/envs/tensorflow/lib/site-packages/tensorflow/python/keras/callbacks.py?line=313'>314</a>\u001b[0m   \u001b[39mself\u001b[39m\u001b[39m.\u001b[39m_call_batch_begin_hook(mode, batch, logs)\n\u001b[0;32m    <a href='file:///c%3A/Users/alion/.conda/envs/tensorflow/lib/site-packages/tensorflow/python/keras/callbacks.py?line=314'>315</a>\u001b[0m \u001b[39melif\u001b[39;00m hook \u001b[39m==\u001b[39m \u001b[39m'\u001b[39m\u001b[39mend\u001b[39m\u001b[39m'\u001b[39m:\n\u001b[1;32m--> <a href='file:///c%3A/Users/alion/.conda/envs/tensorflow/lib/site-packages/tensorflow/python/keras/callbacks.py?line=315'>316</a>\u001b[0m   \u001b[39mself\u001b[39;49m\u001b[39m.\u001b[39;49m_call_batch_end_hook(mode, batch, logs)\n\u001b[0;32m    <a href='file:///c%3A/Users/alion/.conda/envs/tensorflow/lib/site-packages/tensorflow/python/keras/callbacks.py?line=316'>317</a>\u001b[0m \u001b[39melse\u001b[39;00m:\n\u001b[0;32m    <a href='file:///c%3A/Users/alion/.conda/envs/tensorflow/lib/site-packages/tensorflow/python/keras/callbacks.py?line=317'>318</a>\u001b[0m   \u001b[39mraise\u001b[39;00m \u001b[39mValueError\u001b[39;00m(\u001b[39m'\u001b[39m\u001b[39mUnrecognized hook: \u001b[39m\u001b[39m{}\u001b[39;00m\u001b[39m'\u001b[39m\u001b[39m.\u001b[39mformat(hook))\n",
      "File \u001b[1;32mc:\\Users\\alion\\.conda\\envs\\tensorflow\\lib\\site-packages\\tensorflow\\python\\keras\\callbacks.py:336\u001b[0m, in \u001b[0;36mCallbackList._call_batch_end_hook\u001b[1;34m(self, mode, batch, logs)\u001b[0m\n\u001b[0;32m    <a href='file:///c%3A/Users/alion/.conda/envs/tensorflow/lib/site-packages/tensorflow/python/keras/callbacks.py?line=332'>333</a>\u001b[0m   batch_time \u001b[39m=\u001b[39m time\u001b[39m.\u001b[39mtime() \u001b[39m-\u001b[39m \u001b[39mself\u001b[39m\u001b[39m.\u001b[39m_batch_start_time\n\u001b[0;32m    <a href='file:///c%3A/Users/alion/.conda/envs/tensorflow/lib/site-packages/tensorflow/python/keras/callbacks.py?line=333'>334</a>\u001b[0m   \u001b[39mself\u001b[39m\u001b[39m.\u001b[39m_batch_times\u001b[39m.\u001b[39mappend(batch_time)\n\u001b[1;32m--> <a href='file:///c%3A/Users/alion/.conda/envs/tensorflow/lib/site-packages/tensorflow/python/keras/callbacks.py?line=335'>336</a>\u001b[0m \u001b[39mself\u001b[39;49m\u001b[39m.\u001b[39;49m_call_batch_hook_helper(hook_name, batch, logs)\n\u001b[0;32m    <a href='file:///c%3A/Users/alion/.conda/envs/tensorflow/lib/site-packages/tensorflow/python/keras/callbacks.py?line=337'>338</a>\u001b[0m \u001b[39mif\u001b[39;00m \u001b[39mlen\u001b[39m(\u001b[39mself\u001b[39m\u001b[39m.\u001b[39m_batch_times) \u001b[39m>\u001b[39m\u001b[39m=\u001b[39m \u001b[39mself\u001b[39m\u001b[39m.\u001b[39m_num_batches_for_timing_check:\n\u001b[0;32m    <a href='file:///c%3A/Users/alion/.conda/envs/tensorflow/lib/site-packages/tensorflow/python/keras/callbacks.py?line=338'>339</a>\u001b[0m   end_hook_name \u001b[39m=\u001b[39m hook_name\n",
      "File \u001b[1;32mc:\\Users\\alion\\.conda\\envs\\tensorflow\\lib\\site-packages\\tensorflow\\python\\keras\\callbacks.py:374\u001b[0m, in \u001b[0;36mCallbackList._call_batch_hook_helper\u001b[1;34m(self, hook_name, batch, logs)\u001b[0m\n\u001b[0;32m    <a href='file:///c%3A/Users/alion/.conda/envs/tensorflow/lib/site-packages/tensorflow/python/keras/callbacks.py?line=371'>372</a>\u001b[0m \u001b[39mfor\u001b[39;00m callback \u001b[39min\u001b[39;00m \u001b[39mself\u001b[39m\u001b[39m.\u001b[39mcallbacks:\n\u001b[0;32m    <a href='file:///c%3A/Users/alion/.conda/envs/tensorflow/lib/site-packages/tensorflow/python/keras/callbacks.py?line=372'>373</a>\u001b[0m   hook \u001b[39m=\u001b[39m \u001b[39mgetattr\u001b[39m(callback, hook_name)\n\u001b[1;32m--> <a href='file:///c%3A/Users/alion/.conda/envs/tensorflow/lib/site-packages/tensorflow/python/keras/callbacks.py?line=373'>374</a>\u001b[0m   hook(batch, logs)\n\u001b[0;32m    <a href='file:///c%3A/Users/alion/.conda/envs/tensorflow/lib/site-packages/tensorflow/python/keras/callbacks.py?line=375'>376</a>\u001b[0m \u001b[39mif\u001b[39;00m \u001b[39mself\u001b[39m\u001b[39m.\u001b[39m_check_timing:\n\u001b[0;32m    <a href='file:///c%3A/Users/alion/.conda/envs/tensorflow/lib/site-packages/tensorflow/python/keras/callbacks.py?line=376'>377</a>\u001b[0m   \u001b[39mif\u001b[39;00m hook_name \u001b[39mnot\u001b[39;00m \u001b[39min\u001b[39;00m \u001b[39mself\u001b[39m\u001b[39m.\u001b[39m_hook_times:\n",
      "File \u001b[1;32mc:\\Users\\alion\\.conda\\envs\\tensorflow\\lib\\site-packages\\tensorflow\\python\\keras\\callbacks.py:1052\u001b[0m, in \u001b[0;36mProgbarLogger.on_train_batch_end\u001b[1;34m(self, batch, logs)\u001b[0m\n\u001b[0;32m   <a href='file:///c%3A/Users/alion/.conda/envs/tensorflow/lib/site-packages/tensorflow/python/keras/callbacks.py?line=1050'>1051</a>\u001b[0m \u001b[39mdef\u001b[39;00m \u001b[39mon_train_batch_end\u001b[39m(\u001b[39mself\u001b[39m, batch, logs\u001b[39m=\u001b[39m\u001b[39mNone\u001b[39;00m):\n\u001b[1;32m-> <a href='file:///c%3A/Users/alion/.conda/envs/tensorflow/lib/site-packages/tensorflow/python/keras/callbacks.py?line=1051'>1052</a>\u001b[0m   \u001b[39mself\u001b[39;49m\u001b[39m.\u001b[39;49m_batch_update_progbar(batch, logs)\n",
      "File \u001b[1;32mc:\\Users\\alion\\.conda\\envs\\tensorflow\\lib\\site-packages\\tensorflow\\python\\keras\\callbacks.py:1124\u001b[0m, in \u001b[0;36mProgbarLogger._batch_update_progbar\u001b[1;34m(self, batch, logs)\u001b[0m\n\u001b[0;32m   <a href='file:///c%3A/Users/alion/.conda/envs/tensorflow/lib/site-packages/tensorflow/python/keras/callbacks.py?line=1119'>1120</a>\u001b[0m   \u001b[39mself\u001b[39m\u001b[39m.\u001b[39mseen \u001b[39m+\u001b[39m\u001b[39m=\u001b[39m add_seen\n\u001b[0;32m   <a href='file:///c%3A/Users/alion/.conda/envs/tensorflow/lib/site-packages/tensorflow/python/keras/callbacks.py?line=1121'>1122</a>\u001b[0m \u001b[39mif\u001b[39;00m \u001b[39mself\u001b[39m\u001b[39m.\u001b[39mverbose \u001b[39m==\u001b[39m \u001b[39m1\u001b[39m:\n\u001b[0;32m   <a href='file:///c%3A/Users/alion/.conda/envs/tensorflow/lib/site-packages/tensorflow/python/keras/callbacks.py?line=1122'>1123</a>\u001b[0m   \u001b[39m# Only block async when verbose = 1.\u001b[39;00m\n\u001b[1;32m-> <a href='file:///c%3A/Users/alion/.conda/envs/tensorflow/lib/site-packages/tensorflow/python/keras/callbacks.py?line=1123'>1124</a>\u001b[0m   logs \u001b[39m=\u001b[39m tf_utils\u001b[39m.\u001b[39;49msync_to_numpy_or_python_type(logs)\n\u001b[0;32m   <a href='file:///c%3A/Users/alion/.conda/envs/tensorflow/lib/site-packages/tensorflow/python/keras/callbacks.py?line=1124'>1125</a>\u001b[0m   \u001b[39mself\u001b[39m\u001b[39m.\u001b[39mprogbar\u001b[39m.\u001b[39mupdate(\u001b[39mself\u001b[39m\u001b[39m.\u001b[39mseen, \u001b[39mlist\u001b[39m(logs\u001b[39m.\u001b[39mitems()), finalize\u001b[39m=\u001b[39m\u001b[39mFalse\u001b[39;00m)\n",
      "File \u001b[1;32mc:\\Users\\alion\\.conda\\envs\\tensorflow\\lib\\site-packages\\tensorflow\\python\\keras\\utils\\tf_utils.py:529\u001b[0m, in \u001b[0;36msync_to_numpy_or_python_type\u001b[1;34m(tensors)\u001b[0m\n\u001b[0;32m    <a href='file:///c%3A/Users/alion/.conda/envs/tensorflow/lib/site-packages/tensorflow/python/keras/utils/tf_utils.py?line=525'>526</a>\u001b[0m     \u001b[39mreturn\u001b[39;00m x\u001b[39m.\u001b[39mitem() \u001b[39mif\u001b[39;00m np\u001b[39m.\u001b[39mndim(x) \u001b[39m==\u001b[39m \u001b[39m0\u001b[39m \u001b[39melse\u001b[39;00m x\n\u001b[0;32m    <a href='file:///c%3A/Users/alion/.conda/envs/tensorflow/lib/site-packages/tensorflow/python/keras/utils/tf_utils.py?line=526'>527</a>\u001b[0m   \u001b[39mreturn\u001b[39;00m t  \u001b[39m# Don't turn ragged or sparse tensors to NumPy.\u001b[39;00m\n\u001b[1;32m--> <a href='file:///c%3A/Users/alion/.conda/envs/tensorflow/lib/site-packages/tensorflow/python/keras/utils/tf_utils.py?line=528'>529</a>\u001b[0m \u001b[39mreturn\u001b[39;00m nest\u001b[39m.\u001b[39;49mmap_structure(_to_single_numpy_or_python_type, tensors)\n",
      "File \u001b[1;32mc:\\Users\\alion\\.conda\\envs\\tensorflow\\lib\\site-packages\\tensorflow\\python\\util\\nest.py:869\u001b[0m, in \u001b[0;36mmap_structure\u001b[1;34m(func, *structure, **kwargs)\u001b[0m\n\u001b[0;32m    <a href='file:///c%3A/Users/alion/.conda/envs/tensorflow/lib/site-packages/tensorflow/python/util/nest.py?line=864'>865</a>\u001b[0m flat_structure \u001b[39m=\u001b[39m (flatten(s, expand_composites) \u001b[39mfor\u001b[39;00m s \u001b[39min\u001b[39;00m structure)\n\u001b[0;32m    <a href='file:///c%3A/Users/alion/.conda/envs/tensorflow/lib/site-packages/tensorflow/python/util/nest.py?line=865'>866</a>\u001b[0m entries \u001b[39m=\u001b[39m \u001b[39mzip\u001b[39m(\u001b[39m*\u001b[39mflat_structure)\n\u001b[0;32m    <a href='file:///c%3A/Users/alion/.conda/envs/tensorflow/lib/site-packages/tensorflow/python/util/nest.py?line=867'>868</a>\u001b[0m \u001b[39mreturn\u001b[39;00m pack_sequence_as(\n\u001b[1;32m--> <a href='file:///c%3A/Users/alion/.conda/envs/tensorflow/lib/site-packages/tensorflow/python/util/nest.py?line=868'>869</a>\u001b[0m     structure[\u001b[39m0\u001b[39m], [func(\u001b[39m*\u001b[39mx) \u001b[39mfor\u001b[39;00m x \u001b[39min\u001b[39;00m entries],\n\u001b[0;32m    <a href='file:///c%3A/Users/alion/.conda/envs/tensorflow/lib/site-packages/tensorflow/python/util/nest.py?line=869'>870</a>\u001b[0m     expand_composites\u001b[39m=\u001b[39mexpand_composites)\n",
      "File \u001b[1;32mc:\\Users\\alion\\.conda\\envs\\tensorflow\\lib\\site-packages\\tensorflow\\python\\util\\nest.py:869\u001b[0m, in \u001b[0;36m<listcomp>\u001b[1;34m(.0)\u001b[0m\n\u001b[0;32m    <a href='file:///c%3A/Users/alion/.conda/envs/tensorflow/lib/site-packages/tensorflow/python/util/nest.py?line=864'>865</a>\u001b[0m flat_structure \u001b[39m=\u001b[39m (flatten(s, expand_composites) \u001b[39mfor\u001b[39;00m s \u001b[39min\u001b[39;00m structure)\n\u001b[0;32m    <a href='file:///c%3A/Users/alion/.conda/envs/tensorflow/lib/site-packages/tensorflow/python/util/nest.py?line=865'>866</a>\u001b[0m entries \u001b[39m=\u001b[39m \u001b[39mzip\u001b[39m(\u001b[39m*\u001b[39mflat_structure)\n\u001b[0;32m    <a href='file:///c%3A/Users/alion/.conda/envs/tensorflow/lib/site-packages/tensorflow/python/util/nest.py?line=867'>868</a>\u001b[0m \u001b[39mreturn\u001b[39;00m pack_sequence_as(\n\u001b[1;32m--> <a href='file:///c%3A/Users/alion/.conda/envs/tensorflow/lib/site-packages/tensorflow/python/util/nest.py?line=868'>869</a>\u001b[0m     structure[\u001b[39m0\u001b[39m], [func(\u001b[39m*\u001b[39;49mx) \u001b[39mfor\u001b[39;00m x \u001b[39min\u001b[39;00m entries],\n\u001b[0;32m    <a href='file:///c%3A/Users/alion/.conda/envs/tensorflow/lib/site-packages/tensorflow/python/util/nest.py?line=869'>870</a>\u001b[0m     expand_composites\u001b[39m=\u001b[39mexpand_composites)\n",
      "File \u001b[1;32mc:\\Users\\alion\\.conda\\envs\\tensorflow\\lib\\site-packages\\tensorflow\\python\\keras\\utils\\tf_utils.py:525\u001b[0m, in \u001b[0;36msync_to_numpy_or_python_type.<locals>._to_single_numpy_or_python_type\u001b[1;34m(t)\u001b[0m\n\u001b[0;32m    <a href='file:///c%3A/Users/alion/.conda/envs/tensorflow/lib/site-packages/tensorflow/python/keras/utils/tf_utils.py?line=522'>523</a>\u001b[0m \u001b[39mdef\u001b[39;00m \u001b[39m_to_single_numpy_or_python_type\u001b[39m(t):\n\u001b[0;32m    <a href='file:///c%3A/Users/alion/.conda/envs/tensorflow/lib/site-packages/tensorflow/python/keras/utils/tf_utils.py?line=523'>524</a>\u001b[0m   \u001b[39mif\u001b[39;00m \u001b[39misinstance\u001b[39m(t, ops\u001b[39m.\u001b[39mTensor):\n\u001b[1;32m--> <a href='file:///c%3A/Users/alion/.conda/envs/tensorflow/lib/site-packages/tensorflow/python/keras/utils/tf_utils.py?line=524'>525</a>\u001b[0m     x \u001b[39m=\u001b[39m t\u001b[39m.\u001b[39;49mnumpy()\n\u001b[0;32m    <a href='file:///c%3A/Users/alion/.conda/envs/tensorflow/lib/site-packages/tensorflow/python/keras/utils/tf_utils.py?line=525'>526</a>\u001b[0m     \u001b[39mreturn\u001b[39;00m x\u001b[39m.\u001b[39mitem() \u001b[39mif\u001b[39;00m np\u001b[39m.\u001b[39mndim(x) \u001b[39m==\u001b[39m \u001b[39m0\u001b[39m \u001b[39melse\u001b[39;00m x\n\u001b[0;32m    <a href='file:///c%3A/Users/alion/.conda/envs/tensorflow/lib/site-packages/tensorflow/python/keras/utils/tf_utils.py?line=526'>527</a>\u001b[0m   \u001b[39mreturn\u001b[39;00m t\n",
      "File \u001b[1;32mc:\\Users\\alion\\.conda\\envs\\tensorflow\\lib\\site-packages\\tensorflow\\python\\framework\\ops.py:1094\u001b[0m, in \u001b[0;36m_EagerTensorBase.numpy\u001b[1;34m(self)\u001b[0m\n\u001b[0;32m   <a href='file:///c%3A/Users/alion/.conda/envs/tensorflow/lib/site-packages/tensorflow/python/framework/ops.py?line=1070'>1071</a>\u001b[0m \u001b[39m\"\"\"Copy of the contents of this Tensor into a NumPy array or scalar.\u001b[39;00m\n\u001b[0;32m   <a href='file:///c%3A/Users/alion/.conda/envs/tensorflow/lib/site-packages/tensorflow/python/framework/ops.py?line=1071'>1072</a>\u001b[0m \n\u001b[0;32m   <a href='file:///c%3A/Users/alion/.conda/envs/tensorflow/lib/site-packages/tensorflow/python/framework/ops.py?line=1072'>1073</a>\u001b[0m \u001b[39mUnlike NumPy arrays, Tensors are immutable, so this method has to copy\u001b[39;00m\n\u001b[1;32m   (...)\u001b[0m\n\u001b[0;32m   <a href='file:///c%3A/Users/alion/.conda/envs/tensorflow/lib/site-packages/tensorflow/python/framework/ops.py?line=1090'>1091</a>\u001b[0m \u001b[39m    NumPy dtype.\u001b[39;00m\n\u001b[0;32m   <a href='file:///c%3A/Users/alion/.conda/envs/tensorflow/lib/site-packages/tensorflow/python/framework/ops.py?line=1091'>1092</a>\u001b[0m \u001b[39m\"\"\"\u001b[39;00m\n\u001b[0;32m   <a href='file:///c%3A/Users/alion/.conda/envs/tensorflow/lib/site-packages/tensorflow/python/framework/ops.py?line=1092'>1093</a>\u001b[0m \u001b[39m# TODO(slebedev): Consider avoiding a copy for non-CPU or remote tensors.\u001b[39;00m\n\u001b[1;32m-> <a href='file:///c%3A/Users/alion/.conda/envs/tensorflow/lib/site-packages/tensorflow/python/framework/ops.py?line=1093'>1094</a>\u001b[0m maybe_arr \u001b[39m=\u001b[39m \u001b[39mself\u001b[39;49m\u001b[39m.\u001b[39;49m_numpy()  \u001b[39m# pylint: disable=protected-access\u001b[39;00m\n\u001b[0;32m   <a href='file:///c%3A/Users/alion/.conda/envs/tensorflow/lib/site-packages/tensorflow/python/framework/ops.py?line=1094'>1095</a>\u001b[0m \u001b[39mreturn\u001b[39;00m maybe_arr\u001b[39m.\u001b[39mcopy() \u001b[39mif\u001b[39;00m \u001b[39misinstance\u001b[39m(maybe_arr, np\u001b[39m.\u001b[39mndarray) \u001b[39melse\u001b[39;00m maybe_arr\n",
      "File \u001b[1;32mc:\\Users\\alion\\.conda\\envs\\tensorflow\\lib\\site-packages\\tensorflow\\python\\framework\\ops.py:1060\u001b[0m, in \u001b[0;36m_EagerTensorBase._numpy\u001b[1;34m(self)\u001b[0m\n\u001b[0;32m   <a href='file:///c%3A/Users/alion/.conda/envs/tensorflow/lib/site-packages/tensorflow/python/framework/ops.py?line=1057'>1058</a>\u001b[0m \u001b[39mdef\u001b[39;00m \u001b[39m_numpy\u001b[39m(\u001b[39mself\u001b[39m):\n\u001b[0;32m   <a href='file:///c%3A/Users/alion/.conda/envs/tensorflow/lib/site-packages/tensorflow/python/framework/ops.py?line=1058'>1059</a>\u001b[0m   \u001b[39mtry\u001b[39;00m:\n\u001b[1;32m-> <a href='file:///c%3A/Users/alion/.conda/envs/tensorflow/lib/site-packages/tensorflow/python/framework/ops.py?line=1059'>1060</a>\u001b[0m     \u001b[39mreturn\u001b[39;00m \u001b[39mself\u001b[39;49m\u001b[39m.\u001b[39;49m_numpy_internal()\n\u001b[0;32m   <a href='file:///c%3A/Users/alion/.conda/envs/tensorflow/lib/site-packages/tensorflow/python/framework/ops.py?line=1060'>1061</a>\u001b[0m   \u001b[39mexcept\u001b[39;00m core\u001b[39m.\u001b[39m_NotOkStatusException \u001b[39mas\u001b[39;00m e:  \u001b[39m# pylint: disable=protected-access\u001b[39;00m\n\u001b[0;32m   <a href='file:///c%3A/Users/alion/.conda/envs/tensorflow/lib/site-packages/tensorflow/python/framework/ops.py?line=1061'>1062</a>\u001b[0m     six\u001b[39m.\u001b[39mraise_from(core\u001b[39m.\u001b[39m_status_to_exception(e\u001b[39m.\u001b[39mcode, e\u001b[39m.\u001b[39mmessage), \u001b[39mNone\u001b[39;00m)\n",
      "\u001b[1;31mKeyboardInterrupt\u001b[0m: "
     ]
    }
   ],
   "source": [
    "epoch = 30\n",
    "\n",
    "model.compile(\n",
    "    loss=\"categorical_crossentropy\", \n",
    "    optimizer=\"sgd\", \n",
    "    metrics=[\"accuracy\"]\n",
    ")\n",
    "history = model.fit(\n",
    "    x_train, \n",
    "    y_train, \n",
    "    epochs=epoch, \n",
    "    validation_data=(x_valid, y_valid)\n",
    ")"
   ]
  },
  {
   "cell_type": "code",
   "execution_count": 49,
   "id": "e340b2fd",
   "metadata": {},
   "outputs": [
    {
     "data": {
      "image/png": "[encoded data removed]",
      "text/plain": [
       "<Figure size 576x360 with 1 Axes>"
      ]
     },
     "metadata": {
      "needs_background": "light"
     },
     "output_type": "display_data"
    },
    {
     "name": "stdout",
     "output_type": "stream",
     "text": [
      "32/32 [==============================] - 1s 17ms/step - loss: 0.9255 - accuracy: 0.7150\n",
      "Predict probabilities: [[0.67 0.   0.16 0.01 0.   0.   0.01 0.   0.14 0.  ]\n",
      " [0.   0.   0.04 0.06 0.01 0.02 0.52 0.26 0.02 0.07]\n",
      " [0.   0.05 0.   0.   0.   0.   0.   0.   0.   0.93]]\n",
      "Predict answers: [0 6 9]\n"
     ]
    }
   ],
   "source": [
    "import pandas as pd\n",
    "\n",
    "pd.DataFrame(history.history).plot(figsize=(8, 5))\n",
    "plt.grid(True)\n",
    "plt.gca().set_ylim(0, 2)\n",
    "plt.show()\n",
    "\n",
    "model.evaluate(x_valid, y_valid)\n",
    "\n",
    "x_new = x_valid[:3]\n",
    "y_predict = model.predict(x_new)\n",
    "print(\"Predict probabilities:\", y_predict.round(2))\n",
    "print(\"Predict answers:\", y_predict.argmax(axis=1))"
   ]
  },
  {
   "cell_type": "markdown",
   "id": "5fc5dedd",
   "metadata": {},
   "source": [
    "### Saving the trained weights"
   ]
  },
  {
   "cell_type": "code",
   "execution_count": 112,
   "id": "073526c9",
   "metadata": {},
   "outputs": [],
   "source": [
    "model.save(\"my_model73.hdf5\")"
   ]
  },
  {
   "cell_type": "code",
   "execution_count": 113,
   "id": "6411dfa2",
   "metadata": {},
   "outputs": [],
   "source": [
    "from tensorflow.keras.models import load_model\n",
    "model2 = load_model(\"my_model73.hdf5\")"
   ]
  },
  {
   "cell_type": "code",
   "execution_count": 114,
   "id": "ef54cef5",
   "metadata": {},
   "outputs": [
    {
     "name": "stdout",
     "output_type": "stream",
     "text": [
      "Model: \"sequential_4\"\n",
      "_________________________________________________________________\n",
      "Layer (type)                 Output Shape              Param #   \n",
      "=================================================================\n",
      "conv2d_24 (Conv2D)           (None, 32, 32, 64)        1792      \n",
      "_________________________________________________________________\n",
      "conv2d_25 (Conv2D)           (None, 32, 32, 64)        36928     \n",
      "_________________________________________________________________\n",
      "max_pooling2d_12 (MaxPooling (None, 16, 16, 64)        0         \n",
      "_________________________________________________________________\n",
      "conv2d_26 (Conv2D)           (None, 16, 16, 128)       73856     \n",
      "_________________________________________________________________\n",
      "conv2d_27 (Conv2D)           (None, 16, 16, 128)       147584    \n",
      "_________________________________________________________________\n",
      "max_pooling2d_13 (MaxPooling (None, 8, 8, 128)         0         \n",
      "_________________________________________________________________\n",
      "dropout (Dropout)            (None, 8, 8, 128)         0         \n",
      "_________________________________________________________________\n",
      "conv2d_28 (Conv2D)           (None, 8, 8, 256)         295168    \n",
      "_________________________________________________________________\n",
      "conv2d_29 (Conv2D)           (None, 8, 8, 256)         590080    \n",
      "_________________________________________________________________\n",
      "dropout_1 (Dropout)          (None, 8, 8, 256)         0         \n",
      "_________________________________________________________________\n",
      "flatten_4 (Flatten)          (None, 16384)             0         \n",
      "_________________________________________________________________\n",
      "dense_8 (Dense)              (None, 128)               2097280   \n",
      "_________________________________________________________________\n",
      "dense_9 (Dense)              (None, 10)                1290      \n",
      "=================================================================\n",
      "Total params: 3,243,978\n",
      "Trainable params: 3,243,978\n",
      "Non-trainable params: 0\n",
      "_________________________________________________________________\n"
     ]
    }
   ],
   "source": [
    "model2.summary()"
   ]
  },
  {
   "cell_type": "code",
   "execution_count": 115,
   "id": "8438b272",
   "metadata": {},
   "outputs": [],
   "source": [
    "y_hat = model2.predict(x_valid)"
   ]
  },
  {
   "cell_type": "code",
   "execution_count": 116,
   "id": "38e211c4",
   "metadata": {},
   "outputs": [
    {
     "data": {
      "text/plain": [
       "array([0., 6., 9., 9., 1., 5., 4., 8., 0., 5., 2., 2., 9., 0., 1., 6., 0.,\n",
       "       3., 3., 4., 0., 4., 0., 8., 9., 2., 6., 5., 4., 2., 8., 7., 3., 4.,\n",
       "       7., 0., 7., 1., 9., 6., 7., 0., 9., 3., 1., 6., 1., 4., 2., 6., 7.,\n",
       "       7., 0., 3., 3., 8., 1., 9., 4., 5., 3., 1., 5., 6., 8., 0., 7., 0.,\n",
       "       1., 4., 0., 7., 1., 7., 1., 2., 2., 0., 7., 6., 5., 0., 7., 0., 4.,\n",
       "       1., 7., 2., 3., 7., 6., 4., 8., 1., 0., 5., 5., 8., 5., 6., 1., 2.,\n",
       "       9., 8., 1., 4., 7., 3., 8., 0., 0., 8., 6., 5., 4., 5., 8., 7., 5.,\n",
       "       5., 4., 8., 2., 8., 6., 7., 0., 4., 9., 2., 1., 9., 6., 1., 9., 6.,\n",
       "       0., 3., 2., 6., 8., 0., 5., 8., 4., 3., 8., 7., 6., 6., 0., 6., 8.,\n",
       "       8., 0., 1., 9., 4., 0., 8., 7., 9., 7., 1., 3., 6., 9., 7., 4., 5.,\n",
       "       4., 7., 8., 1., 4., 5., 7., 5., 3., 3., 0., 0., 2., 0., 6., 0., 6.,\n",
       "       0., 9., 5., 8., 8., 5., 0., 0., 5., 9., 3., 8., 1., 1., 4., 6., 0.,\n",
       "       6., 1., 8., 4., 7., 0., 7., 3., 5., 7., 1., 8., 0., 8., 4., 0., 7.,\n",
       "       6., 5., 6., 9., 2., 7., 0., 7., 2., 7., 4., 0., 3., 9., 0., 5., 0.,\n",
       "       1., 1., 5., 7., 8., 2., 9., 6., 7., 3., 8., 6., 0., 0., 8., 7., 6.,\n",
       "       7., 7., 5., 9., 5., 7., 2., 3., 3., 9., 0., 0., 0., 8., 1., 5., 5.,\n",
       "       2., 7., 7., 4., 1., 0., 8., 5., 0., 8., 8., 6., 4., 5., 1., 1., 8.,\n",
       "       4., 6., 5., 5., 1., 3., 0., 9., 0., 7., 0., 9., 7., 9., 7., 7., 0.,\n",
       "       6., 0., 9., 1., 7., 7., 2., 1., 8., 5., 0., 7., 2., 3., 6., 5., 7.,\n",
       "       6., 0., 3., 8., 7., 7., 2., 5., 2., 6., 9., 7., 9., 7., 2., 3., 8.,\n",
       "       6., 9., 5., 6., 2., 4., 7., 5., 3., 9., 1., 6., 2., 0., 9., 6., 5.,\n",
       "       7., 8., 3., 5., 3., 3., 1., 2., 9., 8., 9., 4., 7., 4., 3., 7., 4.,\n",
       "       1., 9., 6., 4., 4., 4., 0., 9., 3., 9., 7., 6., 5., 8., 2., 5., 0.,\n",
       "       8., 5., 0., 6., 2., 0., 1., 1., 7., 4., 5., 3., 4., 1., 2., 6., 0.,\n",
       "       5., 7., 2., 8., 7., 1., 1., 9., 5., 6., 8., 2., 5., 0., 9., 5., 1.,\n",
       "       2., 4., 5., 6., 0., 4., 0., 9., 6., 8., 4., 5., 6., 2., 2., 7., 8.,\n",
       "       4., 8., 8., 9., 0., 8., 4., 9., 4., 6., 6., 1., 0., 9., 1., 8., 6.,\n",
       "       7., 6., 0., 9., 0., 1., 0., 6., 4., 4., 6., 0., 2., 3., 3., 7., 3.,\n",
       "       9., 3., 4., 0., 9., 5., 0., 1., 8., 0., 2., 8., 1., 9., 3., 8., 9.,\n",
       "       2., 6., 3., 8., 7., 4., 3., 7., 8., 9., 6., 3., 2., 1., 0., 8., 9.,\n",
       "       6., 4., 4., 7., 5., 0., 2., 6., 5., 5., 7., 5., 8., 5., 8., 8., 5.,\n",
       "       3., 9., 2., 5., 5., 2., 6., 9., 7., 1., 4., 9., 5., 6., 1., 1., 4.,\n",
       "       0., 5., 0., 4., 7., 3., 7., 4., 2., 0., 8., 7., 1., 1., 9., 5., 4.,\n",
       "       0., 6., 6., 9., 0., 7., 6., 5., 9., 2., 3., 4., 4., 5., 3., 1., 0.,\n",
       "       0., 4., 2., 9., 0., 5., 0., 9., 5., 0., 7., 5., 7., 0., 5., 3., 8.,\n",
       "       2., 6., 5., 5., 5., 4., 4., 8., 6., 1., 0., 7., 7., 9., 4., 7., 0.,\n",
       "       8., 3., 5., 6., 5., 4., 9., 4., 0., 5., 9., 5., 1., 8., 6., 8., 8.,\n",
       "       7., 4., 4., 6., 5., 8., 0., 7., 4., 2., 1., 5., 2., 7., 3., 1., 0.,\n",
       "       6., 5., 3., 1., 5., 8., 1., 9., 0., 1., 6., 0., 0., 9., 8., 0., 8.,\n",
       "       4., 6., 3., 2., 9., 8., 9., 6., 8., 5., 1., 9., 8., 6., 9., 3., 2.,\n",
       "       5., 6., 0., 2., 7., 5., 5., 8., 4., 6., 8., 6., 1., 3., 0., 4., 4.,\n",
       "       5., 4., 6., 3., 0., 3., 9., 5., 2., 7., 4., 9., 3., 2., 0., 6., 6.,\n",
       "       1., 1., 0., 0., 0., 7., 7., 3., 2., 5., 8., 9., 0., 2., 5., 7., 0.,\n",
       "       1., 4., 9., 9., 7., 5., 5., 3., 9., 4., 4., 6., 6., 5., 7., 6., 3.,\n",
       "       5., 8., 7., 5., 5., 4., 1., 5., 2., 2., 5., 3., 6., 7., 1., 9., 4.,\n",
       "       3., 8., 1., 2., 9., 8., 4., 4., 2., 9., 2., 1., 6., 9., 6., 2., 8.,\n",
       "       7., 8., 6., 4., 7., 9., 5., 1., 4., 6., 5., 3., 7., 7., 6., 3., 2.,\n",
       "       3., 9., 3., 1., 1., 9., 5., 9., 6., 0., 9., 3., 0., 4., 9., 1., 3.,\n",
       "       8., 4., 8., 2., 5., 8., 5., 8., 6., 7., 8., 5., 8., 2., 9., 1., 4.,\n",
       "       3., 1., 1., 4., 7., 5., 5., 5., 8., 5., 3., 3., 5., 8., 9., 2., 5.,\n",
       "       4., 0., 6., 0., 3., 1., 6., 3., 7., 5., 9., 0., 5., 1., 0., 4., 0.,\n",
       "       8., 0., 6., 0., 7., 2., 6., 0., 1., 6., 4., 0., 5., 8., 9., 9., 1.,\n",
       "       3., 5., 6., 9., 9., 6., 2., 9., 0., 3., 0., 4., 1., 9., 8., 8., 4.,\n",
       "       3., 5., 7., 4., 2., 7., 9., 1., 1., 9., 9., 9., 0., 5., 8., 3., 6.,\n",
       "       2., 6., 0., 2., 2., 2., 7., 3., 8., 8., 3., 6., 2., 5., 0., 9., 7.,\n",
       "       3., 2., 3., 1., 1., 0., 8., 4., 2., 5., 0., 7., 1., 8., 5., 9., 0.,\n",
       "       9., 2., 1., 3., 0., 4., 6., 9., 0., 3., 3., 2., 1., 9., 3., 1., 7.,\n",
       "       9., 7., 8., 0., 2., 9., 3., 1., 7., 7., 2., 6., 6., 0., 5., 4., 0.,\n",
       "       5., 8., 9., 1., 1., 8., 5., 7., 2., 8., 4., 1., 2., 6.])"
      ]
     },
     "execution_count": 116,
     "metadata": {},
     "output_type": "execute_result"
    }
   ],
   "source": [
    "# 將output改為標籤\n",
    "output_y = np.zeros(y_hat.shape[0])\n",
    "\n",
    "for i in range(y_hat.shape[0]):\n",
    "    for j in range(y_hat.shape[1]):\n",
    "        if y_hat[i, j] >= max(y_hat[i, ]):\n",
    "            output_y[i] = j\n",
    "\n",
    "output_y"
   ]
  },
  {
   "cell_type": "code",
   "execution_count": 117,
   "id": "0ccc3cb7",
   "metadata": {},
   "outputs": [
    {
     "data": {
      "text/plain": [
       "array([0., 7., 9., 9., 1., 5., 2., 4., 0., 5., 8., 2., 9., 0., 1., 6., 0.,\n",
       "       5., 3., 4., 0., 3., 0., 8., 9., 2., 6., 8., 7., 0., 8., 7., 8., 3.,\n",
       "       4., 2., 7., 7., 7., 6., 7., 5., 9., 3., 1., 4., 1., 8., 0., 6., 7.,\n",
       "       7., 0., 3., 3., 8., 1., 9., 4., 5., 4., 1., 5., 6., 8., 0., 4., 5.,\n",
       "       9., 4., 0., 7., 1., 7., 1., 2., 2., 0., 7., 6., 5., 0., 7., 0., 2.,\n",
       "       1., 2., 2., 3., 7., 6., 1., 8., 1., 0., 5., 5., 8., 5., 2., 1., 2.,\n",
       "       9., 8., 1., 7., 7., 3., 8., 3., 0., 8., 7., 2., 2., 5., 8., 7., 8.,\n",
       "       5., 4., 8., 2., 8., 9., 7., 0., 4., 9., 2., 1., 9., 6., 1., 1., 7.,\n",
       "       3., 8., 4., 6., 4., 0., 6., 8., 4., 3., 8., 7., 7., 6., 0., 7., 8.,\n",
       "       8., 0., 1., 9., 4., 0., 8., 1., 9., 7., 1., 3., 6., 9., 9., 8., 2.,\n",
       "       4., 8., 8., 1., 4., 5., 7., 5., 8., 3., 2., 0., 2., 0., 6., 0., 6.,\n",
       "       0., 9., 5., 8., 9., 0., 2., 0., 5., 9., 3., 8., 1., 1., 7., 6., 0.,\n",
       "       4., 1., 8., 4., 7., 3., 7., 5., 5., 7., 1., 8., 0., 7., 4., 0., 9.,\n",
       "       6., 4., 6., 1., 2., 6., 0., 7., 2., 7., 0., 6., 3., 9., 0., 5., 0.,\n",
       "       1., 1., 8., 7., 8., 2., 9., 6., 7., 3., 8., 2., 0., 0., 4., 7., 6.,\n",
       "       7., 7., 5., 9., 5., 7., 8., 3., 3., 9., 3., 0., 3., 8., 1., 5., 5.,\n",
       "       8., 5., 7., 4., 1., 0., 8., 2., 0., 8., 8., 6., 4., 5., 1., 1., 8.,\n",
       "       4., 6., 5., 6., 1., 2., 0., 9., 2., 7., 2., 9., 7., 1., 7., 7., 0.,\n",
       "       5., 5., 9., 1., 7., 7., 2., 1., 9., 3., 0., 7., 5., 2., 6., 5., 7.,\n",
       "       6., 0., 0., 8., 7., 7., 2., 1., 2., 6., 9., 7., 9., 5., 2., 3., 8.,\n",
       "       6., 9., 7., 9., 5., 2., 7., 5., 3., 9., 9., 7., 3., 0., 9., 6., 5.,\n",
       "       7., 8., 2., 3., 2., 3., 1., 3., 9., 8., 9., 2., 9., 9., 3., 7., 4.,\n",
       "       1., 9., 6., 4., 4., 6., 0., 9., 3., 9., 9., 6., 5., 8., 2., 5., 0.,\n",
       "       8., 3., 6., 6., 2., 0., 1., 1., 4., 8., 5., 3., 4., 1., 2., 6., 5.,\n",
       "       5., 7., 2., 8., 4., 1., 1., 9., 1., 6., 8., 3., 5., 0., 9., 5., 4.,\n",
       "       2., 4., 5., 6., 2., 4., 0., 9., 6., 4., 4., 5., 6., 2., 2., 7., 8.,\n",
       "       4., 8., 8., 9., 3., 8., 4., 1., 4., 4., 6., 7., 0., 9., 1., 7., 6.,\n",
       "       7., 6., 0., 9., 0., 1., 0., 6., 5., 4., 6., 0., 2., 3., 2., 7., 3.,\n",
       "       9., 2., 4., 0., 9., 5., 0., 1., 8., 2., 2., 5., 1., 5., 5., 8., 9.,\n",
       "       2., 6., 3., 8., 7., 4., 6., 7., 8., 9., 6., 3., 2., 1., 0., 8., 1.,\n",
       "       9., 4., 4., 7., 5., 0., 2., 9., 8., 5., 6., 5., 8., 5., 8., 8., 5.,\n",
       "       3., 1., 2., 7., 1., 2., 6., 9., 7., 1., 4., 9., 5., 6., 1., 1., 4.,\n",
       "       5., 5., 2., 0., 7., 5., 7., 4., 2., 0., 8., 6., 9., 1., 9., 5., 4.,\n",
       "       2., 6., 5., 9., 0., 7., 6., 5., 9., 2., 3., 7., 4., 5., 3., 1., 6.,\n",
       "       0., 9., 2., 9., 2., 5., 2., 1., 5., 0., 8., 5., 7., 0., 5., 3., 3.,\n",
       "       7., 6., 6., 5., 5., 4., 4., 6., 6., 1., 0., 1., 7., 7., 4., 1., 3.,\n",
       "       8., 4., 0., 2., 3., 4., 7., 0., 0., 5., 9., 3., 1., 8., 7., 8., 8.,\n",
       "       8., 4., 4., 6., 5., 8., 3., 7., 3., 3., 1., 8., 2., 1., 3., 1., 0.,\n",
       "       6., 5., 3., 1., 5., 8., 1., 9., 0., 1., 4., 0., 0., 9., 8., 5., 8.,\n",
       "       4., 6., 3., 6., 4., 8., 9., 6., 8., 3., 1., 9., 0., 3., 5., 3., 2.,\n",
       "       5., 6., 3., 2., 7., 5., 5., 8., 2., 3., 8., 6., 9., 3., 0., 4., 5.,\n",
       "       5., 3., 7., 3., 5., 3., 9., 5., 7., 7., 7., 9., 3., 2., 0., 5., 0.,\n",
       "       1., 1., 2., 7., 0., 7., 7., 2., 2., 6., 8., 9., 0., 5., 5., 7., 0.,\n",
       "       1., 4., 9., 9., 7., 5., 5., 3., 9., 2., 4., 5., 6., 5., 7., 6., 3.,\n",
       "       5., 8., 7., 5., 5., 4., 1., 5., 2., 2., 5., 2., 6., 7., 1., 9., 4.,\n",
       "       3., 8., 1., 3., 9., 8., 4., 4., 2., 6., 3., 1., 6., 9., 6., 2., 8.,\n",
       "       7., 8., 6., 2., 7., 1., 5., 1., 5., 6., 9., 3., 1., 9., 6., 3., 2.,\n",
       "       3., 9., 2., 1., 1., 9., 5., 9., 6., 2., 1., 5., 3., 4., 9., 1., 2.,\n",
       "       8., 4., 8., 5., 5., 8., 5., 8., 6., 7., 8., 5., 8., 0., 9., 1., 4.,\n",
       "       3., 1., 1., 4., 7., 3., 5., 5., 8., 5., 3., 7., 3., 8., 9., 2., 5.,\n",
       "       8., 3., 9., 0., 2., 1., 6., 3., 7., 5., 5., 0., 9., 1., 0., 4., 2.,\n",
       "       8., 0., 6., 3., 6., 2., 2., 0., 1., 6., 4., 0., 8., 7., 9., 9., 5.,\n",
       "       0., 1., 6., 9., 1., 6., 2., 9., 0., 3., 0., 4., 1., 9., 8., 8., 4.,\n",
       "       3., 5., 7., 4., 4., 8., 4., 5., 1., 9., 9., 9., 0., 2., 8., 5., 7.,\n",
       "       2., 6., 0., 2., 2., 2., 7., 3., 8., 8., 3., 6., 2., 5., 0., 9., 7.,\n",
       "       3., 2., 3., 1., 1., 0., 9., 4., 2., 1., 0., 7., 1., 5., 4., 4., 0.,\n",
       "       9., 2., 1., 3., 2., 7., 6., 9., 0., 5., 3., 7., 1., 3., 3., 1., 1.,\n",
       "       9., 7., 8., 2., 2., 1., 3., 1., 0., 5., 4., 6., 6., 0., 3., 2., 3.,\n",
       "       3., 5., 9., 7., 1., 8., 5., 7., 2., 8., 4., 1., 2., 6.])"
      ]
     },
     "execution_count": 117,
     "metadata": {},
     "output_type": "execute_result"
    }
   ],
   "source": [
    "output_yv = np.zeros(y_valid.shape[0])\n",
    "\n",
    "for i in range(y_valid.shape[0]):\n",
    "    for j in range(y_valid.shape[1]):\n",
    "        if y_valid[i, j] >= max(y_valid[i, ]):\n",
    "            output_yv[i] = j\n",
    "\n",
    "output_yv"
   ]
  },
  {
   "cell_type": "code",
   "execution_count": 118,
   "id": "5f1f4fe3",
   "metadata": {},
   "outputs": [
    {
     "data": {
      "text/plain": [
       "0.735"
      ]
     },
     "execution_count": 118,
     "metadata": {},
     "output_type": "execute_result"
    }
   ],
   "source": [
    "sum(output_y == output_yv) / len(output_y)"
   ]
  },
  {
   "cell_type": "code",
   "execution_count": 119,
   "id": "717ec66e",
   "metadata": {},
   "outputs": [
    {
     "name": "stdout",
     "output_type": "stream",
     "text": [
      "found 1000 files.\n"
     ]
    }
   ],
   "source": [
    "# 結果寫入檔案開始\n",
    "\n",
    "file_name = []\n",
    "total_size = 0\n",
    "data_path = r\"D:\\CIFAR10_Test Image\\Testing_data\"\n",
    "\n",
    "for root, dirts, files in os.walk(data_path):\n",
    "    for file in files:\n",
    "        file_name.append(file)\n",
    "        \n",
    "    total_size += len(files)\n",
    "\n",
    "print('found {} files.'.format(total_size))\n"
   ]
  },
  {
   "cell_type": "code",
   "execution_count": 120,
   "id": "931c4d91",
   "metadata": {},
   "outputs": [
    {
     "name": "stdout",
     "output_type": "stream",
     "text": [
      "(1000, 32, 32, 3)\n"
     ]
    }
   ],
   "source": [
    "base_x_test = []\n",
    "\n",
    "for i in range(len(file_name)):\n",
    "    label_path = data_path + '\\\\' + file_name[i]\n",
    "\n",
    "    img = cv2.imread(label_path, cv2.IMREAD_COLOR)\n",
    "    base_x_test.append(img)\n",
    "\n",
    "print(np.array(base_x_test).shape)"
   ]
  },
  {
   "cell_type": "code",
   "execution_count": 122,
   "id": "42e6d0bc",
   "metadata": {},
   "outputs": [],
   "source": [
    "for s in range(np.array(base_x_test).shape[0]):\n",
    "    gray = cv2.cvtColor(np.array(base_x_test)[s], cv2.COLOR_BGR2GRAY)\n",
    "    blurred = cv2.GaussianBlur(gray, (3, 3), 0)\n",
    "    canny = cv2.Canny(blurred, 30, 200)\n",
    "    for i in range(3):\n",
    "        np.array(base_x_test)[s][:,:,i][canny>0] = np.array(base_x_test)[s][:,:,i][canny>0]*0.4"
   ]
  },
  {
   "cell_type": "code",
   "execution_count": 123,
   "id": "d63c5a6a",
   "metadata": {},
   "outputs": [],
   "source": [
    "y_final = model2.predict(np.array(base_x_test))"
   ]
  },
  {
   "cell_type": "code",
   "execution_count": 124,
   "id": "5961487a",
   "metadata": {},
   "outputs": [
    {
     "data": {
      "text/plain": [
       "array([2., 9., 8., 1., 4., 4., 3., 9., 3., 7., 4., 2., 1., 1., 0., 1., 8.,\n",
       "       8., 5., 3., 8., 5., 1., 6., 1., 4., 0., 0., 7., 0., 4., 4., 9., 4.,\n",
       "       9., 8., 8., 6., 0., 4., 2., 5., 7., 4., 7., 8., 3., 0., 7., 7., 8.,\n",
       "       7., 3., 2., 9., 4., 6., 1., 9., 0., 9., 4., 2., 6., 7., 4., 8., 3.,\n",
       "       9., 7., 5., 5., 6., 9., 7., 7., 1., 8., 2., 1., 1., 1., 3., 7., 3.,\n",
       "       3., 8., 9., 8., 6., 5., 8., 1., 1., 4., 8., 1., 5., 5., 4., 0., 8.,\n",
       "       6., 9., 5., 0., 9., 4., 2., 1., 4., 8., 0., 2., 2., 0., 3., 4., 7.,\n",
       "       8., 6., 2., 2., 4., 0., 0., 0., 8., 8., 3., 6., 0., 8., 9., 7., 3.,\n",
       "       0., 1., 4., 8., 8., 8., 1., 6., 4., 8., 9., 1., 3., 0., 4., 0., 5.,\n",
       "       1., 3., 7., 1., 2., 4., 2., 1., 6., 9., 8., 5., 5., 4., 7., 1., 7.,\n",
       "       7., 1., 8., 0., 1., 9., 6., 1., 5., 7., 8., 7., 2., 0., 3., 8., 8.,\n",
       "       0., 0., 2., 4., 6., 7., 1., 4., 4., 0., 7., 2., 3., 9., 6., 1., 2.,\n",
       "       3., 2., 0., 5., 7., 0., 2., 9., 4., 9., 4., 2., 5., 7., 9., 8., 1.,\n",
       "       3., 8., 5., 4., 1., 6., 0., 1., 7., 3., 9., 7., 9., 4., 0., 9., 7.,\n",
       "       0., 9., 9., 9., 2., 6., 0., 8., 0., 1., 3., 6., 1., 8., 4., 7., 7.,\n",
       "       4., 1., 1., 3., 3., 7., 2., 8., 2., 8., 6., 3., 2., 6., 4., 5., 9.,\n",
       "       2., 0., 4., 0., 7., 1., 0., 4., 0., 5., 4., 8., 7., 4., 0., 0., 1.,\n",
       "       0., 2., 3., 0., 2., 1., 7., 7., 0., 2., 4., 0., 4., 3., 1., 7., 7.,\n",
       "       4., 0., 6., 4., 0., 5., 7., 6., 9., 2., 5., 9., 7., 8., 9., 1., 2.,\n",
       "       0., 3., 6., 6., 0., 8., 0., 6., 6., 0., 0., 2., 6., 7., 3., 5., 7.,\n",
       "       6., 9., 9., 1., 1., 8., 7., 0., 6., 4., 0., 0., 1., 7., 0., 0., 9.,\n",
       "       7., 8., 4., 6., 9., 7., 7., 4., 9., 1., 0., 1., 1., 6., 3., 8., 1.,\n",
       "       9., 7., 1., 0., 8., 3., 8., 5., 7., 1., 6., 5., 0., 3., 3., 5., 2.,\n",
       "       0., 4., 4., 0., 1., 5., 6., 8., 0., 1., 0., 7., 7., 9., 1., 4., 2.,\n",
       "       9., 6., 3., 5., 9., 9., 4., 5., 1., 6., 9., 0., 6., 1., 9., 3., 1.,\n",
       "       2., 9., 8., 2., 6., 9., 0., 9., 1., 0., 0., 8., 9., 3., 5., 1., 9.,\n",
       "       2., 6., 9., 8., 1., 7., 7., 5., 4., 1., 0., 6., 4., 4., 4., 3., 8.,\n",
       "       9., 5., 7., 5., 1., 2., 9., 8., 2., 1., 2., 1., 4., 2., 4., 5., 8.,\n",
       "       0., 4., 5., 4., 8., 7., 1., 3., 8., 7., 4., 0., 6., 8., 3., 8., 6.,\n",
       "       8., 2., 5., 6., 9., 2., 1., 0., 6., 0., 0., 0., 6., 5., 2., 9., 1.,\n",
       "       9., 3., 5., 8., 1., 9., 0., 6., 9., 0., 6., 8., 7., 1., 3., 1., 8.,\n",
       "       1., 9., 4., 5., 9., 0., 1., 0., 3., 2., 6., 3., 7., 4., 3., 2., 3.,\n",
       "       3., 5., 4., 1., 8., 8., 2., 3., 1., 0., 8., 9., 9., 9., 6., 9., 8.,\n",
       "       2., 2., 4., 3., 8., 0., 4., 2., 3., 0., 7., 0., 4., 3., 2., 4., 9.,\n",
       "       6., 4., 1., 9., 4., 4., 5., 8., 6., 9., 0., 9., 9., 3., 7., 0., 8.,\n",
       "       0., 7., 6., 5., 5., 4., 1., 2., 4., 5., 0., 8., 3., 7., 0., 4., 9.,\n",
       "       0., 9., 6., 0., 7., 5., 6., 4., 2., 9., 4., 6., 6., 4., 8., 1., 1.,\n",
       "       0., 1., 7., 4., 4., 6., 0., 0., 7., 9., 6., 8., 8., 1., 2., 1., 6.,\n",
       "       0., 0., 6., 9., 7., 0., 3., 6., 1., 8., 9., 1., 1., 0., 4., 5., 0.,\n",
       "       9., 9., 3., 5., 1., 4., 6., 2., 2., 4., 6., 0., 9., 8., 5., 1., 3.,\n",
       "       8., 9., 3., 0., 6., 0., 8., 5., 8., 2., 8., 8., 8., 9., 7., 3., 4.,\n",
       "       7., 9., 7., 4., 9., 9., 8., 5., 7., 6., 5., 6., 6., 9., 4., 3., 6.,\n",
       "       9., 4., 8., 0., 9., 0., 1., 8., 0., 8., 7., 3., 5., 1., 6., 2., 0.,\n",
       "       5., 4., 0., 1., 0., 7., 3., 3., 0., 8., 4., 4., 7., 4., 1., 9., 2.,\n",
       "       0., 4., 2., 8., 8., 0., 5., 3., 7., 8., 2., 8., 9., 0., 5., 5., 1.,\n",
       "       4., 2., 4., 3., 0., 4., 8., 5., 8., 8., 5., 9., 2., 6., 6., 9., 7.,\n",
       "       6., 0., 3., 4., 5., 7., 0., 5., 6., 3., 8., 6., 8., 1., 0., 3., 7.,\n",
       "       8., 5., 4., 0., 9., 0., 6., 0., 3., 0., 6., 1., 8., 7., 2., 1., 4.,\n",
       "       1., 5., 0., 3., 6., 5., 4., 7., 7., 9., 5., 5., 7., 3., 6., 7., 6.,\n",
       "       0., 0., 0., 9., 0., 8., 0., 4., 3., 3., 7., 5., 0., 4., 0., 8., 6.,\n",
       "       3., 7., 7., 6., 6., 4., 2., 1., 3., 9., 7., 2., 7., 1., 8., 0., 2.,\n",
       "       3., 9., 8., 6., 6., 0., 9., 3., 4., 1., 9., 2., 0., 6., 3., 6., 3.,\n",
       "       1., 3., 6., 4., 3., 4., 0., 8., 3., 0., 4., 1., 6., 8., 1., 6., 4.,\n",
       "       5., 0., 0., 3., 1., 8., 7., 9., 8., 9., 8., 1., 1., 5., 1., 8., 8.,\n",
       "       2., 2., 1., 4., 4., 4., 2., 7., 3., 1., 7., 0., 8., 2., 3., 8., 6.,\n",
       "       0., 2., 7., 0., 3., 2., 3., 2., 0., 9., 0., 1., 6., 2., 7., 1., 6.,\n",
       "       9., 1., 1., 1., 0., 3., 1., 3., 8., 7., 2., 1., 5., 6., 5., 2., 0.,\n",
       "       4., 3., 6., 2., 0., 4., 3., 1., 1., 9., 5., 9., 7., 3., 2., 0., 2.,\n",
       "       1., 1., 2., 0., 4., 6., 5., 9., 4., 4., 0., 1., 7., 2.])"
      ]
     },
     "execution_count": 124,
     "metadata": {},
     "output_type": "execute_result"
    }
   ],
   "source": [
    "output_y2 = np.zeros(y_final.shape[0])\n",
    "\n",
    "for i in range(y_final.shape[0]):\n",
    "    for j in range(y_final.shape[1]):\n",
    "        if y_final[i, j] >= max(y_final[i, ]):\n",
    "            output_y2[i] = j\n",
    "\n",
    "output_y2"
   ]
  },
  {
   "cell_type": "code",
   "execution_count": 125,
   "id": "4018afb5",
   "metadata": {},
   "outputs": [],
   "source": [
    "for i in range(len(file_name)):\n",
    "    path = data_path + '\\\\' + file_name[i]\n",
    "    txt_name = os.path.splitext(file_name[i].split('.')[0])[0]\n",
    "\n",
    "    with open('711033123new.txt', 'a+') as f:\n",
    "        f.write(txt_name + ' ' + str(int(output_y2[i])) + '\\n')"
   ]
  },
  {
   "cell_type": "code",
   "execution_count": null,
   "id": "189d1949",
   "metadata": {},
   "outputs": [],
   "source": []
  }
 ],
 "metadata": {
  "interpreter": {
   "hash": "91c9659ac2f1581738eab8b8fe885b211314b5a33fdc0e566a03c4cdc3e2fc69"
  },
  "kernelspec": {
   "display_name": "Python 3.9.12 ('tensorflow')",
   "language": "python",
   "name": "python3"
  },
  "language_info": {
   "codemirror_mode": {
    "name": "ipython",
    "version": 3
   },
   "file_extension": ".py",
   "mimetype": "text/x-python",
   "name": "python",
   "nbconvert_exporter": "python",
   "pygments_lexer": "ipython3",
   "version": "3.9.12"
  }
 },
 "nbformat": 4,
 "nbformat_minor": 5
}
